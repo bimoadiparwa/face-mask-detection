{
 "cells": [
  {
   "cell_type": "markdown",
   "metadata": {},
   "source": [
    "# Face Mask Detection"
   ]
  },
  {
   "cell_type": "markdown",
   "metadata": {},
   "source": [
    "## Introduction"
   ]
  },
  {
   "cell_type": "markdown",
   "metadata": {},
   "source": [
    "In this notebook, I'll show you how to create a custom dataset for both YOLO-based object detection and Vision Transformer (ViT) Transformers-based face mask classification using the face mask detection dataset from Kaggle. This dataset contains images of people with, without masks, and mask weared incorrect, along with annotations specifying the location of faces and labels indicating mask-wearing status.\n",
    "\n",
    "We'll explore two different approaches to utilize this dataset: one for YOLO-based object detection and another for ViT Transformers-based face mask classification. YOLO-based object detection will enable us to detect and localize faces with masks, while ViT Transformers will allow us to classify whether a person is wearing a mask or not."
   ]
  },
  {
   "cell_type": "markdown",
   "metadata": {},
   "source": [
    "## Setup"
   ]
  },
  {
   "cell_type": "markdown",
   "metadata": {},
   "source": [
    "First, make sure you have all the necessary libraries installed. These include; \n",
    "- pandas\n",
    "- matplotlib==3.8.4\n",
    "- scikit-learn==1.4.2\n",
    "- pyyaml==6.0.1\n",
    "- pillow==10.3.0\n",
    "- ultralytics==8.0.208\n",
    "- transformers==4.40.1\n",
    "- datasets==2.19.1\n",
    "\n",
    "Here to install the libraries,\n",
    "```\n",
    "!pip install pandas scikit-learn==1.4.2 pyyaml==6.0.1 pillow==10.3.0 ultralytics==8.0.208 transformers==4.40.1 datasets==2.19.1\n",
    "\n",
    "```"
   ]
  },
  {
   "cell_type": "code",
   "execution_count": 1,
   "metadata": {},
   "outputs": [],
   "source": [
    "import os\n",
    "import glob\n",
    "import shutil\n",
    "import random\n",
    "import xml.etree.ElementTree as ET\n",
    "import yaml\n",
    "from PIL import Image\n",
    "from sklearn.model_selection import train_test_split\n",
    "import numpy as np\n",
    "import pandas as pd"
   ]
  },
  {
   "cell_type": "markdown",
   "metadata": {},
   "source": [
    "## Dataset Preparation"
   ]
  },
  {
   "cell_type": "markdown",
   "metadata": {},
   "source": [
    "1. Download the face mask detection dataset from [Kaggle](https://www.kaggle.com/datasets/andrewmvd/face-mask-detection/).\n",
    "2. Extract the dataset files into a directory structure containing images and annotations."
   ]
  },
  {
   "cell_type": "markdown",
   "metadata": {},
   "source": [
    "### Download face mask detection dataset\n",
    "\n",
    "```\n",
    "!wget -o face_mask_dataset.zip https://www.kaggle.com/datasets/andrewmvd/face-mask-detection/download?datasetVersionNumber=1\n",
    "```"
   ]
  },
  {
   "cell_type": "markdown",
   "metadata": {},
   "source": [
    "### Extract downloaded dataset\n",
    "\n",
    "```\n",
    "unzip face_mask_dataset.zip -d face_mask_dataset\n",
    "```"
   ]
  },
  {
   "cell_type": "markdown",
   "metadata": {},
   "source": [
    "### Dataset Generator"
   ]
  },
  {
   "cell_type": "markdown",
   "metadata": {},
   "source": [
    "Here's breakdown of the process:\n",
    "1. Dataset Loading and Preparation:\n",
    "- The code loads image files and corresponding annotations from the dataset directory.\n",
    "- It extracts image paths and annotation paths from the specified directory structure.\n",
    "- The dataset is organized into images and annotations, which are used for further processing.\n",
    "2. Data Transformation and Annotation Handling:\n",
    "- The code processes annotations to extract bounding box coordinates and class labels for each object (e.g., face with or without a mask).\n",
    "- Image annotations are converted into YOLO format, which includes class labels and bounding box coordinates normalized to image dimensions.\n",
    "3.Dataset Splitting:\n",
    "- The dataset is split into training, validation, and test sets using the train_test_split.\n",
    "- The splitting process ensures that images and corresponding annotations are kept together in their respective sets.\n",
    "4. Dataset Saving:\n",
    "- The processed dataset is saved in a directory structure suitable for YOLO-based object detection.\n",
    "- Images are saved in the images directory, and annotations are saved in the labels directory, with corresponding file names.\n",
    "5. Configuration File Creation:\n",
    "- A configuration file is generated to specify the paths to the train, validation, and test sets, along with other parameters required for model training.\n",
    "- This configuration file is saved in YAML format and contains essential information for training the YOLO model."
   ]
  },
  {
   "cell_type": "code",
   "execution_count": 2,
   "metadata": {},
   "outputs": [],
   "source": [
    "class DatasetGenerator:\n",
    "    def __init__(self, data_dir: str):\n",
    "        self.data_dir = data_dir\n",
    "        self.images_path = self._load_images()\n",
    "        self.annotations_path = self._load_annotations()\n",
    "        self.labels_dict = {\n",
    "            \"with_mask\": 0,\n",
    "            \"without_mask\": 1,\n",
    "            \"mask_weared_incorrect\": 2,\n",
    "        }\n",
    "        self.images, self.labels = self._extract_dataset_(self.annotations_path)\n",
    "\n",
    "    def __len__(self) -> int:\n",
    "        return len(self.labels)\n",
    "\n",
    "    def __getitem__(self, index: int) -> tuple:\n",
    "        image = self.images[index]\n",
    "        label = self.labels[index]\n",
    "        return image, label\n",
    "\n",
    "    def to_dict(self) -> dict:\n",
    "        return dict(image=self.images, labels=self.labels)\n",
    "\n",
    "    def _extract_dataset_(self, annotation_path: list[str])->tuple[list, list]:\n",
    "        images = []\n",
    "        labels = []\n",
    "        for annotation in annotation_path:\n",
    "            data = self._get_annotations(annotation)\n",
    "            image = Image.open(data[\"image_path\"]).convert(\"RGB\")\n",
    "            for bbox, label in zip(data[\"bbox\"], data[\"labels\"]):\n",
    "                roi = image.crop(bbox)\n",
    "                images.append(roi)\n",
    "                labels.append(label)\n",
    "\n",
    "        return images, labels\n",
    "\n",
    "    def _load_images(self)->list[str]:\n",
    "        return glob.glob(os.path.join(self.data_dir, \"images\", \"*.*\"))\n",
    "\n",
    "    def _load_annotations(self)->list[str]:\n",
    "        return glob.glob(os.path.join(self.data_dir, \"annotations\", \"*.xml\"))\n",
    "\n",
    "    def _convert_coordinates(self, size: tuple, box: tuple) -> list[float]:\n",
    "        xmin, ymin, xmax, ymax = box\n",
    "        dw, dh = 1.0 / size[0], 1.0 / size[1]\n",
    "        x = xmin\n",
    "        y = ymin\n",
    "        w = xmax - xmin\n",
    "        h = ymax - ymin\n",
    "        x *= dw\n",
    "        y *= dh\n",
    "        w *= dw\n",
    "        h *= dh\n",
    "        return [x, y, w, h]\n",
    "\n",
    "    def _get_annotations(self, annotation_path: str) -> dict:\n",
    "        tree = ET.parse(annotation_path)\n",
    "        root = tree.getroot()\n",
    "        image_dir = root.find(\"folder\").text\n",
    "        filename = root.find(\"filename\").text\n",
    "        image_path = os.path.join(self.data_dir, image_dir, filename)\n",
    "        size = root.find(\"size\")\n",
    "        width, height = int(size.find(\"width\").text), int(size.find(\"height\").text)\n",
    "        bboxes, labels = [], []\n",
    "        yolo_annotations = []\n",
    "\n",
    "        for obj in root.findall(\"object\"):\n",
    "            label = obj.find(\"name\").text\n",
    "            label_id = self.labels_dict[label]\n",
    "            bbox = obj.find(\"bndbox\")\n",
    "            xmin, ymin, xmax, ymax = (\n",
    "                int(bbox.find(c).text) for c in [\"xmin\", \"ymin\", \"xmax\", \"ymax\"]\n",
    "            )\n",
    "            box = (xmin, ymin, xmax, ymax)\n",
    "            bboxes.append(box)\n",
    "            labels.append(label_id)\n",
    "\n",
    "            xywh_box = self._convert_coordinates((width, height), box)\n",
    "            xywh_box = \" \".join([str(item) for item in xywh_box])\n",
    "\n",
    "            yolo_annotations.append([str(label_id), xywh_box])\n",
    "\n",
    "        return {\n",
    "            \"image_path\": image_path,\n",
    "            \"bbox\": bboxes,\n",
    "            \"labels\": labels,\n",
    "            \"size\": (width, height),\n",
    "            \"yolo_annotations\": yolo_annotations,\n",
    "        }\n",
    "\n",
    "    def _save_annotations(self, annotations: list, filepath: str) -> None:\n",
    "        with open(filepath, \"w\") as f:\n",
    "            for annotation in annotations:\n",
    "                line = \" \".join([str(ann) for ann in annotation])\n",
    "                f.write(line + \"\\n\")\n",
    "\n",
    "    def create_dataset_yolo(self, save_dir: str, config_file: str):\n",
    "        train, val, test = self.split_dataset()\n",
    "        train_annotations = [\n",
    "            self._get_annotations(annotation_path)[\"yolo_annotations\"]\n",
    "            for annotation_path in train[1]\n",
    "        ]\n",
    "\n",
    "        val_annotations = [\n",
    "            self._get_annotations(annotation_path)[\"yolo_annotations\"]\n",
    "            for annotation_path in val[1]\n",
    "        ]\n",
    "        test_annotations = [\n",
    "            self._get_annotations(annotation_path)[\"yolo_annotations\"]\n",
    "            for annotation_path in test[1]\n",
    "        ]\n",
    "\n",
    "        def _save_dataset(data: tuple, split: str):\n",
    "            dataset_dir = os.path.join(save_dir, split)\n",
    "            os.makedirs(dataset_dir, exist_ok=True)\n",
    "            images_dir = os.path.join(dataset_dir, \"images\")\n",
    "            os.makedirs(images_dir, exist_ok=True)\n",
    "            annotations_dir = os.path.join(dataset_dir, \"labels\")\n",
    "            os.makedirs(annotations_dir, exist_ok=True)\n",
    "            for i, (image_path, annotation) in enumerate(zip(data[0], data[1])):\n",
    "                image_name = image_path.split(\"/\")[-1]\n",
    "                annotation_name = image_name[:-3] + \"txt\"\n",
    "                shutil.copy(image_path, os.path.join(images_dir, image_name))\n",
    "                print(f'Successfully created {os.path.join(images_dir, image_name)}')\n",
    "                self._save_annotations(\n",
    "                    annotation, os.path.join(annotations_dir, annotation_name)\n",
    "                )\n",
    "                print(f'Successfully created {os.path.join(annotations_dir, annotation_name)}')\n",
    "                \n",
    "\n",
    "        _save_dataset((train[0], train_annotations), \"train\")\n",
    "        _save_dataset((val[0], val_annotations), \"val\")\n",
    "        _save_dataset((test[0], test_annotations), \"test\")\n",
    "\n",
    "        config = {\n",
    "            \"train\": os.path.join(os.getcwd(), save_dir, \"train\", \"images\"),\n",
    "            \"val\": os.path.join(os.getcwd(), save_dir, \"val\", \"images\"),\n",
    "            \"test\": os.path.join(os.getcwd(), save_dir, \"test\", \"images\"),\n",
    "            \"nc\": 3,\n",
    "            \"names\": [\"with_mask\", \"without_mask\", \"mask_weared_incorrect\"],\n",
    "        }\n",
    "\n",
    "        with open(f\"{save_dir}/{config_file}.yaml\", \"w\") as yaml_file:\n",
    "            yaml.dump(config, yaml_file, default_flow_style=False, sort_keys=False)\n",
    "            print(f'Successfully created data config file {save_dir}/{config_file}.yaml')\n",
    "\n",
    "    def split_dataset(self, split_size: float = 0.1, random_seed: int = 42) -> tuple:\n",
    "        train_images, val_images, train_annotations, val_annotations = train_test_split(\n",
    "            self.images_path, self.annotations_path, test_size=split_size, random_state=random_seed\n",
    "        )\n",
    "        train_images, test_images, train_annotations, test_annotations = train_test_split(\n",
    "            train_images, train_annotations, test_size=split_size, random_state=random_seed\n",
    "        )\n",
    "\n",
    "        return (\n",
    "            (train_images, train_annotations),\n",
    "            (val_images, val_annotations),\n",
    "            (test_images, test_annotations),\n",
    "        )"
   ]
  },
  {
   "cell_type": "markdown",
   "metadata": {},
   "source": [
    "## Face Mask Detection Using YOLOv8"
   ]
  },
  {
   "cell_type": "markdown",
   "metadata": {},
   "source": [
    "### Import the library **Ultralytics**"
   ]
  },
  {
   "cell_type": "code",
   "execution_count": 3,
   "metadata": {},
   "outputs": [],
   "source": [
    "from ultralytics import YOLO"
   ]
  },
  {
   "cell_type": "markdown",
   "metadata": {},
   "source": [
    "### Generate and create dataset using class DatasetGenerator"
   ]
  },
  {
   "cell_type": "code",
   "execution_count": 4,
   "metadata": {},
   "outputs": [],
   "source": [
    "DATASET_DIR = 'face_mask_dataset'"
   ]
  },
  {
   "cell_type": "code",
   "execution_count": 5,
   "metadata": {},
   "outputs": [],
   "source": [
    "# dataset = DatasetGenerator(DATASET_DIR)\n",
    "# dataset.create_dataset_yolo(save_dir='face_mask_dataset_yolo', config_file='data')"
   ]
  },
  {
   "cell_type": "markdown",
   "metadata": {},
   "source": [
    "### Model Development"
   ]
  },
  {
   "cell_type": "code",
   "execution_count": 6,
   "metadata": {},
   "outputs": [],
   "source": [
    "class YOLOTrainer:\n",
    "    def __init__(self, model_path: str, data_path: str, project_name: str, hyp_path: str):\n",
    "        self.model_path = model_path\n",
    "        self.hyp_path = hyp_path\n",
    "        self.data_path = data_path\n",
    "        self.project_name = project_name\n",
    "        self.hyperparameters = None\n",
    "        self.model = None\n",
    "\n",
    "    def load_model(self):\n",
    "        self.model = YOLO(self.model_path)\n",
    "\n",
    "    def load_hyperparameters(self):\n",
    "        with open(self.hyp_path, 'r') as f:\n",
    "            hyperparameters = yaml.safe_load(f)\n",
    "        self.hyperparameters = hyperparameters\n",
    "\n",
    "    def train(self, epochs: int, batch_size: int, optimizer: str = 'SGD', pretrained: bool = True):\n",
    "        self.model.train(\n",
    "            data=self.data_path,\n",
    "            epochs=epochs,\n",
    "            batch=batch_size,\n",
    "            project=self.project_name,\n",
    "            optimizer=optimizer,\n",
    "            pretrained=pretrained,\n",
    "            ** self.hyperparameters\n",
    "        )\n",
    "\n",
    "    def evaluate(self, validation_data: str):\n",
    "        metrics = self.model.val(data=validation_data)\n",
    "        return metrics\n",
    "\n",
    "    def save_model(self, output_path: str):\n",
    "        self.model.save(output_path)"
   ]
  },
  {
   "cell_type": "markdown",
   "metadata": {},
   "source": [
    "### Model Training"
   ]
  },
  {
   "cell_type": "code",
   "execution_count": 7,
   "metadata": {},
   "outputs": [],
   "source": [
    "trainer = YOLOTrainer(data_path='./yolo_format/data.yaml', model_path='yolov8n.pt', hyp_path='hyperparameters.yaml', project_name='face_mask_detection_yolov8')"
   ]
  },
  {
   "cell_type": "code",
   "execution_count": 8,
   "metadata": {},
   "outputs": [],
   "source": [
    "trainer.load_model()"
   ]
  },
  {
   "cell_type": "code",
   "execution_count": 9,
   "metadata": {},
   "outputs": [],
   "source": [
    "trainer.load_hyperparameters()"
   ]
  },
  {
   "cell_type": "code",
   "execution_count": 10,
   "metadata": {},
   "outputs": [
    {
     "name": "stdout",
     "output_type": "stream",
     "text": [
      "New https://pypi.org/project/ultralytics/8.2.13 available 😃 Update with 'pip install -U ultralytics'\n",
      "Ultralytics YOLOv8.2.11 🚀 Python-3.10.4 torch-2.3.0+cu121 CUDA:0 (NVIDIA GeForce RTX 4080, 16079MiB)\n",
      "\u001b[34m\u001b[1mengine/trainer: \u001b[0mtask=detect, mode=train, model=yolov8n.pt, data=./yolo_format/data.yaml, epochs=100, time=None, patience=100, batch=64, imgsz=640, save=True, save_period=-1, cache=False, device=None, workers=8, project=face_mask_detection_yolov8, name=train6, exist_ok=False, pretrained=True, optimizer=SGD, verbose=True, seed=0, deterministic=True, single_cls=False, rect=False, cos_lr=False, close_mosaic=15, resume=False, amp=True, fraction=1.0, profile=False, freeze=None, multi_scale=False, overlap_mask=True, mask_ratio=4, dropout=0.0, val=True, split=val, save_json=False, save_hybrid=False, conf=None, iou=0.5, max_det=300, half=False, dnn=False, plots=True, source=None, vid_stride=1, stream_buffer=False, visualize=False, augment=False, agnostic_nms=False, classes=None, retina_masks=False, embed=None, show=False, save_frames=False, save_txt=False, save_conf=False, save_crop=False, show_labels=True, show_conf=True, show_boxes=True, line_width=None, format=torchscript, keras=False, optimize=False, int8=False, dynamic=False, simplify=False, opset=None, workspace=4, nms=False, lr0=0.01, lrf=0.0005, momentum=0.937, weight_decay=0.0005, warmup_epochs=3.0, warmup_momentum=0.8, warmup_bias_lr=0.1, box=7.5, cls=0.5, dfl=1.5, pose=12.0, kobj=1.0, label_smoothing=0.0, nbs=64, hsv_h=0.015, hsv_s=0.7, hsv_v=0.4, degrees=0.0, translate=0.1, scale=0.9, shear=0.0, perspective=0.0, flipud=0.0, fliplr=0.5, bgr=0.0, mosaic=1.0, mixup=0.15, copy_paste=0.3, auto_augment=randaugment, erasing=0.4, crop_fraction=1.0, cfg=None, tracker=botsort.yaml, save_dir=face_mask_detection_yolov8/train6\n",
      "Overriding model.yaml nc=80 with nc=3\n",
      "\n",
      "                   from  n    params  module                                       arguments                     \n",
      "  0                  -1  1       464  ultralytics.nn.modules.conv.Conv             [3, 16, 3, 2]                 \n",
      "  1                  -1  1      4672  ultralytics.nn.modules.conv.Conv             [16, 32, 3, 2]                \n",
      "  2                  -1  1      7360  ultralytics.nn.modules.block.C2f             [32, 32, 1, True]             \n",
      "  3                  -1  1     18560  ultralytics.nn.modules.conv.Conv             [32, 64, 3, 2]                \n",
      "  4                  -1  2     49664  ultralytics.nn.modules.block.C2f             [64, 64, 2, True]             \n",
      "  5                  -1  1     73984  ultralytics.nn.modules.conv.Conv             [64, 128, 3, 2]               \n",
      "  6                  -1  2    197632  ultralytics.nn.modules.block.C2f             [128, 128, 2, True]           \n",
      "  7                  -1  1    295424  ultralytics.nn.modules.conv.Conv             [128, 256, 3, 2]              \n",
      "  8                  -1  1    460288  ultralytics.nn.modules.block.C2f             [256, 256, 1, True]           \n",
      "  9                  -1  1    164608  ultralytics.nn.modules.block.SPPF            [256, 256, 5]                 \n",
      " 10                  -1  1         0  torch.nn.modules.upsampling.Upsample         [None, 2, 'nearest']          \n",
      " 11             [-1, 6]  1         0  ultralytics.nn.modules.conv.Concat           [1]                           \n",
      " 12                  -1  1    148224  ultralytics.nn.modules.block.C2f             [384, 128, 1]                 \n",
      " 13                  -1  1         0  torch.nn.modules.upsampling.Upsample         [None, 2, 'nearest']          \n",
      " 14             [-1, 4]  1         0  ultralytics.nn.modules.conv.Concat           [1]                           \n",
      " 15                  -1  1     37248  ultralytics.nn.modules.block.C2f             [192, 64, 1]                  \n",
      " 16                  -1  1     36992  ultralytics.nn.modules.conv.Conv             [64, 64, 3, 2]                \n",
      " 17            [-1, 12]  1         0  ultralytics.nn.modules.conv.Concat           [1]                           \n",
      " 18                  -1  1    123648  ultralytics.nn.modules.block.C2f             [192, 128, 1]                 \n",
      " 19                  -1  1    147712  ultralytics.nn.modules.conv.Conv             [128, 128, 3, 2]              \n",
      " 20             [-1, 9]  1         0  ultralytics.nn.modules.conv.Concat           [1]                           \n",
      " 21                  -1  1    493056  ultralytics.nn.modules.block.C2f             [384, 256, 1]                 \n",
      " 22        [15, 18, 21]  1    751897  ultralytics.nn.modules.head.Detect           [3, [64, 128, 256]]           \n",
      "Model summary: 225 layers, 3011433 parameters, 3011417 gradients, 8.2 GFLOPs\n",
      "\n",
      "Transferred 319/355 items from pretrained weights\n",
      "Freezing layer 'model.22.dfl.conv.weight'\n",
      "\u001b[34m\u001b[1mAMP: \u001b[0mrunning Automatic Mixed Precision (AMP) checks with YOLOv8n...\n"
     ]
    },
    {
     "name": "stderr",
     "output_type": "stream",
     "text": [
      "/home/aidev6-pc/anaconda3/envs/face_mask_det.python3.10/lib/python3.10/site-packages/tqdm/auto.py:21: TqdmWarning: IProgress not found. Please update jupyter and ipywidgets. See https://ipywidgets.readthedocs.io/en/stable/user_install.html\n",
      "  from .autonotebook import tqdm as notebook_tqdm\n"
     ]
    },
    {
     "name": "stdout",
     "output_type": "stream",
     "text": [
      "\u001b[34m\u001b[1mAMP: \u001b[0mchecks passed ✅\n"
     ]
    },
    {
     "name": "stderr",
     "output_type": "stream",
     "text": [
      "/home/aidev6-pc/anaconda3/envs/face_mask_det.python3.10/lib/python3.10/site-packages/torch/nn/modules/conv.py:456: UserWarning: Plan failed with a cudnnException: CUDNN_BACKEND_EXECUTION_PLAN_DESCRIPTOR: cudnnFinalize Descriptor Failed cudnn_status: CUDNN_STATUS_NOT_SUPPORTED (Triggered internally at ../aten/src/ATen/native/cudnn/Conv_v8.cpp:919.)\n",
      "  return F.conv2d(input, weight, bias, self.stride,\n",
      "\u001b[34m\u001b[1mtrain: \u001b[0mScanning /home/aidev6-pc/dev/bimo/face_mask_detection/yolo_format/train/labels... 690 images, 0 backgrounds, 0 corrupt: 100%|██████████| 690/690 [00:00<00:00, 1808.37it/s]"
     ]
    },
    {
     "name": "stdout",
     "output_type": "stream",
     "text": [
      "\u001b[34m\u001b[1mtrain: \u001b[0mNew cache created: /home/aidev6-pc/dev/bimo/face_mask_detection/yolo_format/train/labels.cache\n"
     ]
    },
    {
     "name": "stderr",
     "output_type": "stream",
     "text": [
      "\n"
     ]
    },
    {
     "name": "stdout",
     "output_type": "stream",
     "text": [
      "\u001b[34m\u001b[1malbumentations: \u001b[0mBlur(p=0.01, blur_limit=(3, 7)), MedianBlur(p=0.01, blur_limit=(3, 7)), ToGray(p=0.01), CLAHE(p=0.01, clip_limit=(1, 4.0), tile_grid_size=(8, 8))\n"
     ]
    },
    {
     "name": "stderr",
     "output_type": "stream",
     "text": [
      "\u001b[34m\u001b[1mval: \u001b[0mScanning /home/aidev6-pc/dev/bimo/face_mask_detection/yolo_format/val/labels... 86 images, 0 backgrounds, 0 corrupt: 100%|██████████| 86/86 [00:00<00:00, 1359.33it/s]"
     ]
    },
    {
     "name": "stdout",
     "output_type": "stream",
     "text": [
      "\u001b[34m\u001b[1mval: \u001b[0mNew cache created: /home/aidev6-pc/dev/bimo/face_mask_detection/yolo_format/val/labels.cache\n"
     ]
    },
    {
     "name": "stderr",
     "output_type": "stream",
     "text": [
      "\n"
     ]
    },
    {
     "name": "stdout",
     "output_type": "stream",
     "text": [
      "Plotting labels to face_mask_detection_yolov8/train6/labels.jpg... \n"
     ]
    },
    {
     "name": "stderr",
     "output_type": "stream",
     "text": [
      "libpng warning: iCCP: Not recognizing known sRGB profile that has been edited\n",
      "libpng warning: iCCP: Not recognizing known sRGB profile that has been edited\n",
      "libpng warning: iCCP: Not recognizing known sRGB profile that has been edited\n",
      "libpng warning: iCCP: Not recognizing known sRGB profile that has been edited\n"
     ]
    },
    {
     "name": "stdout",
     "output_type": "stream",
     "text": [
      "\u001b[34m\u001b[1moptimizer:\u001b[0m SGD(lr=0.01, momentum=0.937) with parameter groups 57 weight(decay=0.0), 64 weight(decay=0.0005), 63 bias(decay=0.0)\n",
      "Image sizes 640 train, 640 val\n",
      "Using 8 dataloader workers\n",
      "Logging results to \u001b[1mface_mask_detection_yolov8/train6\u001b[0m\n",
      "Starting training for 100 epochs...\n",
      "\n",
      "      Epoch    GPU_mem   box_loss   cls_loss   dfl_loss  Instances       Size\n"
     ]
    },
    {
     "name": "stderr",
     "output_type": "stream",
     "text": [
      "  0%|          | 0/11 [00:00<?, ?it/s]libpng warning: iCCP: Not recognizing known sRGB profile that has been edited\n",
      "libpng warning: iCCP: Not recognizing known sRGB profile that has been edited\n",
      "libpng warning: iCCP: Not recognizing known sRGB profile that has been edited\n",
      "libpng warning: iCCP: Not recognizing known sRGB profile that has been edited\n",
      "libpng warning: iCCP: Not recognizing known sRGB profile that has been edited\n",
      "libpng warning: iCCP: Not recognizing known sRGB profile that has been edited\n",
      "libpng warning: iCCP: Not recognizing known sRGB profile that has been edited\n",
      "libpng warning: iCCP: Not recognizing known sRGB profile that has been edited\n",
      "libpng warning: iCCP: Not recognizing known sRGB profile that has been edited\n",
      "libpng warning: iCCP: Not recognizing known sRGB profile that has been edited\n",
      "libpng warning: iCCP: Not recognizing known sRGB profile that has been edited\n",
      "libpng warning: iCCP: Not recognizing known sRGB profile that has been edited\n",
      "libpng warning: iCCP: Not recognizing known sRGB profile that has been edited\n",
      "libpng warning: iCCP: Not recognizing known sRGB profile that has been edited\n",
      "libpng warning: iCCP: Not recognizing known sRGB profile that has been edited\n",
      "libpng warning: iCCP: Not recognizing known sRGB profile that has been edited\n",
      "libpng warning: iCCP: Not recognizing known sRGB profile that has been edited\n",
      "libpng warning: iCCP: Not recognizing known sRGB profile that has been edited\n",
      "libpng warning: iCCP: Not recognizing known sRGB profile that has been edited\n",
      "libpng warning: iCCP: Not recognizing known sRGB profile that has been edited\n",
      "libpng warning: iCCP: Not recognizing known sRGB profile that has been edited\n",
      "libpng warning: iCCP: Not recognizing known sRGB profile that has been edited\n",
      "libpng warning: iCCP: Not recognizing known sRGB profile that has been edited\n",
      "/home/aidev6-pc/anaconda3/envs/face_mask_det.python3.10/lib/python3.10/site-packages/torch/nn/modules/conv.py:456: UserWarning: Plan failed with a cudnnException: CUDNN_BACKEND_EXECUTION_PLAN_DESCRIPTOR: cudnnFinalize Descriptor Failed cudnn_status: CUDNN_STATUS_NOT_SUPPORTED (Triggered internally at ../aten/src/ATen/native/cudnn/Conv_v8.cpp:919.)\n",
      "  return F.conv2d(input, weight, bias, self.stride,\n",
      "libpng warning: iCCP: Not recognizing known sRGB profile that has been edited\n",
      "libpng warning: iCCP: Not recognizing known sRGB profile that has been edited\n",
      "libpng warning: iCCP: Not recognizing known sRGB profile that has been edited\n",
      "libpng warning: iCCP: Not recognizing known sRGB profile that has been edited\n",
      "libpng warning: iCCP: Not recognizing known sRGB profile that has been edited\n",
      "      1/100      10.4G      2.524      4.292      1.992        432        640: 100%|██████████| 11/11 [00:06<00:00,  1.63it/s]\n",
      "                 Class     Images  Instances      Box(P          R      mAP50  mAP50-95): 100%|██████████| 1/1 [00:00<00:00,  3.26it/s]"
     ]
    },
    {
     "name": "stdout",
     "output_type": "stream",
     "text": [
      "                   all         86        535    0.00193      0.104    0.00139   0.000432\n"
     ]
    },
    {
     "name": "stderr",
     "output_type": "stream",
     "text": [
      "\n"
     ]
    },
    {
     "name": "stdout",
     "output_type": "stream",
     "text": [
      "\n",
      "      Epoch    GPU_mem   box_loss   cls_loss   dfl_loss  Instances       Size\n"
     ]
    },
    {
     "name": "stderr",
     "output_type": "stream",
     "text": [
      "libpng warning: iCCP: Not recognizing known sRGB profile that has been edited\n",
      "      2/100      10.2G      1.751      3.413      1.383        402        640: 100%|██████████| 11/11 [00:01<00:00,  6.16it/s]\n",
      "                 Class     Images  Instances      Box(P          R      mAP50  mAP50-95): 100%|██████████| 1/1 [00:00<00:00,  3.99it/s]"
     ]
    },
    {
     "name": "stdout",
     "output_type": "stream",
     "text": [
      "                   all         86        535     0.0077      0.292      0.126     0.0667\n"
     ]
    },
    {
     "name": "stderr",
     "output_type": "stream",
     "text": [
      "\n"
     ]
    },
    {
     "name": "stdout",
     "output_type": "stream",
     "text": [
      "\n",
      "      Epoch    GPU_mem   box_loss   cls_loss   dfl_loss  Instances       Size\n"
     ]
    },
    {
     "name": "stderr",
     "output_type": "stream",
     "text": [
      "libpng warning: iCCP: Not recognizing known sRGB profile that has been edited\n",
      "      3/100      9.98G       1.46      1.961      1.191        635        640: 100%|██████████| 11/11 [00:01<00:00,  6.22it/s]\n",
      "                 Class     Images  Instances      Box(P          R      mAP50  mAP50-95): 100%|██████████| 1/1 [00:00<00:00,  4.80it/s]"
     ]
    },
    {
     "name": "stdout",
     "output_type": "stream",
     "text": [
      "                   all         86        535     0.0103      0.458      0.243      0.149\n"
     ]
    },
    {
     "name": "stderr",
     "output_type": "stream",
     "text": [
      "\n"
     ]
    },
    {
     "name": "stdout",
     "output_type": "stream",
     "text": [
      "\n",
      "      Epoch    GPU_mem   box_loss   cls_loss   dfl_loss  Instances       Size\n"
     ]
    },
    {
     "name": "stderr",
     "output_type": "stream",
     "text": [
      "libpng warning: iCCP: Not recognizing known sRGB profile that has been edited\n",
      "      4/100      10.6G      1.437      1.637      1.132        466        640: 100%|██████████| 11/11 [00:01<00:00,  6.06it/s]\n",
      "                 Class     Images  Instances      Box(P          R      mAP50  mAP50-95): 100%|██████████| 1/1 [00:00<00:00,  5.11it/s]\n"
     ]
    },
    {
     "name": "stdout",
     "output_type": "stream",
     "text": [
      "                   all         86        535     0.0137      0.645      0.251      0.156\n"
     ]
    },
    {
     "name": "stderr",
     "output_type": "stream",
     "text": [
      "libpng warning: iCCP: Not recognizing known sRGB profile that has been edited\n"
     ]
    },
    {
     "name": "stdout",
     "output_type": "stream",
     "text": [
      "\n",
      "      Epoch    GPU_mem   box_loss   cls_loss   dfl_loss  Instances       Size\n"
     ]
    },
    {
     "name": "stderr",
     "output_type": "stream",
     "text": [
      "      5/100      11.6G      1.374      1.442      1.091        618        640: 100%|██████████| 11/11 [00:01<00:00,  6.11it/s]\n",
      "                 Class     Images  Instances      Box(P          R      mAP50  mAP50-95): 100%|██████████| 1/1 [00:00<00:00,  5.18it/s]\n"
     ]
    },
    {
     "name": "stdout",
     "output_type": "stream",
     "text": [
      "                   all         86        535     0.0218      0.675      0.292      0.187\n",
      "\n",
      "      Epoch    GPU_mem   box_loss   cls_loss   dfl_loss  Instances       Size\n"
     ]
    },
    {
     "name": "stderr",
     "output_type": "stream",
     "text": [
      "libpng warning: iCCP: Not recognizing known sRGB profile that has been edited\n",
      "      6/100      9.23G      1.389      1.336      1.081        446        640: 100%|██████████| 11/11 [00:01<00:00,  6.19it/s]\n",
      "                 Class     Images  Instances      Box(P          R      mAP50  mAP50-95): 100%|██████████| 1/1 [00:00<00:00,  5.30it/s]"
     ]
    },
    {
     "name": "stdout",
     "output_type": "stream",
     "text": [
      "                   all         86        535      0.024      0.689      0.322        0.2\n"
     ]
    },
    {
     "name": "stderr",
     "output_type": "stream",
     "text": [
      "\n",
      "libpng warning: iCCP: Not recognizing known sRGB profile that has been edited\n"
     ]
    },
    {
     "name": "stdout",
     "output_type": "stream",
     "text": [
      "\n",
      "      Epoch    GPU_mem   box_loss   cls_loss   dfl_loss  Instances       Size\n"
     ]
    },
    {
     "name": "stderr",
     "output_type": "stream",
     "text": [
      "      7/100      10.7G       1.36      1.239      1.068        613        640: 100%|██████████| 11/11 [00:01<00:00,  5.90it/s]\n",
      "                 Class     Images  Instances      Box(P          R      mAP50  mAP50-95): 100%|██████████| 1/1 [00:00<00:00,  4.30it/s]"
     ]
    },
    {
     "name": "stdout",
     "output_type": "stream",
     "text": [
      "                   all         86        535      0.991      0.109      0.318      0.191\n"
     ]
    },
    {
     "name": "stderr",
     "output_type": "stream",
     "text": [
      "\n",
      "libpng warning: iCCP: Not recognizing known sRGB profile that has been edited\n"
     ]
    },
    {
     "name": "stdout",
     "output_type": "stream",
     "text": [
      "\n",
      "      Epoch    GPU_mem   box_loss   cls_loss   dfl_loss  Instances       Size\n"
     ]
    },
    {
     "name": "stderr",
     "output_type": "stream",
     "text": [
      "      8/100      10.7G      1.342      1.172      1.065        387        640: 100%|██████████| 11/11 [00:01<00:00,  5.69it/s]\n",
      "                 Class     Images  Instances      Box(P          R      mAP50  mAP50-95): 100%|██████████| 1/1 [00:00<00:00,  4.29it/s]"
     ]
    },
    {
     "name": "stdout",
     "output_type": "stream",
     "text": [
      "                   all         86        535      0.562      0.142      0.405      0.235\n"
     ]
    },
    {
     "name": "stderr",
     "output_type": "stream",
     "text": [
      "\n",
      "libpng warning: iCCP: Not recognizing known sRGB profile that has been edited\n"
     ]
    },
    {
     "name": "stdout",
     "output_type": "stream",
     "text": [
      "\n",
      "      Epoch    GPU_mem   box_loss   cls_loss   dfl_loss  Instances       Size\n"
     ]
    },
    {
     "name": "stderr",
     "output_type": "stream",
     "text": [
      "      9/100       9.4G      1.364      1.177      1.067        452        640: 100%|██████████| 11/11 [00:01<00:00,  5.75it/s]\n",
      "                 Class     Images  Instances      Box(P          R      mAP50  mAP50-95): 100%|██████████| 1/1 [00:00<00:00,  4.27it/s]"
     ]
    },
    {
     "name": "stdout",
     "output_type": "stream",
     "text": [
      "                   all         86        535      0.953      0.253      0.468      0.286\n"
     ]
    },
    {
     "name": "stderr",
     "output_type": "stream",
     "text": [
      "\n",
      "libpng warning: iCCP: Not recognizing known sRGB profile that has been edited\n"
     ]
    },
    {
     "name": "stdout",
     "output_type": "stream",
     "text": [
      "\n",
      "      Epoch    GPU_mem   box_loss   cls_loss   dfl_loss  Instances       Size\n"
     ]
    },
    {
     "name": "stderr",
     "output_type": "stream",
     "text": [
      "     10/100      9.95G      1.329      1.123      1.043        555        640: 100%|██████████| 11/11 [00:01<00:00,  6.13it/s]\n",
      "                 Class     Images  Instances      Box(P          R      mAP50  mAP50-95): 100%|██████████| 1/1 [00:00<00:00,  5.14it/s]\n"
     ]
    },
    {
     "name": "stdout",
     "output_type": "stream",
     "text": [
      "                   all         86        535      0.603      0.424      0.503       0.29\n",
      "\n",
      "      Epoch    GPU_mem   box_loss   cls_loss   dfl_loss  Instances       Size\n"
     ]
    },
    {
     "name": "stderr",
     "output_type": "stream",
     "text": [
      "libpng warning: iCCP: Not recognizing known sRGB profile that has been edited\n",
      "     11/100      10.6G      1.314      1.105      1.045        397        640: 100%|██████████| 11/11 [00:01<00:00,  6.10it/s]\n",
      "                 Class     Images  Instances      Box(P          R      mAP50  mAP50-95): 100%|██████████| 1/1 [00:00<00:00,  5.32it/s]"
     ]
    },
    {
     "name": "stdout",
     "output_type": "stream",
     "text": [
      "                   all         86        535      0.525      0.388      0.445      0.266\n"
     ]
    },
    {
     "name": "stderr",
     "output_type": "stream",
     "text": [
      "\n"
     ]
    },
    {
     "name": "stdout",
     "output_type": "stream",
     "text": [
      "\n",
      "      Epoch    GPU_mem   box_loss   cls_loss   dfl_loss  Instances       Size\n"
     ]
    },
    {
     "name": "stderr",
     "output_type": "stream",
     "text": [
      "libpng warning: iCCP: Not recognizing known sRGB profile that has been edited\n",
      "     12/100        11G      1.314      1.073      1.047        546        640: 100%|██████████| 11/11 [00:01<00:00,  6.04it/s]\n",
      "                 Class     Images  Instances      Box(P          R      mAP50  mAP50-95): 100%|██████████| 1/1 [00:00<00:00,  5.26it/s]\n"
     ]
    },
    {
     "name": "stdout",
     "output_type": "stream",
     "text": [
      "                   all         86        535      0.577      0.454      0.506      0.288\n",
      "\n",
      "      Epoch    GPU_mem   box_loss   cls_loss   dfl_loss  Instances       Size\n"
     ]
    },
    {
     "name": "stderr",
     "output_type": "stream",
     "text": [
      "libpng warning: iCCP: Not recognizing known sRGB profile that has been edited\n",
      "     13/100      10.3G      1.285      1.064      1.036        605        640: 100%|██████████| 11/11 [00:01<00:00,  6.19it/s]\n",
      "                 Class     Images  Instances      Box(P          R      mAP50  mAP50-95): 100%|██████████| 1/1 [00:00<00:00,  5.42it/s]\n"
     ]
    },
    {
     "name": "stdout",
     "output_type": "stream",
     "text": [
      "                   all         86        535      0.832      0.359      0.427      0.241\n",
      "\n",
      "      Epoch    GPU_mem   box_loss   cls_loss   dfl_loss  Instances       Size\n"
     ]
    },
    {
     "name": "stderr",
     "output_type": "stream",
     "text": [
      "libpng warning: iCCP: Not recognizing known sRGB profile that has been edited\n",
      "     14/100      10.5G      1.265     0.9921       1.04        469        640: 100%|██████████| 11/11 [00:01<00:00,  6.22it/s]\n",
      "                 Class     Images  Instances      Box(P          R      mAP50  mAP50-95): 100%|██████████| 1/1 [00:00<00:00,  5.36it/s]"
     ]
    },
    {
     "name": "stdout",
     "output_type": "stream",
     "text": [
      "                   all         86        535      0.628      0.485        0.5      0.281\n"
     ]
    },
    {
     "name": "stderr",
     "output_type": "stream",
     "text": [
      "\n"
     ]
    },
    {
     "name": "stdout",
     "output_type": "stream",
     "text": [
      "\n",
      "      Epoch    GPU_mem   box_loss   cls_loss   dfl_loss  Instances       Size\n"
     ]
    },
    {
     "name": "stderr",
     "output_type": "stream",
     "text": [
      "libpng warning: iCCP: Not recognizing known sRGB profile that has been edited\n",
      "     15/100      9.77G      1.253     0.9639      1.032        543        640: 100%|██████████| 11/11 [00:01<00:00,  6.20it/s]\n",
      "                 Class     Images  Instances      Box(P          R      mAP50  mAP50-95): 100%|██████████| 1/1 [00:00<00:00,  4.85it/s]"
     ]
    },
    {
     "name": "stdout",
     "output_type": "stream",
     "text": [
      "                   all         86        535      0.843      0.476      0.513      0.285\n"
     ]
    },
    {
     "name": "stderr",
     "output_type": "stream",
     "text": [
      "\n",
      "libpng warning: iCCP: Not recognizing known sRGB profile that has been edited\n"
     ]
    },
    {
     "name": "stdout",
     "output_type": "stream",
     "text": [
      "\n",
      "      Epoch    GPU_mem   box_loss   cls_loss   dfl_loss  Instances       Size\n"
     ]
    },
    {
     "name": "stderr",
     "output_type": "stream",
     "text": [
      "     16/100        11G      1.244     0.9626       1.02        447        640: 100%|██████████| 11/11 [00:01<00:00,  6.07it/s]\n",
      "                 Class     Images  Instances      Box(P          R      mAP50  mAP50-95): 100%|██████████| 1/1 [00:00<00:00,  5.31it/s]\n"
     ]
    },
    {
     "name": "stdout",
     "output_type": "stream",
     "text": [
      "                   all         86        535      0.722      0.528      0.581       0.31\n",
      "\n",
      "      Epoch    GPU_mem   box_loss   cls_loss   dfl_loss  Instances       Size\n"
     ]
    },
    {
     "name": "stderr",
     "output_type": "stream",
     "text": [
      "libpng warning: iCCP: Not recognizing known sRGB profile that has been edited\n",
      "     17/100      9.79G      1.245     0.9275      1.023        550        640: 100%|██████████| 11/11 [00:01<00:00,  6.13it/s]\n",
      "                 Class     Images  Instances      Box(P          R      mAP50  mAP50-95): 100%|██████████| 1/1 [00:00<00:00,  5.26it/s]\n"
     ]
    },
    {
     "name": "stdout",
     "output_type": "stream",
     "text": [
      "                   all         86        535       0.84        0.5      0.609       0.37\n",
      "\n",
      "      Epoch    GPU_mem   box_loss   cls_loss   dfl_loss  Instances       Size\n"
     ]
    },
    {
     "name": "stderr",
     "output_type": "stream",
     "text": [
      "libpng warning: iCCP: Not recognizing known sRGB profile that has been edited\n",
      "     18/100      9.33G      1.248     0.9231      1.025        503        640: 100%|██████████| 11/11 [00:01<00:00,  6.17it/s]\n",
      "                 Class     Images  Instances      Box(P          R      mAP50  mAP50-95): 100%|██████████| 1/1 [00:00<00:00,  4.98it/s]"
     ]
    },
    {
     "name": "stdout",
     "output_type": "stream",
     "text": [
      "                   all         86        535      0.526      0.538      0.548      0.325\n"
     ]
    },
    {
     "name": "stderr",
     "output_type": "stream",
     "text": [
      "\n"
     ]
    },
    {
     "name": "stdout",
     "output_type": "stream",
     "text": [
      "\n",
      "      Epoch    GPU_mem   box_loss   cls_loss   dfl_loss  Instances       Size\n"
     ]
    },
    {
     "name": "stderr",
     "output_type": "stream",
     "text": [
      "libpng warning: iCCP: Not recognizing known sRGB profile that has been edited\n",
      "     19/100      8.59G      1.218      0.892      1.018        520        640: 100%|██████████| 11/11 [00:01<00:00,  6.22it/s]\n",
      "                 Class     Images  Instances      Box(P          R      mAP50  mAP50-95): 100%|██████████| 1/1 [00:00<00:00,  5.13it/s]\n"
     ]
    },
    {
     "name": "stdout",
     "output_type": "stream",
     "text": [
      "                   all         86        535      0.756      0.511      0.537      0.311\n"
     ]
    },
    {
     "name": "stderr",
     "output_type": "stream",
     "text": [
      "libpng warning: iCCP: Not recognizing known sRGB profile that has been edited\n"
     ]
    },
    {
     "name": "stdout",
     "output_type": "stream",
     "text": [
      "\n",
      "      Epoch    GPU_mem   box_loss   cls_loss   dfl_loss  Instances       Size\n"
     ]
    },
    {
     "name": "stderr",
     "output_type": "stream",
     "text": [
      "     20/100      8.85G      1.255     0.9006      1.027        578        640: 100%|██████████| 11/11 [00:01<00:00,  6.19it/s]\n",
      "                 Class     Images  Instances      Box(P          R      mAP50  mAP50-95): 100%|██████████| 1/1 [00:00<00:00,  5.36it/s]\n"
     ]
    },
    {
     "name": "stdout",
     "output_type": "stream",
     "text": [
      "                   all         86        535      0.666      0.568      0.607      0.319\n",
      "\n",
      "      Epoch    GPU_mem   box_loss   cls_loss   dfl_loss  Instances       Size\n"
     ]
    },
    {
     "name": "stderr",
     "output_type": "stream",
     "text": [
      "libpng warning: iCCP: Not recognizing known sRGB profile that has been edited\n",
      "     21/100      10.8G      1.223     0.8954      1.019        531        640: 100%|██████████| 11/11 [00:01<00:00,  6.20it/s]\n",
      "                 Class     Images  Instances      Box(P          R      mAP50  mAP50-95): 100%|██████████| 1/1 [00:00<00:00,  5.42it/s]"
     ]
    },
    {
     "name": "stdout",
     "output_type": "stream",
     "text": [
      "                   all         86        535       0.64      0.552      0.567      0.326\n"
     ]
    },
    {
     "name": "stderr",
     "output_type": "stream",
     "text": [
      "\n"
     ]
    },
    {
     "name": "stdout",
     "output_type": "stream",
     "text": [
      "\n",
      "      Epoch    GPU_mem   box_loss   cls_loss   dfl_loss  Instances       Size\n"
     ]
    },
    {
     "name": "stderr",
     "output_type": "stream",
     "text": [
      "libpng warning: iCCP: Not recognizing known sRGB profile that has been edited\n",
      "     22/100       9.9G      1.198     0.8428      1.007        497        640: 100%|██████████| 11/11 [00:01<00:00,  6.16it/s]\n",
      "                 Class     Images  Instances      Box(P          R      mAP50  mAP50-95): 100%|██████████| 1/1 [00:00<00:00,  5.67it/s]"
     ]
    },
    {
     "name": "stdout",
     "output_type": "stream",
     "text": [
      "                   all         86        535       0.67      0.656      0.689      0.411\n"
     ]
    },
    {
     "name": "stderr",
     "output_type": "stream",
     "text": [
      "\n"
     ]
    },
    {
     "name": "stdout",
     "output_type": "stream",
     "text": [
      "\n",
      "      Epoch    GPU_mem   box_loss   cls_loss   dfl_loss  Instances       Size\n"
     ]
    },
    {
     "name": "stderr",
     "output_type": "stream",
     "text": [
      "libpng warning: iCCP: Not recognizing known sRGB profile that has been edited\n",
      "     23/100      9.97G      1.219      0.855      1.014        434        640: 100%|██████████| 11/11 [00:01<00:00,  6.15it/s]\n",
      "                 Class     Images  Instances      Box(P          R      mAP50  mAP50-95): 100%|██████████| 1/1 [00:00<00:00,  5.69it/s]"
     ]
    },
    {
     "name": "stdout",
     "output_type": "stream",
     "text": [
      "                   all         86        535      0.579        0.6      0.593      0.372\n"
     ]
    },
    {
     "name": "stderr",
     "output_type": "stream",
     "text": [
      "\n"
     ]
    },
    {
     "name": "stdout",
     "output_type": "stream",
     "text": [
      "\n",
      "      Epoch    GPU_mem   box_loss   cls_loss   dfl_loss  Instances       Size\n"
     ]
    },
    {
     "name": "stderr",
     "output_type": "stream",
     "text": [
      "libpng warning: iCCP: Not recognizing known sRGB profile that has been edited\n",
      "     24/100      10.4G      1.205     0.8194      1.001        527        640: 100%|██████████| 11/11 [00:01<00:00,  5.55it/s]\n",
      "                 Class     Images  Instances      Box(P          R      mAP50  mAP50-95): 100%|██████████| 1/1 [00:00<00:00,  3.92it/s]"
     ]
    },
    {
     "name": "stdout",
     "output_type": "stream",
     "text": [
      "                   all         86        535      0.748      0.504      0.577      0.327\n"
     ]
    },
    {
     "name": "stderr",
     "output_type": "stream",
     "text": [
      "\n",
      "libpng warning: iCCP: Not recognizing known sRGB profile that has been edited\n"
     ]
    },
    {
     "name": "stdout",
     "output_type": "stream",
     "text": [
      "\n",
      "      Epoch    GPU_mem   box_loss   cls_loss   dfl_loss  Instances       Size\n"
     ]
    },
    {
     "name": "stderr",
     "output_type": "stream",
     "text": [
      "     25/100      9.58G      1.183      0.818          1        390        640: 100%|██████████| 11/11 [00:02<00:00,  5.41it/s]\n",
      "                 Class     Images  Instances      Box(P          R      mAP50  mAP50-95): 100%|██████████| 1/1 [00:00<00:00,  3.18it/s]"
     ]
    },
    {
     "name": "stdout",
     "output_type": "stream",
     "text": [
      "                   all         86        535        0.8      0.645      0.726      0.437\n"
     ]
    },
    {
     "name": "stderr",
     "output_type": "stream",
     "text": [
      "\n",
      "libpng warning: iCCP: Not recognizing known sRGB profile that has been edited\n"
     ]
    },
    {
     "name": "stdout",
     "output_type": "stream",
     "text": [
      "\n",
      "      Epoch    GPU_mem   box_loss   cls_loss   dfl_loss  Instances       Size\n"
     ]
    },
    {
     "name": "stderr",
     "output_type": "stream",
     "text": [
      "     26/100         9G      1.175     0.8255      1.005        409        640: 100%|██████████| 11/11 [00:01<00:00,  6.19it/s]\n",
      "                 Class     Images  Instances      Box(P          R      mAP50  mAP50-95): 100%|██████████| 1/1 [00:00<00:00,  5.61it/s]"
     ]
    },
    {
     "name": "stdout",
     "output_type": "stream",
     "text": [
      "                   all         86        535      0.713      0.667      0.699      0.429\n"
     ]
    },
    {
     "name": "stderr",
     "output_type": "stream",
     "text": [
      "\n"
     ]
    },
    {
     "name": "stdout",
     "output_type": "stream",
     "text": [
      "\n",
      "      Epoch    GPU_mem   box_loss   cls_loss   dfl_loss  Instances       Size\n"
     ]
    },
    {
     "name": "stderr",
     "output_type": "stream",
     "text": [
      "libpng warning: iCCP: Not recognizing known sRGB profile that has been edited\n",
      "     27/100      10.6G      1.181     0.8011     0.9941        427        640: 100%|██████████| 11/11 [00:01<00:00,  6.12it/s]\n",
      "                 Class     Images  Instances      Box(P          R      mAP50  mAP50-95): 100%|██████████| 1/1 [00:00<00:00,  5.49it/s]"
     ]
    },
    {
     "name": "stdout",
     "output_type": "stream",
     "text": [
      "                   all         86        535      0.869      0.661      0.723      0.448\n"
     ]
    },
    {
     "name": "stderr",
     "output_type": "stream",
     "text": [
      "\n",
      "libpng warning: iCCP: Not recognizing known sRGB profile that has been edited\n"
     ]
    },
    {
     "name": "stdout",
     "output_type": "stream",
     "text": [
      "\n",
      "      Epoch    GPU_mem   box_loss   cls_loss   dfl_loss  Instances       Size\n"
     ]
    },
    {
     "name": "stderr",
     "output_type": "stream",
     "text": [
      "     28/100        11G      1.176     0.8147      1.002        671        640: 100%|██████████| 11/11 [00:01<00:00,  6.18it/s]\n",
      "                 Class     Images  Instances      Box(P          R      mAP50  mAP50-95): 100%|██████████| 1/1 [00:00<00:00,  5.56it/s]\n"
     ]
    },
    {
     "name": "stdout",
     "output_type": "stream",
     "text": [
      "                   all         86        535      0.866      0.642      0.746      0.459\n"
     ]
    },
    {
     "name": "stderr",
     "output_type": "stream",
     "text": [
      "libpng warning: iCCP: Not recognizing known sRGB profile that has been edited\n"
     ]
    },
    {
     "name": "stdout",
     "output_type": "stream",
     "text": [
      "\n",
      "      Epoch    GPU_mem   box_loss   cls_loss   dfl_loss  Instances       Size\n"
     ]
    },
    {
     "name": "stderr",
     "output_type": "stream",
     "text": [
      "     29/100      9.66G      1.181     0.8064     0.9973        472        640: 100%|██████████| 11/11 [00:01<00:00,  6.22it/s]\n",
      "                 Class     Images  Instances      Box(P          R      mAP50  mAP50-95): 100%|██████████| 1/1 [00:00<00:00,  5.74it/s]"
     ]
    },
    {
     "name": "stdout",
     "output_type": "stream",
     "text": [
      "                   all         86        535      0.807      0.718      0.762      0.481\n"
     ]
    },
    {
     "name": "stderr",
     "output_type": "stream",
     "text": [
      "\n"
     ]
    },
    {
     "name": "stdout",
     "output_type": "stream",
     "text": [
      "\n",
      "      Epoch    GPU_mem   box_loss   cls_loss   dfl_loss  Instances       Size\n"
     ]
    },
    {
     "name": "stderr",
     "output_type": "stream",
     "text": [
      "libpng warning: iCCP: Not recognizing known sRGB profile that has been edited\n",
      "     30/100      10.8G      1.183      0.788     0.9932        441        640: 100%|██████████| 11/11 [00:01<00:00,  6.18it/s]\n",
      "                 Class     Images  Instances      Box(P          R      mAP50  mAP50-95): 100%|██████████| 1/1 [00:00<00:00,  5.64it/s]"
     ]
    },
    {
     "name": "stdout",
     "output_type": "stream",
     "text": [
      "                   all         86        535      0.906      0.632      0.739      0.462\n"
     ]
    },
    {
     "name": "stderr",
     "output_type": "stream",
     "text": [
      "\n"
     ]
    },
    {
     "name": "stdout",
     "output_type": "stream",
     "text": [
      "\n",
      "      Epoch    GPU_mem   box_loss   cls_loss   dfl_loss  Instances       Size\n"
     ]
    },
    {
     "name": "stderr",
     "output_type": "stream",
     "text": [
      "libpng warning: iCCP: Not recognizing known sRGB profile that has been edited\n",
      "     31/100      10.1G      1.161     0.7677     0.9924        540        640: 100%|██████████| 11/11 [00:01<00:00,  6.10it/s]\n",
      "                 Class     Images  Instances      Box(P          R      mAP50  mAP50-95): 100%|██████████| 1/1 [00:00<00:00,  5.33it/s]"
     ]
    },
    {
     "name": "stdout",
     "output_type": "stream",
     "text": [
      "                   all         86        535      0.772      0.653      0.716      0.452\n"
     ]
    },
    {
     "name": "stderr",
     "output_type": "stream",
     "text": [
      "\n"
     ]
    },
    {
     "name": "stdout",
     "output_type": "stream",
     "text": [
      "\n",
      "      Epoch    GPU_mem   box_loss   cls_loss   dfl_loss  Instances       Size\n"
     ]
    },
    {
     "name": "stderr",
     "output_type": "stream",
     "text": [
      "libpng warning: iCCP: Not recognizing known sRGB profile that has been edited\n",
      "     32/100      10.4G      1.175     0.7778     0.9961        477        640: 100%|██████████| 11/11 [00:01<00:00,  6.14it/s]\n",
      "                 Class     Images  Instances      Box(P          R      mAP50  mAP50-95): 100%|██████████| 1/1 [00:00<00:00,  5.62it/s]"
     ]
    },
    {
     "name": "stdout",
     "output_type": "stream",
     "text": [
      "                   all         86        535      0.876      0.619      0.733      0.437\n"
     ]
    },
    {
     "name": "stderr",
     "output_type": "stream",
     "text": [
      "\n"
     ]
    },
    {
     "name": "stdout",
     "output_type": "stream",
     "text": [
      "\n",
      "      Epoch    GPU_mem   box_loss   cls_loss   dfl_loss  Instances       Size\n"
     ]
    },
    {
     "name": "stderr",
     "output_type": "stream",
     "text": [
      "libpng warning: iCCP: Not recognizing known sRGB profile that has been edited\n",
      "     33/100      9.77G      1.173     0.7662     0.9891        643        640: 100%|██████████| 11/11 [00:01<00:00,  6.17it/s]\n",
      "                 Class     Images  Instances      Box(P          R      mAP50  mAP50-95): 100%|██████████| 1/1 [00:00<00:00,  5.69it/s]"
     ]
    },
    {
     "name": "stdout",
     "output_type": "stream",
     "text": [
      "                   all         86        535      0.817      0.666      0.752      0.455\n"
     ]
    },
    {
     "name": "stderr",
     "output_type": "stream",
     "text": [
      "\n"
     ]
    },
    {
     "name": "stdout",
     "output_type": "stream",
     "text": [
      "\n",
      "      Epoch    GPU_mem   box_loss   cls_loss   dfl_loss  Instances       Size\n"
     ]
    },
    {
     "name": "stderr",
     "output_type": "stream",
     "text": [
      "libpng warning: iCCP: Not recognizing known sRGB profile that has been edited\n",
      "     34/100      9.92G      1.147     0.7615     0.9932        474        640: 100%|██████████| 11/11 [00:01<00:00,  6.11it/s]\n",
      "                 Class     Images  Instances      Box(P          R      mAP50  mAP50-95): 100%|██████████| 1/1 [00:00<00:00,  5.67it/s]"
     ]
    },
    {
     "name": "stdout",
     "output_type": "stream",
     "text": [
      "                   all         86        535      0.797      0.662      0.712      0.422\n"
     ]
    },
    {
     "name": "stderr",
     "output_type": "stream",
     "text": [
      "\n"
     ]
    },
    {
     "name": "stdout",
     "output_type": "stream",
     "text": [
      "\n",
      "      Epoch    GPU_mem   box_loss   cls_loss   dfl_loss  Instances       Size\n"
     ]
    },
    {
     "name": "stderr",
     "output_type": "stream",
     "text": [
      "libpng warning: iCCP: Not recognizing known sRGB profile that has been edited\n",
      "     35/100        10G      1.155     0.7566     0.9887        535        640: 100%|██████████| 11/11 [00:01<00:00,  6.24it/s]\n",
      "                 Class     Images  Instances      Box(P          R      mAP50  mAP50-95): 100%|██████████| 1/1 [00:00<00:00,  5.58it/s]"
     ]
    },
    {
     "name": "stdout",
     "output_type": "stream",
     "text": [
      "                   all         86        535      0.886      0.587      0.725       0.44\n"
     ]
    },
    {
     "name": "stderr",
     "output_type": "stream",
     "text": [
      "\n"
     ]
    },
    {
     "name": "stdout",
     "output_type": "stream",
     "text": [
      "\n",
      "      Epoch    GPU_mem   box_loss   cls_loss   dfl_loss  Instances       Size\n"
     ]
    },
    {
     "name": "stderr",
     "output_type": "stream",
     "text": [
      "libpng warning: iCCP: Not recognizing known sRGB profile that has been edited\n",
      "     36/100        11G      1.153     0.7483     0.9805        509        640: 100%|██████████| 11/11 [00:01<00:00,  6.17it/s]\n",
      "                 Class     Images  Instances      Box(P          R      mAP50  mAP50-95): 100%|██████████| 1/1 [00:00<00:00,  5.56it/s]"
     ]
    },
    {
     "name": "stdout",
     "output_type": "stream",
     "text": [
      "                   all         86        535       0.91        0.7      0.768      0.462\n"
     ]
    },
    {
     "name": "stderr",
     "output_type": "stream",
     "text": [
      "\n"
     ]
    },
    {
     "name": "stdout",
     "output_type": "stream",
     "text": [
      "\n",
      "      Epoch    GPU_mem   box_loss   cls_loss   dfl_loss  Instances       Size\n"
     ]
    },
    {
     "name": "stderr",
     "output_type": "stream",
     "text": [
      "libpng warning: iCCP: Not recognizing known sRGB profile that has been edited\n",
      "     37/100      9.99G      1.171     0.7487     0.9894        536        640: 100%|██████████| 11/11 [00:01<00:00,  6.09it/s]\n",
      "                 Class     Images  Instances      Box(P          R      mAP50  mAP50-95): 100%|██████████| 1/1 [00:00<00:00,  5.75it/s]"
     ]
    },
    {
     "name": "stdout",
     "output_type": "stream",
     "text": [
      "                   all         86        535      0.906      0.672      0.783      0.492\n"
     ]
    },
    {
     "name": "stderr",
     "output_type": "stream",
     "text": [
      "\n"
     ]
    },
    {
     "name": "stdout",
     "output_type": "stream",
     "text": [
      "\n",
      "      Epoch    GPU_mem   box_loss   cls_loss   dfl_loss  Instances       Size\n"
     ]
    },
    {
     "name": "stderr",
     "output_type": "stream",
     "text": [
      "libpng warning: iCCP: Not recognizing known sRGB profile that has been edited\n",
      "     38/100      10.2G      1.141     0.7449     0.9819        573        640: 100%|██████████| 11/11 [00:01<00:00,  6.25it/s]\n",
      "                 Class     Images  Instances      Box(P          R      mAP50  mAP50-95): 100%|██████████| 1/1 [00:00<00:00,  5.76it/s]"
     ]
    },
    {
     "name": "stdout",
     "output_type": "stream",
     "text": [
      "                   all         86        535      0.915      0.635      0.785      0.474\n"
     ]
    },
    {
     "name": "stderr",
     "output_type": "stream",
     "text": [
      "\n",
      "libpng warning: iCCP: Not recognizing known sRGB profile that has been edited\n"
     ]
    },
    {
     "name": "stdout",
     "output_type": "stream",
     "text": [
      "\n",
      "      Epoch    GPU_mem   box_loss   cls_loss   dfl_loss  Instances       Size\n"
     ]
    },
    {
     "name": "stderr",
     "output_type": "stream",
     "text": [
      "     39/100      10.9G      1.141      0.735     0.9878        347        640: 100%|██████████| 11/11 [00:01<00:00,  6.18it/s]\n",
      "                 Class     Images  Instances      Box(P          R      mAP50  mAP50-95): 100%|██████████| 1/1 [00:00<00:00,  5.60it/s]"
     ]
    },
    {
     "name": "stdout",
     "output_type": "stream",
     "text": [
      "                   all         86        535       0.79      0.733      0.795       0.49\n"
     ]
    },
    {
     "name": "stderr",
     "output_type": "stream",
     "text": [
      "\n",
      "libpng warning: iCCP: Not recognizing known sRGB profile that has been edited\n"
     ]
    },
    {
     "name": "stdout",
     "output_type": "stream",
     "text": [
      "\n",
      "      Epoch    GPU_mem   box_loss   cls_loss   dfl_loss  Instances       Size\n"
     ]
    },
    {
     "name": "stderr",
     "output_type": "stream",
     "text": [
      "     40/100      9.36G      1.147     0.7491     0.9822        626        640: 100%|██████████| 11/11 [00:01<00:00,  5.99it/s]\n",
      "                 Class     Images  Instances      Box(P          R      mAP50  mAP50-95): 100%|██████████| 1/1 [00:00<00:00,  3.60it/s]"
     ]
    },
    {
     "name": "stdout",
     "output_type": "stream",
     "text": [
      "                   all         86        535      0.792      0.731      0.768      0.457\n"
     ]
    },
    {
     "name": "stderr",
     "output_type": "stream",
     "text": [
      "\n",
      "libpng warning: iCCP: Not recognizing known sRGB profile that has been edited\n"
     ]
    },
    {
     "name": "stdout",
     "output_type": "stream",
     "text": [
      "\n",
      "      Epoch    GPU_mem   box_loss   cls_loss   dfl_loss  Instances       Size\n"
     ]
    },
    {
     "name": "stderr",
     "output_type": "stream",
     "text": [
      "     41/100      9.81G      1.149      0.732     0.9814        615        640: 100%|██████████| 11/11 [00:01<00:00,  5.54it/s]\n",
      "                 Class     Images  Instances      Box(P          R      mAP50  mAP50-95): 100%|██████████| 1/1 [00:00<00:00,  3.49it/s]"
     ]
    },
    {
     "name": "stdout",
     "output_type": "stream",
     "text": [
      "                   all         86        535       0.77      0.673      0.745      0.469\n"
     ]
    },
    {
     "name": "stderr",
     "output_type": "stream",
     "text": [
      "\n",
      "libpng warning: iCCP: Not recognizing known sRGB profile that has been edited\n"
     ]
    },
    {
     "name": "stdout",
     "output_type": "stream",
     "text": [
      "\n",
      "      Epoch    GPU_mem   box_loss   cls_loss   dfl_loss  Instances       Size\n"
     ]
    },
    {
     "name": "stderr",
     "output_type": "stream",
     "text": [
      "     42/100      10.5G      1.138     0.7187     0.9851        494        640: 100%|██████████| 11/11 [00:01<00:00,  5.55it/s]\n",
      "                 Class     Images  Instances      Box(P          R      mAP50  mAP50-95): 100%|██████████| 1/1 [00:00<00:00,  5.46it/s]"
     ]
    },
    {
     "name": "stdout",
     "output_type": "stream",
     "text": [
      "                   all         86        535      0.814      0.675      0.739      0.473\n"
     ]
    },
    {
     "name": "stderr",
     "output_type": "stream",
     "text": [
      "\n"
     ]
    },
    {
     "name": "stdout",
     "output_type": "stream",
     "text": [
      "\n",
      "      Epoch    GPU_mem   box_loss   cls_loss   dfl_loss  Instances       Size\n"
     ]
    },
    {
     "name": "stderr",
     "output_type": "stream",
     "text": [
      "libpng warning: iCCP: Not recognizing known sRGB profile that has been edited\n",
      "     43/100      9.73G       1.13     0.7303      0.985        464        640: 100%|██████████| 11/11 [00:01<00:00,  6.09it/s]\n",
      "                 Class     Images  Instances      Box(P          R      mAP50  mAP50-95): 100%|██████████| 1/1 [00:00<00:00,  5.66it/s]"
     ]
    },
    {
     "name": "stdout",
     "output_type": "stream",
     "text": [
      "                   all         86        535      0.755      0.697      0.742      0.456\n"
     ]
    },
    {
     "name": "stderr",
     "output_type": "stream",
     "text": [
      "\n"
     ]
    },
    {
     "name": "stdout",
     "output_type": "stream",
     "text": [
      "\n",
      "      Epoch    GPU_mem   box_loss   cls_loss   dfl_loss  Instances       Size\n"
     ]
    },
    {
     "name": "stderr",
     "output_type": "stream",
     "text": [
      "  0%|          | 0/11 [00:00<?, ?it/s]libpng warning: iCCP: Not recognizing known sRGB profile that has been edited\n",
      "     44/100        10G      1.125     0.7055     0.9813        554        640: 100%|██████████| 11/11 [00:01<00:00,  6.24it/s]\n",
      "                 Class     Images  Instances      Box(P          R      mAP50  mAP50-95): 100%|██████████| 1/1 [00:00<00:00,  5.67it/s]"
     ]
    },
    {
     "name": "stdout",
     "output_type": "stream",
     "text": [
      "                   all         86        535      0.891      0.641      0.746      0.453\n"
     ]
    },
    {
     "name": "stderr",
     "output_type": "stream",
     "text": [
      "\n"
     ]
    },
    {
     "name": "stdout",
     "output_type": "stream",
     "text": [
      "\n",
      "      Epoch    GPU_mem   box_loss   cls_loss   dfl_loss  Instances       Size\n"
     ]
    },
    {
     "name": "stderr",
     "output_type": "stream",
     "text": [
      "libpng warning: iCCP: Not recognizing known sRGB profile that has been edited\n",
      "     45/100      9.83G      1.122      0.699      0.982        448        640: 100%|██████████| 11/11 [00:01<00:00,  6.25it/s]\n",
      "                 Class     Images  Instances      Box(P          R      mAP50  mAP50-95): 100%|██████████| 1/1 [00:00<00:00,  5.61it/s]"
     ]
    },
    {
     "name": "stdout",
     "output_type": "stream",
     "text": [
      "                   all         86        535      0.921      0.665      0.773      0.491\n"
     ]
    },
    {
     "name": "stderr",
     "output_type": "stream",
     "text": [
      "\n"
     ]
    },
    {
     "name": "stdout",
     "output_type": "stream",
     "text": [
      "\n",
      "      Epoch    GPU_mem   box_loss   cls_loss   dfl_loss  Instances       Size\n"
     ]
    },
    {
     "name": "stderr",
     "output_type": "stream",
     "text": [
      "libpng warning: iCCP: Not recognizing known sRGB profile that has been edited\n",
      "     46/100       9.7G      1.127     0.7143     0.9879        663        640: 100%|██████████| 11/11 [00:01<00:00,  6.16it/s]\n",
      "                 Class     Images  Instances      Box(P          R      mAP50  mAP50-95): 100%|██████████| 1/1 [00:00<00:00,  5.60it/s]"
     ]
    },
    {
     "name": "stdout",
     "output_type": "stream",
     "text": [
      "                   all         86        535      0.841      0.656      0.771      0.481\n"
     ]
    },
    {
     "name": "stderr",
     "output_type": "stream",
     "text": [
      "\n"
     ]
    },
    {
     "name": "stdout",
     "output_type": "stream",
     "text": [
      "\n",
      "      Epoch    GPU_mem   box_loss   cls_loss   dfl_loss  Instances       Size\n"
     ]
    },
    {
     "name": "stderr",
     "output_type": "stream",
     "text": [
      "libpng warning: iCCP: Not recognizing known sRGB profile that has been edited\n",
      "     47/100      8.94G      1.124     0.6816     0.9716        481        640: 100%|██████████| 11/11 [00:01<00:00,  6.22it/s]\n",
      "                 Class     Images  Instances      Box(P          R      mAP50  mAP50-95): 100%|██████████| 1/1 [00:00<00:00,  5.70it/s]"
     ]
    },
    {
     "name": "stdout",
     "output_type": "stream",
     "text": [
      "                   all         86        535      0.832      0.679      0.757      0.477\n"
     ]
    },
    {
     "name": "stderr",
     "output_type": "stream",
     "text": [
      "\n"
     ]
    },
    {
     "name": "stdout",
     "output_type": "stream",
     "text": [
      "\n",
      "      Epoch    GPU_mem   box_loss   cls_loss   dfl_loss  Instances       Size\n"
     ]
    },
    {
     "name": "stderr",
     "output_type": "stream",
     "text": [
      "libpng warning: iCCP: Not recognizing known sRGB profile that has been edited\n",
      "     48/100      10.5G      1.117     0.6991     0.9744        534        640: 100%|██████████| 11/11 [00:01<00:00,  6.24it/s]\n",
      "                 Class     Images  Instances      Box(P          R      mAP50  mAP50-95): 100%|██████████| 1/1 [00:00<00:00,  5.65it/s]"
     ]
    },
    {
     "name": "stdout",
     "output_type": "stream",
     "text": [
      "                   all         86        535      0.874      0.601      0.729      0.481\n"
     ]
    },
    {
     "name": "stderr",
     "output_type": "stream",
     "text": [
      "\n"
     ]
    },
    {
     "name": "stdout",
     "output_type": "stream",
     "text": [
      "\n",
      "      Epoch    GPU_mem   box_loss   cls_loss   dfl_loss  Instances       Size\n"
     ]
    },
    {
     "name": "stderr",
     "output_type": "stream",
     "text": [
      "libpng warning: iCCP: Not recognizing known sRGB profile that has been edited\n",
      "     49/100      10.3G      1.117     0.6993     0.9733        469        640: 100%|██████████| 11/11 [00:01<00:00,  6.15it/s]\n",
      "                 Class     Images  Instances      Box(P          R      mAP50  mAP50-95): 100%|██████████| 1/1 [00:00<00:00,  5.73it/s]"
     ]
    },
    {
     "name": "stdout",
     "output_type": "stream",
     "text": [
      "                   all         86        535      0.791      0.687      0.739      0.469\n"
     ]
    },
    {
     "name": "stderr",
     "output_type": "stream",
     "text": [
      "\n"
     ]
    },
    {
     "name": "stdout",
     "output_type": "stream",
     "text": [
      "\n",
      "      Epoch    GPU_mem   box_loss   cls_loss   dfl_loss  Instances       Size\n"
     ]
    },
    {
     "name": "stderr",
     "output_type": "stream",
     "text": [
      "libpng warning: iCCP: Not recognizing known sRGB profile that has been edited\n",
      "     50/100      8.87G      1.107     0.6889     0.9795        641        640: 100%|██████████| 11/11 [00:01<00:00,  6.16it/s]\n",
      "                 Class     Images  Instances      Box(P          R      mAP50  mAP50-95): 100%|██████████| 1/1 [00:00<00:00,  5.76it/s]"
     ]
    },
    {
     "name": "stdout",
     "output_type": "stream",
     "text": [
      "                   all         86        535      0.866      0.615      0.715      0.438\n"
     ]
    },
    {
     "name": "stderr",
     "output_type": "stream",
     "text": [
      "\n"
     ]
    },
    {
     "name": "stdout",
     "output_type": "stream",
     "text": [
      "\n",
      "      Epoch    GPU_mem   box_loss   cls_loss   dfl_loss  Instances       Size\n"
     ]
    },
    {
     "name": "stderr",
     "output_type": "stream",
     "text": [
      "libpng warning: iCCP: Not recognizing known sRGB profile that has been edited\n",
      "     51/100      9.93G      1.134     0.6956     0.9648        556        640: 100%|██████████| 11/11 [00:01<00:00,  6.15it/s]\n",
      "                 Class     Images  Instances      Box(P          R      mAP50  mAP50-95): 100%|██████████| 1/1 [00:00<00:00,  5.48it/s]"
     ]
    },
    {
     "name": "stdout",
     "output_type": "stream",
     "text": [
      "                   all         86        535      0.789      0.628      0.733      0.463\n"
     ]
    },
    {
     "name": "stderr",
     "output_type": "stream",
     "text": [
      "\n"
     ]
    },
    {
     "name": "stdout",
     "output_type": "stream",
     "text": [
      "\n",
      "      Epoch    GPU_mem   box_loss   cls_loss   dfl_loss  Instances       Size\n"
     ]
    },
    {
     "name": "stderr",
     "output_type": "stream",
     "text": [
      "libpng warning: iCCP: Not recognizing known sRGB profile that has been edited\n",
      "     52/100      9.51G      1.091     0.6739     0.9679        406        640: 100%|██████████| 11/11 [00:01<00:00,  6.24it/s]\n",
      "                 Class     Images  Instances      Box(P          R      mAP50  mAP50-95): 100%|██████████| 1/1 [00:00<00:00,  5.60it/s]"
     ]
    },
    {
     "name": "stdout",
     "output_type": "stream",
     "text": [
      "                   all         86        535      0.711      0.694      0.743      0.493\n"
     ]
    },
    {
     "name": "stderr",
     "output_type": "stream",
     "text": [
      "\n"
     ]
    },
    {
     "name": "stdout",
     "output_type": "stream",
     "text": [
      "\n",
      "      Epoch    GPU_mem   box_loss   cls_loss   dfl_loss  Instances       Size\n"
     ]
    },
    {
     "name": "stderr",
     "output_type": "stream",
     "text": [
      "libpng warning: iCCP: Not recognizing known sRGB profile that has been edited\n",
      "     53/100      9.38G      1.095     0.6757     0.9573        544        640: 100%|██████████| 11/11 [00:01<00:00,  6.12it/s]\n",
      "                 Class     Images  Instances      Box(P          R      mAP50  mAP50-95): 100%|██████████| 1/1 [00:00<00:00,  5.64it/s]"
     ]
    },
    {
     "name": "stdout",
     "output_type": "stream",
     "text": [
      "                   all         86        535      0.875      0.662      0.772      0.498\n"
     ]
    },
    {
     "name": "stderr",
     "output_type": "stream",
     "text": [
      "\n"
     ]
    },
    {
     "name": "stdout",
     "output_type": "stream",
     "text": [
      "\n",
      "      Epoch    GPU_mem   box_loss   cls_loss   dfl_loss  Instances       Size\n"
     ]
    },
    {
     "name": "stderr",
     "output_type": "stream",
     "text": [
      "libpng warning: iCCP: Not recognizing known sRGB profile that has been edited\n",
      "     54/100       8.9G      1.093     0.6566     0.9697        460        640: 100%|██████████| 11/11 [00:01<00:00,  6.18it/s]\n",
      "                 Class     Images  Instances      Box(P          R      mAP50  mAP50-95): 100%|██████████| 1/1 [00:00<00:00,  5.66it/s]"
     ]
    },
    {
     "name": "stdout",
     "output_type": "stream",
     "text": [
      "                   all         86        535      0.837      0.714      0.778      0.502\n"
     ]
    },
    {
     "name": "stderr",
     "output_type": "stream",
     "text": [
      "\n"
     ]
    },
    {
     "name": "stdout",
     "output_type": "stream",
     "text": [
      "\n",
      "      Epoch    GPU_mem   box_loss   cls_loss   dfl_loss  Instances       Size\n"
     ]
    },
    {
     "name": "stderr",
     "output_type": "stream",
     "text": [
      "libpng warning: iCCP: Not recognizing known sRGB profile that has been edited\n",
      "     55/100      9.73G      1.094     0.6599     0.9604        484        640: 100%|██████████| 11/11 [00:01<00:00,  6.19it/s]\n",
      "                 Class     Images  Instances      Box(P          R      mAP50  mAP50-95): 100%|██████████| 1/1 [00:00<00:00,  5.15it/s]\n"
     ]
    },
    {
     "name": "stdout",
     "output_type": "stream",
     "text": [
      "                   all         86        535      0.882      0.709      0.776      0.516\n",
      "\n",
      "      Epoch    GPU_mem   box_loss   cls_loss   dfl_loss  Instances       Size\n"
     ]
    },
    {
     "name": "stderr",
     "output_type": "stream",
     "text": [
      "libpng warning: iCCP: Not recognizing known sRGB profile that has been edited\n",
      "     56/100      9.94G      1.095     0.6558     0.9636        540        640: 100%|██████████| 11/11 [00:01<00:00,  6.14it/s]\n",
      "                 Class     Images  Instances      Box(P          R      mAP50  mAP50-95): 100%|██████████| 1/1 [00:00<00:00,  5.68it/s]"
     ]
    },
    {
     "name": "stdout",
     "output_type": "stream",
     "text": [
      "                   all         86        535      0.794      0.718      0.784        0.5\n"
     ]
    },
    {
     "name": "stderr",
     "output_type": "stream",
     "text": [
      "\n"
     ]
    },
    {
     "name": "stdout",
     "output_type": "stream",
     "text": [
      "\n",
      "      Epoch    GPU_mem   box_loss   cls_loss   dfl_loss  Instances       Size\n"
     ]
    },
    {
     "name": "stderr",
     "output_type": "stream",
     "text": [
      "libpng warning: iCCP: Not recognizing known sRGB profile that has been edited\n",
      "     57/100      10.2G      1.083     0.6465      0.961        429        640: 100%|██████████| 11/11 [00:01<00:00,  5.65it/s]\n",
      "                 Class     Images  Instances      Box(P          R      mAP50  mAP50-95): 100%|██████████| 1/1 [00:00<00:00,  4.00it/s]"
     ]
    },
    {
     "name": "stdout",
     "output_type": "stream",
     "text": [
      "                   all         86        535      0.909      0.669      0.789      0.487\n"
     ]
    },
    {
     "name": "stderr",
     "output_type": "stream",
     "text": [
      "\n",
      "libpng warning: iCCP: Not recognizing known sRGB profile that has been edited\n"
     ]
    },
    {
     "name": "stdout",
     "output_type": "stream",
     "text": [
      "\n",
      "      Epoch    GPU_mem   box_loss   cls_loss   dfl_loss  Instances       Size\n"
     ]
    },
    {
     "name": "stderr",
     "output_type": "stream",
     "text": [
      "     58/100      9.82G      1.106     0.6559     0.9635        476        640: 100%|██████████| 11/11 [00:02<00:00,  5.48it/s]\n",
      "                 Class     Images  Instances      Box(P          R      mAP50  mAP50-95): 100%|██████████| 1/1 [00:00<00:00,  3.93it/s]"
     ]
    },
    {
     "name": "stdout",
     "output_type": "stream",
     "text": [
      "                   all         86        535      0.827      0.698      0.766      0.479\n"
     ]
    },
    {
     "name": "stderr",
     "output_type": "stream",
     "text": [
      "\n",
      "libpng warning: iCCP: Not recognizing known sRGB profile that has been edited\n"
     ]
    },
    {
     "name": "stdout",
     "output_type": "stream",
     "text": [
      "\n",
      "      Epoch    GPU_mem   box_loss   cls_loss   dfl_loss  Instances       Size\n"
     ]
    },
    {
     "name": "stderr",
     "output_type": "stream",
     "text": [
      "     59/100      10.2G      1.088     0.6542     0.9631        428        640: 100%|██████████| 11/11 [00:01<00:00,  5.94it/s]\n",
      "                 Class     Images  Instances      Box(P          R      mAP50  mAP50-95): 100%|██████████| 1/1 [00:00<00:00,  5.46it/s]"
     ]
    },
    {
     "name": "stdout",
     "output_type": "stream",
     "text": [
      "                   all         86        535      0.901      0.671       0.77      0.493\n"
     ]
    },
    {
     "name": "stderr",
     "output_type": "stream",
     "text": [
      "\n"
     ]
    },
    {
     "name": "stdout",
     "output_type": "stream",
     "text": [
      "\n",
      "      Epoch    GPU_mem   box_loss   cls_loss   dfl_loss  Instances       Size\n"
     ]
    },
    {
     "name": "stderr",
     "output_type": "stream",
     "text": [
      "libpng warning: iCCP: Not recognizing known sRGB profile that has been edited\n",
      "     60/100      9.92G      1.092     0.6473     0.9599        549        640: 100%|██████████| 11/11 [00:01<00:00,  5.99it/s]\n",
      "                 Class     Images  Instances      Box(P          R      mAP50  mAP50-95): 100%|██████████| 1/1 [00:00<00:00,  5.63it/s]"
     ]
    },
    {
     "name": "stdout",
     "output_type": "stream",
     "text": [
      "                   all         86        535      0.881      0.747      0.807      0.518\n"
     ]
    },
    {
     "name": "stderr",
     "output_type": "stream",
     "text": [
      "\n",
      "libpng warning: iCCP: Not recognizing known sRGB profile that has been edited\n"
     ]
    },
    {
     "name": "stdout",
     "output_type": "stream",
     "text": [
      "\n",
      "      Epoch    GPU_mem   box_loss   cls_loss   dfl_loss  Instances       Size\n"
     ]
    },
    {
     "name": "stderr",
     "output_type": "stream",
     "text": [
      "     61/100       9.7G      1.064      0.647     0.9584        395        640: 100%|██████████| 11/11 [00:01<00:00,  6.20it/s]\n",
      "                 Class     Images  Instances      Box(P          R      mAP50  mAP50-95): 100%|██████████| 1/1 [00:00<00:00,  5.82it/s]"
     ]
    },
    {
     "name": "stdout",
     "output_type": "stream",
     "text": [
      "                   all         86        535      0.814      0.637      0.758        0.5\n"
     ]
    },
    {
     "name": "stderr",
     "output_type": "stream",
     "text": [
      "\n"
     ]
    },
    {
     "name": "stdout",
     "output_type": "stream",
     "text": [
      "\n",
      "      Epoch    GPU_mem   box_loss   cls_loss   dfl_loss  Instances       Size\n"
     ]
    },
    {
     "name": "stderr",
     "output_type": "stream",
     "text": [
      "libpng warning: iCCP: Not recognizing known sRGB profile that has been edited\n",
      "     62/100      9.39G      1.062     0.6381     0.9566        671        640: 100%|██████████| 11/11 [00:01<00:00,  6.17it/s]\n",
      "                 Class     Images  Instances      Box(P          R      mAP50  mAP50-95): 100%|██████████| 1/1 [00:00<00:00,  5.58it/s]"
     ]
    },
    {
     "name": "stdout",
     "output_type": "stream",
     "text": [
      "                   all         86        535      0.828      0.734      0.778      0.496\n"
     ]
    },
    {
     "name": "stderr",
     "output_type": "stream",
     "text": [
      "\n"
     ]
    },
    {
     "name": "stdout",
     "output_type": "stream",
     "text": [
      "\n",
      "      Epoch    GPU_mem   box_loss   cls_loss   dfl_loss  Instances       Size\n"
     ]
    },
    {
     "name": "stderr",
     "output_type": "stream",
     "text": [
      "libpng warning: iCCP: Not recognizing known sRGB profile that has been edited\n",
      "     63/100      10.1G      1.064     0.6332     0.9503        415        640: 100%|██████████| 11/11 [00:01<00:00,  6.14it/s]\n",
      "                 Class     Images  Instances      Box(P          R      mAP50  mAP50-95): 100%|██████████| 1/1 [00:00<00:00,  5.05it/s]"
     ]
    },
    {
     "name": "stdout",
     "output_type": "stream",
     "text": [
      "                   all         86        535      0.929      0.712      0.808      0.512\n"
     ]
    },
    {
     "name": "stderr",
     "output_type": "stream",
     "text": [
      "\n"
     ]
    },
    {
     "name": "stdout",
     "output_type": "stream",
     "text": [
      "\n",
      "      Epoch    GPU_mem   box_loss   cls_loss   dfl_loss  Instances       Size\n"
     ]
    },
    {
     "name": "stderr",
     "output_type": "stream",
     "text": [
      "libpng warning: iCCP: Not recognizing known sRGB profile that has been edited\n",
      "     64/100      10.3G      1.042     0.6225     0.9468        639        640: 100%|██████████| 11/11 [00:01<00:00,  6.12it/s]\n",
      "                 Class     Images  Instances      Box(P          R      mAP50  mAP50-95): 100%|██████████| 1/1 [00:00<00:00,  4.47it/s]"
     ]
    },
    {
     "name": "stdout",
     "output_type": "stream",
     "text": [
      "                   all         86        535      0.954      0.704      0.812      0.529\n"
     ]
    },
    {
     "name": "stderr",
     "output_type": "stream",
     "text": [
      "\n",
      "libpng warning: iCCP: Not recognizing known sRGB profile that has been edited\n"
     ]
    },
    {
     "name": "stdout",
     "output_type": "stream",
     "text": [
      "\n",
      "      Epoch    GPU_mem   box_loss   cls_loss   dfl_loss  Instances       Size\n"
     ]
    },
    {
     "name": "stderr",
     "output_type": "stream",
     "text": [
      "     65/100      9.51G      1.042     0.6056     0.9435        702        640: 100%|██████████| 11/11 [00:01<00:00,  6.16it/s]\n",
      "                 Class     Images  Instances      Box(P          R      mAP50  mAP50-95): 100%|██████████| 1/1 [00:00<00:00,  5.73it/s]"
     ]
    },
    {
     "name": "stdout",
     "output_type": "stream",
     "text": [
      "                   all         86        535      0.905      0.704      0.823      0.519\n"
     ]
    },
    {
     "name": "stderr",
     "output_type": "stream",
     "text": [
      "\n"
     ]
    },
    {
     "name": "stdout",
     "output_type": "stream",
     "text": [
      "\n",
      "      Epoch    GPU_mem   box_loss   cls_loss   dfl_loss  Instances       Size\n"
     ]
    },
    {
     "name": "stderr",
     "output_type": "stream",
     "text": [
      "libpng warning: iCCP: Not recognizing known sRGB profile that has been edited\n",
      "     66/100      10.5G      1.065     0.6226     0.9487        505        640: 100%|██████████| 11/11 [00:01<00:00,  6.15it/s]\n",
      "                 Class     Images  Instances      Box(P          R      mAP50  mAP50-95): 100%|██████████| 1/1 [00:00<00:00,  5.65it/s]"
     ]
    },
    {
     "name": "stdout",
     "output_type": "stream",
     "text": [
      "                   all         86        535      0.761      0.714      0.736      0.466\n"
     ]
    },
    {
     "name": "stderr",
     "output_type": "stream",
     "text": [
      "\n",
      "libpng warning: iCCP: Not recognizing known sRGB profile that has been edited\n"
     ]
    },
    {
     "name": "stdout",
     "output_type": "stream",
     "text": [
      "\n",
      "      Epoch    GPU_mem   box_loss   cls_loss   dfl_loss  Instances       Size\n"
     ]
    },
    {
     "name": "stderr",
     "output_type": "stream",
     "text": [
      "     67/100      10.2G       1.05     0.6114     0.9463        508        640: 100%|██████████| 11/11 [00:01<00:00,  6.12it/s]\n",
      "                 Class     Images  Instances      Box(P          R      mAP50  mAP50-95): 100%|██████████| 1/1 [00:00<00:00,  5.52it/s]"
     ]
    },
    {
     "name": "stdout",
     "output_type": "stream",
     "text": [
      "                   all         86        535      0.829       0.75      0.785      0.514\n"
     ]
    },
    {
     "name": "stderr",
     "output_type": "stream",
     "text": [
      "\n"
     ]
    },
    {
     "name": "stdout",
     "output_type": "stream",
     "text": [
      "\n",
      "      Epoch    GPU_mem   box_loss   cls_loss   dfl_loss  Instances       Size\n"
     ]
    },
    {
     "name": "stderr",
     "output_type": "stream",
     "text": [
      "libpng warning: iCCP: Not recognizing known sRGB profile that has been edited\n",
      "     68/100      9.89G      1.061     0.6166     0.9503        577        640: 100%|██████████| 11/11 [00:01<00:00,  6.11it/s]\n",
      "                 Class     Images  Instances      Box(P          R      mAP50  mAP50-95): 100%|██████████| 1/1 [00:00<00:00,  5.23it/s]"
     ]
    },
    {
     "name": "stdout",
     "output_type": "stream",
     "text": [
      "                   all         86        535      0.907      0.738      0.825      0.541\n"
     ]
    },
    {
     "name": "stderr",
     "output_type": "stream",
     "text": [
      "\n",
      "libpng warning: iCCP: Not recognizing known sRGB profile that has been edited\n"
     ]
    },
    {
     "name": "stdout",
     "output_type": "stream",
     "text": [
      "\n",
      "      Epoch    GPU_mem   box_loss   cls_loss   dfl_loss  Instances       Size\n"
     ]
    },
    {
     "name": "stderr",
     "output_type": "stream",
     "text": [
      "     69/100       9.8G      1.045      0.611     0.9484        472        640: 100%|██████████| 11/11 [00:01<00:00,  6.21it/s]\n",
      "                 Class     Images  Instances      Box(P          R      mAP50  mAP50-95): 100%|██████████| 1/1 [00:00<00:00,  5.51it/s]"
     ]
    },
    {
     "name": "stdout",
     "output_type": "stream",
     "text": [
      "                   all         86        535      0.858       0.71      0.794      0.521\n"
     ]
    },
    {
     "name": "stderr",
     "output_type": "stream",
     "text": [
      "\n"
     ]
    },
    {
     "name": "stdout",
     "output_type": "stream",
     "text": [
      "\n",
      "      Epoch    GPU_mem   box_loss   cls_loss   dfl_loss  Instances       Size\n"
     ]
    },
    {
     "name": "stderr",
     "output_type": "stream",
     "text": [
      "libpng warning: iCCP: Not recognizing known sRGB profile that has been edited\n",
      "     70/100      10.5G      1.033     0.6014     0.9487        617        640: 100%|██████████| 11/11 [00:01<00:00,  6.06it/s]\n",
      "                 Class     Images  Instances      Box(P          R      mAP50  mAP50-95): 100%|██████████| 1/1 [00:00<00:00,  5.42it/s]"
     ]
    },
    {
     "name": "stdout",
     "output_type": "stream",
     "text": [
      "                   all         86        535      0.834      0.708      0.777      0.507\n"
     ]
    },
    {
     "name": "stderr",
     "output_type": "stream",
     "text": [
      "\n",
      "libpng warning: iCCP: Not recognizing known sRGB profile that has been edited\n"
     ]
    },
    {
     "name": "stdout",
     "output_type": "stream",
     "text": [
      "\n",
      "      Epoch    GPU_mem   box_loss   cls_loss   dfl_loss  Instances       Size\n"
     ]
    },
    {
     "name": "stderr",
     "output_type": "stream",
     "text": [
      "     71/100      10.7G      1.029     0.6056     0.9449        476        640: 100%|██████████| 11/11 [00:01<00:00,  6.12it/s]\n",
      "                 Class     Images  Instances      Box(P          R      mAP50  mAP50-95): 100%|██████████| 1/1 [00:00<00:00,  5.59it/s]"
     ]
    },
    {
     "name": "stdout",
     "output_type": "stream",
     "text": [
      "                   all         86        535      0.798      0.739      0.764      0.497\n"
     ]
    },
    {
     "name": "stderr",
     "output_type": "stream",
     "text": [
      "\n"
     ]
    },
    {
     "name": "stdout",
     "output_type": "stream",
     "text": [
      "\n",
      "      Epoch    GPU_mem   box_loss   cls_loss   dfl_loss  Instances       Size\n"
     ]
    },
    {
     "name": "stderr",
     "output_type": "stream",
     "text": [
      "libpng warning: iCCP: Not recognizing known sRGB profile that has been edited\n",
      "     72/100        10G      1.028     0.5904     0.9342        460        640: 100%|██████████| 11/11 [00:01<00:00,  6.04it/s]\n",
      "                 Class     Images  Instances      Box(P          R      mAP50  mAP50-95): 100%|██████████| 1/1 [00:00<00:00,  5.57it/s]"
     ]
    },
    {
     "name": "stdout",
     "output_type": "stream",
     "text": [
      "                   all         86        535      0.849      0.739      0.791      0.517\n"
     ]
    },
    {
     "name": "stderr",
     "output_type": "stream",
     "text": [
      "\n"
     ]
    },
    {
     "name": "stdout",
     "output_type": "stream",
     "text": [
      "\n",
      "      Epoch    GPU_mem   box_loss   cls_loss   dfl_loss  Instances       Size\n"
     ]
    },
    {
     "name": "stderr",
     "output_type": "stream",
     "text": [
      "libpng warning: iCCP: Not recognizing known sRGB profile that has been edited\n",
      "     73/100      11.1G      1.031     0.5923     0.9418        499        640: 100%|██████████| 11/11 [00:01<00:00,  5.99it/s]\n",
      "                 Class     Images  Instances      Box(P          R      mAP50  mAP50-95): 100%|██████████| 1/1 [00:00<00:00,  3.78it/s]"
     ]
    },
    {
     "name": "stdout",
     "output_type": "stream",
     "text": [
      "                   all         86        535      0.789      0.762      0.797      0.503\n"
     ]
    },
    {
     "name": "stderr",
     "output_type": "stream",
     "text": [
      "\n",
      "libpng warning: iCCP: Not recognizing known sRGB profile that has been edited\n"
     ]
    },
    {
     "name": "stdout",
     "output_type": "stream",
     "text": [
      "\n",
      "      Epoch    GPU_mem   box_loss   cls_loss   dfl_loss  Instances       Size\n"
     ]
    },
    {
     "name": "stderr",
     "output_type": "stream",
     "text": [
      "     74/100      8.79G      1.032      0.609     0.9415        646        640: 100%|██████████| 11/11 [00:01<00:00,  5.54it/s]\n",
      "                 Class     Images  Instances      Box(P          R      mAP50  mAP50-95): 100%|██████████| 1/1 [00:00<00:00,  3.78it/s]"
     ]
    },
    {
     "name": "stdout",
     "output_type": "stream",
     "text": [
      "                   all         86        535      0.831       0.76      0.789      0.517\n"
     ]
    },
    {
     "name": "stderr",
     "output_type": "stream",
     "text": [
      "\n",
      "libpng warning: iCCP: Not recognizing known sRGB profile that has been edited\n"
     ]
    },
    {
     "name": "stdout",
     "output_type": "stream",
     "text": [
      "\n",
      "      Epoch    GPU_mem   box_loss   cls_loss   dfl_loss  Instances       Size\n"
     ]
    },
    {
     "name": "stderr",
     "output_type": "stream",
     "text": [
      "     75/100      9.92G      1.018     0.5858     0.9311        551        640: 100%|██████████| 11/11 [00:01<00:00,  5.55it/s]\n",
      "                 Class     Images  Instances      Box(P          R      mAP50  mAP50-95): 100%|██████████| 1/1 [00:00<00:00,  5.59it/s]"
     ]
    },
    {
     "name": "stdout",
     "output_type": "stream",
     "text": [
      "                   all         86        535      0.817      0.795      0.809      0.519\n"
     ]
    },
    {
     "name": "stderr",
     "output_type": "stream",
     "text": [
      "\n"
     ]
    },
    {
     "name": "stdout",
     "output_type": "stream",
     "text": [
      "\n",
      "      Epoch    GPU_mem   box_loss   cls_loss   dfl_loss  Instances       Size\n"
     ]
    },
    {
     "name": "stderr",
     "output_type": "stream",
     "text": [
      "libpng warning: iCCP: Not recognizing known sRGB profile that has been edited\n",
      "     76/100      10.1G      1.037      0.597      0.943        437        640: 100%|██████████| 11/11 [00:01<00:00,  6.01it/s]\n",
      "                 Class     Images  Instances      Box(P          R      mAP50  mAP50-95): 100%|██████████| 1/1 [00:00<00:00,  5.65it/s]"
     ]
    },
    {
     "name": "stdout",
     "output_type": "stream",
     "text": [
      "                   all         86        535      0.786      0.753      0.799      0.524\n"
     ]
    },
    {
     "name": "stderr",
     "output_type": "stream",
     "text": [
      "\n",
      "libpng warning: iCCP: Not recognizing known sRGB profile that has been edited\n"
     ]
    },
    {
     "name": "stdout",
     "output_type": "stream",
     "text": [
      "\n",
      "      Epoch    GPU_mem   box_loss   cls_loss   dfl_loss  Instances       Size\n"
     ]
    },
    {
     "name": "stderr",
     "output_type": "stream",
     "text": [
      "     77/100      10.6G       1.03     0.5958     0.9421        551        640: 100%|██████████| 11/11 [00:01<00:00,  6.14it/s]\n",
      "                 Class     Images  Instances      Box(P          R      mAP50  mAP50-95): 100%|██████████| 1/1 [00:00<00:00,  5.68it/s]"
     ]
    },
    {
     "name": "stdout",
     "output_type": "stream",
     "text": [
      "                   all         86        535      0.908      0.684      0.772      0.499\n"
     ]
    },
    {
     "name": "stderr",
     "output_type": "stream",
     "text": [
      "\n"
     ]
    },
    {
     "name": "stdout",
     "output_type": "stream",
     "text": [
      "\n",
      "      Epoch    GPU_mem   box_loss   cls_loss   dfl_loss  Instances       Size\n"
     ]
    },
    {
     "name": "stderr",
     "output_type": "stream",
     "text": [
      "libpng warning: iCCP: Not recognizing known sRGB profile that has been edited\n",
      "     78/100      10.5G      1.034     0.5959      0.942        631        640: 100%|██████████| 11/11 [00:01<00:00,  6.08it/s]\n",
      "                 Class     Images  Instances      Box(P          R      mAP50  mAP50-95): 100%|██████████| 1/1 [00:00<00:00,  5.72it/s]"
     ]
    },
    {
     "name": "stdout",
     "output_type": "stream",
     "text": [
      "                   all         86        535      0.872      0.741      0.818      0.516\n"
     ]
    },
    {
     "name": "stderr",
     "output_type": "stream",
     "text": [
      "\n"
     ]
    },
    {
     "name": "stdout",
     "output_type": "stream",
     "text": [
      "\n",
      "      Epoch    GPU_mem   box_loss   cls_loss   dfl_loss  Instances       Size\n"
     ]
    },
    {
     "name": "stderr",
     "output_type": "stream",
     "text": [
      "  0%|          | 0/11 [00:00<?, ?it/s]libpng warning: iCCP: Not recognizing known sRGB profile that has been edited\n",
      "     79/100      11.4G      1.007     0.5851     0.9302        565        640: 100%|██████████| 11/11 [00:01<00:00,  6.13it/s]\n",
      "                 Class     Images  Instances      Box(P          R      mAP50  mAP50-95): 100%|██████████| 1/1 [00:00<00:00,  5.05it/s]\n"
     ]
    },
    {
     "name": "stdout",
     "output_type": "stream",
     "text": [
      "                   all         86        535       0.85      0.756      0.802      0.521\n",
      "\n",
      "      Epoch    GPU_mem   box_loss   cls_loss   dfl_loss  Instances       Size\n"
     ]
    },
    {
     "name": "stderr",
     "output_type": "stream",
     "text": [
      "libpng warning: iCCP: Not recognizing known sRGB profile that has been edited\n",
      "     80/100        12G      1.022     0.5812     0.9373        452        640: 100%|██████████| 11/11 [00:01<00:00,  6.03it/s]\n",
      "                 Class     Images  Instances      Box(P          R      mAP50  mAP50-95): 100%|██████████| 1/1 [00:00<00:00,  5.52it/s]"
     ]
    },
    {
     "name": "stdout",
     "output_type": "stream",
     "text": [
      "                   all         86        535      0.893      0.729       0.81      0.531\n"
     ]
    },
    {
     "name": "stderr",
     "output_type": "stream",
     "text": [
      "\n"
     ]
    },
    {
     "name": "stdout",
     "output_type": "stream",
     "text": [
      "\n",
      "      Epoch    GPU_mem   box_loss   cls_loss   dfl_loss  Instances       Size\n"
     ]
    },
    {
     "name": "stderr",
     "output_type": "stream",
     "text": [
      "  0%|          | 0/11 [00:00<?, ?it/s]libpng warning: iCCP: Not recognizing known sRGB profile that has been edited\n",
      "     81/100      10.4G      1.014     0.5879      0.944        616        640: 100%|██████████| 11/11 [00:01<00:00,  6.18it/s]\n",
      "                 Class     Images  Instances      Box(P          R      mAP50  mAP50-95): 100%|██████████| 1/1 [00:00<00:00,  5.72it/s]"
     ]
    },
    {
     "name": "stdout",
     "output_type": "stream",
     "text": [
      "                   all         86        535      0.896      0.724      0.817      0.535\n"
     ]
    },
    {
     "name": "stderr",
     "output_type": "stream",
     "text": [
      "\n"
     ]
    },
    {
     "name": "stdout",
     "output_type": "stream",
     "text": [
      "\n",
      "      Epoch    GPU_mem   box_loss   cls_loss   dfl_loss  Instances       Size\n"
     ]
    },
    {
     "name": "stderr",
     "output_type": "stream",
     "text": [
      "libpng warning: iCCP: Not recognizing known sRGB profile that has been edited\n",
      "     82/100      10.2G     0.9914     0.5748     0.9275        352        640: 100%|██████████| 11/11 [00:01<00:00,  6.10it/s]\n",
      "                 Class     Images  Instances      Box(P          R      mAP50  mAP50-95): 100%|██████████| 1/1 [00:00<00:00,  5.76it/s]"
     ]
    },
    {
     "name": "stdout",
     "output_type": "stream",
     "text": [
      "                   all         86        535      0.923      0.669      0.813      0.531\n"
     ]
    },
    {
     "name": "stderr",
     "output_type": "stream",
     "text": [
      "\n"
     ]
    },
    {
     "name": "stdout",
     "output_type": "stream",
     "text": [
      "\n",
      "      Epoch    GPU_mem   box_loss   cls_loss   dfl_loss  Instances       Size\n"
     ]
    },
    {
     "name": "stderr",
     "output_type": "stream",
     "text": [
      "libpng warning: iCCP: Not recognizing known sRGB profile that has been edited\n",
      "     83/100      11.3G      1.013     0.5812     0.9391        427        640: 100%|██████████| 11/11 [00:01<00:00,  6.14it/s]\n",
      "                 Class     Images  Instances      Box(P          R      mAP50  mAP50-95): 100%|██████████| 1/1 [00:00<00:00,  5.70it/s]"
     ]
    },
    {
     "name": "stdout",
     "output_type": "stream",
     "text": [
      "                   all         86        535      0.909        0.7      0.819      0.528\n"
     ]
    },
    {
     "name": "stderr",
     "output_type": "stream",
     "text": [
      "\n"
     ]
    },
    {
     "name": "stdout",
     "output_type": "stream",
     "text": [
      "\n",
      "      Epoch    GPU_mem   box_loss   cls_loss   dfl_loss  Instances       Size\n"
     ]
    },
    {
     "name": "stderr",
     "output_type": "stream",
     "text": [
      "libpng warning: iCCP: Not recognizing known sRGB profile that has been edited\n",
      "     84/100      9.09G     0.9986     0.5689     0.9365        461        640: 100%|██████████| 11/11 [00:01<00:00,  6.20it/s]\n",
      "                 Class     Images  Instances      Box(P          R      mAP50  mAP50-95): 100%|██████████| 1/1 [00:00<00:00,  5.81it/s]"
     ]
    },
    {
     "name": "stdout",
     "output_type": "stream",
     "text": [
      "                   all         86        535      0.866      0.718      0.813      0.529\n"
     ]
    },
    {
     "name": "stderr",
     "output_type": "stream",
     "text": [
      "\n"
     ]
    },
    {
     "name": "stdout",
     "output_type": "stream",
     "text": [
      "\n",
      "      Epoch    GPU_mem   box_loss   cls_loss   dfl_loss  Instances       Size\n"
     ]
    },
    {
     "name": "stderr",
     "output_type": "stream",
     "text": [
      "libpng warning: iCCP: Not recognizing known sRGB profile that has been edited\n",
      "     85/100      10.5G      1.001     0.5617     0.9366        512        640: 100%|██████████| 11/11 [00:01<00:00,  6.20it/s]\n",
      "                 Class     Images  Instances      Box(P          R      mAP50  mAP50-95): 100%|██████████| 1/1 [00:00<00:00,  5.76it/s]"
     ]
    },
    {
     "name": "stdout",
     "output_type": "stream",
     "text": [
      "                   all         86        535      0.905      0.685      0.789      0.522\n"
     ]
    },
    {
     "name": "stderr",
     "output_type": "stream",
     "text": [
      "\n"
     ]
    },
    {
     "name": "stdout",
     "output_type": "stream",
     "text": [
      "Closing dataloader mosaic\n",
      "\u001b[34m\u001b[1malbumentations: \u001b[0mBlur(p=0.01, blur_limit=(3, 7)), MedianBlur(p=0.01, blur_limit=(3, 7)), ToGray(p=0.01), CLAHE(p=0.01, clip_limit=(1, 4.0), tile_grid_size=(8, 8))\n"
     ]
    },
    {
     "name": "stderr",
     "output_type": "stream",
     "text": [
      "libpng warning: iCCP: Not recognizing known sRGB profile that has been edited\n"
     ]
    },
    {
     "name": "stdout",
     "output_type": "stream",
     "text": [
      "\n",
      "      Epoch    GPU_mem   box_loss   cls_loss   dfl_loss  Instances       Size\n"
     ]
    },
    {
     "name": "stderr",
     "output_type": "stream",
     "text": [
      "     86/100      10.1G     0.9377     0.5224     0.9318        201        640: 100%|██████████| 11/11 [00:02<00:00,  3.70it/s]\n",
      "                 Class     Images  Instances      Box(P          R      mAP50  mAP50-95): 100%|██████████| 1/1 [00:00<00:00,  5.43it/s]"
     ]
    },
    {
     "name": "stdout",
     "output_type": "stream",
     "text": [
      "                   all         86        535      0.826      0.686      0.776      0.523\n"
     ]
    },
    {
     "name": "stderr",
     "output_type": "stream",
     "text": [
      "\n"
     ]
    },
    {
     "name": "stdout",
     "output_type": "stream",
     "text": [
      "\n",
      "      Epoch    GPU_mem   box_loss   cls_loss   dfl_loss  Instances       Size\n"
     ]
    },
    {
     "name": "stderr",
     "output_type": "stream",
     "text": [
      "  0%|          | 0/11 [00:00<?, ?it/s]libpng warning: iCCP: Not recognizing known sRGB profile that has been edited\n",
      "     87/100        10G      0.936     0.4884     0.9246        162        640: 100%|██████████| 11/11 [00:01<00:00,  6.46it/s]\n",
      "                 Class     Images  Instances      Box(P          R      mAP50  mAP50-95): 100%|██████████| 1/1 [00:00<00:00,  5.05it/s]"
     ]
    },
    {
     "name": "stdout",
     "output_type": "stream",
     "text": [
      "                   all         86        535      0.882      0.704      0.805      0.535\n"
     ]
    },
    {
     "name": "stderr",
     "output_type": "stream",
     "text": [
      "\n"
     ]
    },
    {
     "name": "stdout",
     "output_type": "stream",
     "text": [
      "\n",
      "      Epoch    GPU_mem   box_loss   cls_loss   dfl_loss  Instances       Size\n"
     ]
    },
    {
     "name": "stderr",
     "output_type": "stream",
     "text": [
      "  0%|          | 0/11 [00:00<?, ?it/s]libpng warning: iCCP: Not recognizing known sRGB profile that has been edited\n",
      "     88/100      9.74G     0.9129     0.4856     0.9157        259        640: 100%|██████████| 11/11 [00:01<00:00,  6.43it/s]\n",
      "                 Class     Images  Instances      Box(P          R      mAP50  mAP50-95): 100%|██████████| 1/1 [00:00<00:00,  5.72it/s]"
     ]
    },
    {
     "name": "stdout",
     "output_type": "stream",
     "text": [
      "                   all         86        535      0.884      0.706      0.805      0.524\n"
     ]
    },
    {
     "name": "stderr",
     "output_type": "stream",
     "text": [
      "\n"
     ]
    },
    {
     "name": "stdout",
     "output_type": "stream",
     "text": [
      "\n",
      "      Epoch    GPU_mem   box_loss   cls_loss   dfl_loss  Instances       Size\n"
     ]
    },
    {
     "name": "stderr",
     "output_type": "stream",
     "text": [
      "  0%|          | 0/11 [00:00<?, ?it/s]libpng warning: iCCP: Not recognizing known sRGB profile that has been edited\n",
      "     89/100      10.2G     0.9163     0.4919     0.9208        236        640: 100%|██████████| 11/11 [00:01<00:00,  6.18it/s]\n",
      "                 Class     Images  Instances      Box(P          R      mAP50  mAP50-95): 100%|██████████| 1/1 [00:00<00:00,  4.21it/s]"
     ]
    },
    {
     "name": "stdout",
     "output_type": "stream",
     "text": [
      "                   all         86        535      0.891      0.724      0.808      0.528\n"
     ]
    },
    {
     "name": "stderr",
     "output_type": "stream",
     "text": [
      "\n",
      "libpng warning: iCCP: Not recognizing known sRGB profile that has been edited\n"
     ]
    },
    {
     "name": "stdout",
     "output_type": "stream",
     "text": [
      "\n",
      "      Epoch    GPU_mem   box_loss   cls_loss   dfl_loss  Instances       Size\n"
     ]
    },
    {
     "name": "stderr",
     "output_type": "stream",
     "text": [
      "     90/100      9.43G     0.9059     0.4747     0.9165        222        640: 100%|██████████| 11/11 [00:01<00:00,  5.94it/s]\n",
      "                 Class     Images  Instances      Box(P          R      mAP50  mAP50-95): 100%|██████████| 1/1 [00:00<00:00,  4.08it/s]"
     ]
    },
    {
     "name": "stdout",
     "output_type": "stream",
     "text": [
      "                   all         86        535      0.866       0.75      0.817      0.525\n"
     ]
    },
    {
     "name": "stderr",
     "output_type": "stream",
     "text": [
      "\n",
      "libpng warning: iCCP: Not recognizing known sRGB profile that has been edited\n"
     ]
    },
    {
     "name": "stdout",
     "output_type": "stream",
     "text": [
      "\n",
      "      Epoch    GPU_mem   box_loss   cls_loss   dfl_loss  Instances       Size\n"
     ]
    },
    {
     "name": "stderr",
     "output_type": "stream",
     "text": [
      "     91/100      9.27G     0.9245     0.4832     0.9272        181        640: 100%|██████████| 11/11 [00:01<00:00,  5.97it/s]\n",
      "                 Class     Images  Instances      Box(P          R      mAP50  mAP50-95): 100%|██████████| 1/1 [00:00<00:00,  4.30it/s]"
     ]
    },
    {
     "name": "stdout",
     "output_type": "stream",
     "text": [
      "                   all         86        535       0.86      0.764      0.838      0.552\n"
     ]
    },
    {
     "name": "stderr",
     "output_type": "stream",
     "text": [
      "\n",
      "libpng warning: iCCP: Not recognizing known sRGB profile that has been edited\n"
     ]
    },
    {
     "name": "stdout",
     "output_type": "stream",
     "text": [
      "\n",
      "      Epoch    GPU_mem   box_loss   cls_loss   dfl_loss  Instances       Size\n"
     ]
    },
    {
     "name": "stderr",
     "output_type": "stream",
     "text": [
      "     92/100      9.75G     0.9034     0.4681     0.9117        226        640: 100%|██████████| 11/11 [00:01<00:00,  6.10it/s]\n",
      "                 Class     Images  Instances      Box(P          R      mAP50  mAP50-95): 100%|██████████| 1/1 [00:00<00:00,  5.60it/s]"
     ]
    },
    {
     "name": "stdout",
     "output_type": "stream",
     "text": [
      "                   all         86        535      0.916      0.732      0.803      0.519\n"
     ]
    },
    {
     "name": "stderr",
     "output_type": "stream",
     "text": [
      "\n"
     ]
    },
    {
     "name": "stdout",
     "output_type": "stream",
     "text": [
      "\n",
      "      Epoch    GPU_mem   box_loss   cls_loss   dfl_loss  Instances       Size\n"
     ]
    },
    {
     "name": "stderr",
     "output_type": "stream",
     "text": [
      "libpng warning: iCCP: Not recognizing known sRGB profile that has been edited\n",
      "     93/100      9.28G     0.8883     0.4661     0.9154        269        640: 100%|██████████| 11/11 [00:01<00:00,  6.47it/s]\n",
      "                 Class     Images  Instances      Box(P          R      mAP50  mAP50-95): 100%|██████████| 1/1 [00:00<00:00,  5.62it/s]"
     ]
    },
    {
     "name": "stdout",
     "output_type": "stream",
     "text": [
      "                   all         86        535      0.922      0.719      0.807      0.529\n"
     ]
    },
    {
     "name": "stderr",
     "output_type": "stream",
     "text": [
      "\n",
      "libpng warning: iCCP: Not recognizing known sRGB profile that has been edited\n"
     ]
    },
    {
     "name": "stdout",
     "output_type": "stream",
     "text": [
      "\n",
      "      Epoch    GPU_mem   box_loss   cls_loss   dfl_loss  Instances       Size\n"
     ]
    },
    {
     "name": "stderr",
     "output_type": "stream",
     "text": [
      "     94/100      9.27G     0.9004     0.4612     0.9166        276        640: 100%|██████████| 11/11 [00:01<00:00,  6.50it/s]\n",
      "                 Class     Images  Instances      Box(P          R      mAP50  mAP50-95): 100%|██████████| 1/1 [00:00<00:00,  5.86it/s]"
     ]
    },
    {
     "name": "stdout",
     "output_type": "stream",
     "text": [
      "                   all         86        535      0.921      0.762      0.819      0.536\n"
     ]
    },
    {
     "name": "stderr",
     "output_type": "stream",
     "text": [
      "\n"
     ]
    },
    {
     "name": "stdout",
     "output_type": "stream",
     "text": [
      "\n",
      "      Epoch    GPU_mem   box_loss   cls_loss   dfl_loss  Instances       Size\n"
     ]
    },
    {
     "name": "stderr",
     "output_type": "stream",
     "text": [
      "libpng warning: iCCP: Not recognizing known sRGB profile that has been edited\n",
      "     95/100      9.76G     0.8939     0.4567     0.9179        206        640: 100%|██████████| 11/11 [00:01<00:00,  6.54it/s]\n",
      "                 Class     Images  Instances      Box(P          R      mAP50  mAP50-95): 100%|██████████| 1/1 [00:00<00:00,  5.79it/s]"
     ]
    },
    {
     "name": "stdout",
     "output_type": "stream",
     "text": [
      "                   all         86        535      0.915      0.723      0.813      0.526\n"
     ]
    },
    {
     "name": "stderr",
     "output_type": "stream",
     "text": [
      "\n"
     ]
    },
    {
     "name": "stdout",
     "output_type": "stream",
     "text": [
      "\n",
      "      Epoch    GPU_mem   box_loss   cls_loss   dfl_loss  Instances       Size\n"
     ]
    },
    {
     "name": "stderr",
     "output_type": "stream",
     "text": [
      "libpng warning: iCCP: Not recognizing known sRGB profile that has been edited\n",
      "     96/100      10.2G     0.8785     0.4539     0.9134        230        640: 100%|██████████| 11/11 [00:01<00:00,  6.49it/s]\n",
      "                 Class     Images  Instances      Box(P          R      mAP50  mAP50-95): 100%|██████████| 1/1 [00:00<00:00,  5.73it/s]"
     ]
    },
    {
     "name": "stdout",
     "output_type": "stream",
     "text": [
      "                   all         86        535      0.909      0.777      0.828      0.534\n"
     ]
    },
    {
     "name": "stderr",
     "output_type": "stream",
     "text": [
      "\n"
     ]
    },
    {
     "name": "stdout",
     "output_type": "stream",
     "text": [
      "\n",
      "      Epoch    GPU_mem   box_loss   cls_loss   dfl_loss  Instances       Size\n"
     ]
    },
    {
     "name": "stderr",
     "output_type": "stream",
     "text": [
      "libpng warning: iCCP: Not recognizing known sRGB profile that has been edited\n",
      "     97/100       9.9G     0.8884     0.4505     0.9102        191        640: 100%|██████████| 11/11 [00:01<00:00,  6.40it/s]\n",
      "                 Class     Images  Instances      Box(P          R      mAP50  mAP50-95): 100%|██████████| 1/1 [00:00<00:00,  5.72it/s]"
     ]
    },
    {
     "name": "stdout",
     "output_type": "stream",
     "text": [
      "                   all         86        535      0.914      0.736      0.823      0.536\n"
     ]
    },
    {
     "name": "stderr",
     "output_type": "stream",
     "text": [
      "\n"
     ]
    },
    {
     "name": "stdout",
     "output_type": "stream",
     "text": [
      "\n",
      "      Epoch    GPU_mem   box_loss   cls_loss   dfl_loss  Instances       Size\n"
     ]
    },
    {
     "name": "stderr",
     "output_type": "stream",
     "text": [
      "libpng warning: iCCP: Not recognizing known sRGB profile that has been edited\n",
      "     98/100      9.72G     0.8781     0.4453     0.9094        178        640: 100%|██████████| 11/11 [00:01<00:00,  6.44it/s]\n",
      "                 Class     Images  Instances      Box(P          R      mAP50  mAP50-95): 100%|██████████| 1/1 [00:00<00:00,  5.78it/s]"
     ]
    },
    {
     "name": "stdout",
     "output_type": "stream",
     "text": [
      "                   all         86        535      0.855      0.758      0.819      0.532\n"
     ]
    },
    {
     "name": "stderr",
     "output_type": "stream",
     "text": [
      "\n",
      "libpng warning: iCCP: Not recognizing known sRGB profile that has been edited\n"
     ]
    },
    {
     "name": "stdout",
     "output_type": "stream",
     "text": [
      "\n",
      "      Epoch    GPU_mem   box_loss   cls_loss   dfl_loss  Instances       Size\n"
     ]
    },
    {
     "name": "stderr",
     "output_type": "stream",
     "text": [
      "     99/100      9.74G     0.8598     0.4396     0.9075        226        640: 100%|██████████| 11/11 [00:01<00:00,  6.45it/s]\n",
      "                 Class     Images  Instances      Box(P          R      mAP50  mAP50-95): 100%|██████████| 1/1 [00:00<00:00,  5.74it/s]"
     ]
    },
    {
     "name": "stdout",
     "output_type": "stream",
     "text": [
      "                   all         86        535      0.916      0.726      0.811      0.529\n"
     ]
    },
    {
     "name": "stderr",
     "output_type": "stream",
     "text": [
      "\n"
     ]
    },
    {
     "name": "stdout",
     "output_type": "stream",
     "text": [
      "\n",
      "      Epoch    GPU_mem   box_loss   cls_loss   dfl_loss  Instances       Size\n"
     ]
    },
    {
     "name": "stderr",
     "output_type": "stream",
     "text": [
      "libpng warning: iCCP: Not recognizing known sRGB profile that has been edited\n",
      "    100/100      10.3G     0.8699     0.4524     0.9081        255        640: 100%|██████████| 11/11 [00:01<00:00,  6.45it/s]\n",
      "                 Class     Images  Instances      Box(P          R      mAP50  mAP50-95): 100%|██████████| 1/1 [00:00<00:00,  5.73it/s]"
     ]
    },
    {
     "name": "stdout",
     "output_type": "stream",
     "text": [
      "                   all         86        535      0.903      0.772       0.82       0.53\n"
     ]
    },
    {
     "name": "stderr",
     "output_type": "stream",
     "text": [
      "\n"
     ]
    },
    {
     "name": "stdout",
     "output_type": "stream",
     "text": [
      "\n",
      "100 epochs completed in 0.067 hours.\n",
      "Optimizer stripped from face_mask_detection_yolov8/train6/weights/last.pt, 6.3MB\n",
      "Optimizer stripped from face_mask_detection_yolov8/train6/weights/best.pt, 6.3MB\n",
      "\n",
      "Validating face_mask_detection_yolov8/train6/weights/best.pt...\n",
      "Ultralytics YOLOv8.2.11 🚀 Python-3.10.4 torch-2.3.0+cu121 CUDA:0 (NVIDIA GeForce RTX 4080, 16079MiB)\n"
     ]
    },
    {
     "name": "stderr",
     "output_type": "stream",
     "text": [
      "libpng warning: iCCP: Not recognizing known sRGB profile that has been edited\n"
     ]
    },
    {
     "name": "stdout",
     "output_type": "stream",
     "text": [
      "Model summary (fused): 168 layers, 3006233 parameters, 0 gradients, 8.1 GFLOPs\n"
     ]
    },
    {
     "name": "stderr",
     "output_type": "stream",
     "text": [
      "/home/aidev6-pc/anaconda3/envs/face_mask_det.python3.10/lib/python3.10/site-packages/torch/nn/modules/conv.py:456: UserWarning: Plan failed with a cudnnException: CUDNN_BACKEND_EXECUTION_PLAN_DESCRIPTOR: cudnnFinalize Descriptor Failed cudnn_status: CUDNN_STATUS_NOT_SUPPORTED (Triggered internally at ../aten/src/ATen/native/cudnn/Conv_v8.cpp:919.)\n",
      "  return F.conv2d(input, weight, bias, self.stride,\n",
      "                 Class     Images  Instances      Box(P          R      mAP50  mAP50-95): 100%|██████████| 1/1 [00:00<00:00,  6.28it/s]\n",
      "libpng warning: iCCP: Not recognizing known sRGB profile that has been edited\n"
     ]
    },
    {
     "name": "stdout",
     "output_type": "stream",
     "text": [
      "                   all         86        535       0.86      0.764      0.838      0.553\n",
      "             with_mask         86        464      0.932      0.914      0.944      0.641\n",
      "          without_mask         86         55       0.75      0.818      0.857      0.521\n",
      " mask_weared_incorrect         86         16      0.899      0.559      0.713      0.496\n",
      "Speed: 0.1ms preprocess, 0.5ms inference, 0.0ms loss, 0.2ms postprocess per image\n",
      "Results saved to \u001b[1mface_mask_detection_yolov8/train6\u001b[0m\n"
     ]
    }
   ],
   "source": [
    "trainer.train(epochs=100, batch_size=64, optimizer='SGD')"
   ]
  },
  {
   "cell_type": "markdown",
   "metadata": {},
   "source": [
    "### Model Evaluation"
   ]
  },
  {
   "cell_type": "code",
   "execution_count": 12,
   "metadata": {},
   "outputs": [
    {
     "name": "stdout",
     "output_type": "stream",
     "text": [
      "Ultralytics YOLOv8.2.11 🚀 Python-3.10.4 torch-2.3.0+cu121 CUDA:0 (NVIDIA GeForce RTX 4080, 16079MiB)\n"
     ]
    },
    {
     "name": "stderr",
     "output_type": "stream",
     "text": [
      "\u001b[34m\u001b[1mval: \u001b[0mScanning /home/aidev6-pc/dev/bimo/face_mask_detection/yolo_format/val/labels.cache... 86 images, 0 backgrounds, 0 corrupt: 100%|██████████| 86/86 [00:00<?, ?it/s]\n",
      "                 Class     Images  Instances      Box(P          R      mAP50  mAP50-95):   0%|          | 0/2 [00:00<?, ?it/s]libpng warning: iCCP: Not recognizing known sRGB profile that has been edited\n",
      "libpng warning: iCCP: Not recognizing known sRGB profile that has been edited\n",
      "libpng warning: iCCP: Not recognizing known sRGB profile that has been edited\n",
      "libpng warning: iCCP: Not recognizing known sRGB profile that has been edited\n",
      "/home/aidev6-pc/anaconda3/envs/face_mask_det.python3.10/lib/python3.10/site-packages/torch/nn/modules/conv.py:456: UserWarning: Plan failed with a cudnnException: CUDNN_BACKEND_EXECUTION_PLAN_DESCRIPTOR: cudnnFinalize Descriptor Failed cudnn_status: CUDNN_STATUS_NOT_SUPPORTED (Triggered internally at ../aten/src/ATen/native/cudnn/Conv_v8.cpp:919.)\n",
      "  return F.conv2d(input, weight, bias, self.stride,\n",
      "libpng warning: iCCP: Not recognizing known sRGB profile that has been edited\n",
      "                 Class     Images  Instances      Box(P          R      mAP50  mAP50-95):  50%|█████     | 1/2 [00:00<00:00,  1.01it/s]libpng warning: iCCP: Not recognizing known sRGB profile that has been edited\n",
      "libpng warning: iCCP: Not recognizing known sRGB profile that has been edited\n",
      "                 Class     Images  Instances      Box(P          R      mAP50  mAP50-95): 100%|██████████| 2/2 [00:01<00:00,  1.77it/s]libpng warning: iCCP: Not recognizing known sRGB profile that has been edited\n",
      "\n",
      "libpng warning: iCCP: Not recognizing known sRGB profile that has been edited\n"
     ]
    },
    {
     "name": "stdout",
     "output_type": "stream",
     "text": [
      "                   all         86        535      0.862      0.764      0.834      0.547\n",
      "             with_mask         86        464      0.934      0.916      0.944       0.64\n",
      "          without_mask         86         55      0.752      0.818      0.854      0.516\n",
      " mask_weared_incorrect         86         16      0.899      0.558      0.705      0.485\n",
      "Speed: 0.1ms preprocess, 1.6ms inference, 0.0ms loss, 0.8ms postprocess per image\n",
      "Results saved to \u001b[1mface_mask_detection_yolov8/train63\u001b[0m\n"
     ]
    }
   ],
   "source": [
    "metrics = trainer.evaluate(validation_data='./yolo_format/data.yaml')"
   ]
  },
  {
   "cell_type": "markdown",
   "metadata": {},
   "source": [
    "If we see the result of model evaluation, we got some metrics.\n",
    "1. **Box Precision (P)**\n",
    "- The precision metric for the bounding box predictions. It measures the accuracy of the detected boxes in terms of how many detected boxes are actually correct. Then we got, a precision of 0.934 for \"with_mask\" means that 93.4% of the boxes around faces with masks are correctly placed.\n",
    "![Precision(P)](face_mask_detection_yolov8/train63/P_curve.png)\n",
    "\n",
    "2. **Recall (R)**\n",
    "- This metric measures the model's ability to find all the relevant cases (instances) within the datasets. For \"without_mask\", a recall of 0.818 means the model correctly identifies 81.8% of all actual \"without_mask\" instances in the test set.\n",
    "![Recall(R)](face_mask_detection_yolov8/train63/R_curve.png)\n",
    "\n",
    "3. **mAP50**\n",
    "- Mean Average Precision at 50% IoU (Intersection over Union). This is a common metric for evaluating object detection models, where a detection is considered correct if the IoU is above 50%. The mAP50 of 0.944 for \"with_mask\" is particularly high, indicating excellent model performance for this class at this IoU threshold.\n",
    "\n",
    "4. **mAP50-95**\n",
    "- This is an average of the mAP calculated at different IoU thresholds from 50% to 95% (inclusive), in steps of 5%. It is a more stringent measure since it considers a range of IoU thresholds. The value of 0.64 for \"with_mask\" under this metric shows the model performs well even under stricter criteria, though naturally, the score is lower than the mAP50. You can see the results, in this figure below:\n",
    "![Results](face_mask_detection_yolov8/train6/results.png)"
   ]
  },
  {
   "cell_type": "markdown",
   "metadata": {},
   "source": [
    "### Conclusion"
   ]
  },
  {
   "cell_type": "markdown",
   "metadata": {},
   "source": [
    "1. **Overall Performance**:\n",
    "The model performs very well on detecting faces with masks, with high precision and mAP scores, which because that the training data likely had a large number of \"with_mask\" examples, or the model features are particularly good at picking out this class.\n",
    "\n",
    "2. **Model Robustness**: The model is generally robust, as indicated by consistent training and validation loss curves, and maintains good precision across high confidence levels.\n",
    "\n",
    "3. The model shows excellent precision and recall for faces with masks.\n",
    "\n",
    "4. The model achieves commendable mAP50 and mAP50-95 scores, especially in the \"with_mask\" category, \n",
    "\n",
    "5. The model struggle slightly with detecting \"mask_weared_incorrect\", as indicated by the lower recall and mAP scores.\n",
    "\n"
   ]
  },
  {
   "cell_type": "markdown",
   "metadata": {},
   "source": [
    "### WHAT SHOULD WE DO?"
   ]
  },
  {
   "cell_type": "markdown",
   "metadata": {},
   "source": [
    "1. Add more images that represent diverse scenarios, especially focusing on underrepresented classes like \"without_mask\" and \"mask_weared_incorrect\". Make sure to include a variety of backgrounds, lighting conditions, and face orientations.\n",
    "\n",
    "2. Apply transformations such as rotations, scaling, cropping, and color adjustments to existing images to create a more robust training dataset. This helps the model generalize better across different real-world conditions.\n",
    "\n",
    "3. Adjust Hyperparameters: Optimize learning rates, decay schedules, and other hyperparameters. Sometimes, small adjustments can yield significant improvements."
   ]
  },
  {
   "cell_type": "markdown",
   "metadata": {},
   "source": [
    "## Face Mask Detection (using Classification)"
   ]
  },
  {
   "cell_type": "markdown",
   "metadata": {},
   "source": [
    "### Import libraries needed"
   ]
  },
  {
   "cell_type": "code",
   "execution_count": null,
   "metadata": {},
   "outputs": [],
   "source": [
    "import torch\n",
    "from transformers import (\n",
    "    ViTImageProcessor,\n",
    "    ViTModel,\n",
    "    ViTForImageClassification,\n",
    "    Trainer,\n",
    "    TrainingArguments\n",
    ")\n",
    "\n",
    "from torchvision.transforms import (\n",
    "    Compose,\n",
    "    Normalize,\n",
    "    RandomResizedCrop,\n",
    "    RandomHorizontalFlip,\n",
    "    CenterCrop,\n",
    "    Resize,\n",
    "    ToTensor,\n",
    ")\n",
    "\n",
    "from sklearn.utils.class_weight import compute_sample_weight\n",
    "from datasets import Dataset, DatasetDict, load_metric, ClassLabel\n"
   ]
  },
  {
   "cell_type": "markdown",
   "metadata": {},
   "source": [
    "#### Initialize parameters"
   ]
  },
  {
   "cell_type": "code",
   "execution_count": null,
   "metadata": {},
   "outputs": [],
   "source": [
    "DATA_DIR = \"./face_mask_dataset/\"\n",
    "MODEL_CHECKPOINT = \"google/vit-base-patch16-224-in21k\"\n",
    "DEVICE = \"cuda\" if torch.cuda.is_available() else \"cpu\"\n",
    "MODEL_OUTPUT = \"vit-face-mask-classification\"\n",
    "NUM_OF_EPOCHS = 10\n",
    "BATCH_SIZE = 64\n",
    "STRATEGY = \"epoch\"\n",
    "LR = 5e-5"
   ]
  },
  {
   "cell_type": "markdown",
   "metadata": {},
   "source": [
    "### Generate Data from DatasetGenerator"
   ]
  },
  {
   "cell_type": "code",
   "execution_count": null,
   "metadata": {},
   "outputs": [],
   "source": [
    "DATA_DIR = './face_mask_dataset'"
   ]
  },
  {
   "cell_type": "code",
   "execution_count": null,
   "metadata": {},
   "outputs": [],
   "source": [
    "dataset = DatasetGenerator(DATA_DIR)"
   ]
  },
  {
   "cell_type": "code",
   "execution_count": null,
   "metadata": {},
   "outputs": [
    {
     "data": {
      "text/plain": [
       "{'image': [<PIL.Image.Image image mode=RGB size=30x37>,\n",
       "  <PIL.Image.Image image mode=RGB size=41x44>,\n",
       "  <PIL.Image.Image image mode=RGB size=35x51>,\n",
       "  <PIL.Image.Image image mode=RGB size=33x35>,\n",
       "  <PIL.Image.Image image mode=RGB size=37x35>,\n",
       "  <PIL.Image.Image image mode=RGB size=16x23>,\n",
       "  <PIL.Image.Image image mode=RGB size=31x41>,\n",
       "  <PIL.Image.Image image mode=RGB size=21x30>,\n",
       "  <PIL.Image.Image image mode=RGB size=30x26>,\n",
       "  <PIL.Image.Image image mode=RGB size=23x20>,\n",
       "  <PIL.Image.Image image mode=RGB size=29x29>,\n",
       "  <PIL.Image.Image image mode=RGB size=28x33>,\n",
       "  <PIL.Image.Image image mode=RGB size=96x116>,\n",
       "  <PIL.Image.Image image mode=RGB size=56x58>,\n",
       "  <PIL.Image.Image image mode=RGB size=13x21>,\n",
       "  <PIL.Image.Image image mode=RGB size=45x39>,\n",
       "  <PIL.Image.Image image mode=RGB size=116x106>,\n",
       "  <PIL.Image.Image image mode=RGB size=39x49>,\n",
       "  <PIL.Image.Image image mode=RGB size=52x56>,\n",
       "  <PIL.Image.Image image mode=RGB size=48x60>,\n",
       "  <PIL.Image.Image image mode=RGB size=42x42>,\n",
       "  <PIL.Image.Image image mode=RGB size=32x39>,\n",
       "  <PIL.Image.Image image mode=RGB size=24x31>,\n",
       "  <PIL.Image.Image image mode=RGB size=20x20>,\n",
       "  <PIL.Image.Image image mode=RGB size=16x17>,\n",
       "  <PIL.Image.Image image mode=RGB size=41x44>,\n",
       "  <PIL.Image.Image image mode=RGB size=35x38>,\n",
       "  <PIL.Image.Image image mode=RGB size=27x27>,\n",
       "  <PIL.Image.Image image mode=RGB size=13x11>,\n",
       "  <PIL.Image.Image image mode=RGB size=13x17>,\n",
       "  <PIL.Image.Image image mode=RGB size=35x59>,\n",
       "  <PIL.Image.Image image mode=RGB size=32x42>,\n",
       "  <PIL.Image.Image image mode=RGB size=32x40>,\n",
       "  <PIL.Image.Image image mode=RGB size=25x31>,\n",
       "  <PIL.Image.Image image mode=RGB size=24x31>,\n",
       "  <PIL.Image.Image image mode=RGB size=31x40>,\n",
       "  <PIL.Image.Image image mode=RGB size=32x43>,\n",
       "  <PIL.Image.Image image mode=RGB size=36x63>,\n",
       "  <PIL.Image.Image image mode=RGB size=26x32>,\n",
       "  <PIL.Image.Image image mode=RGB size=269x340>,\n",
       "  <PIL.Image.Image image mode=RGB size=91x120>,\n",
       "  <PIL.Image.Image image mode=RGB size=25x22>,\n",
       "  <PIL.Image.Image image mode=RGB size=22x23>,\n",
       "  <PIL.Image.Image image mode=RGB size=14x14>,\n",
       "  <PIL.Image.Image image mode=RGB size=14x14>,\n",
       "  <PIL.Image.Image image mode=RGB size=11x11>,\n",
       "  <PIL.Image.Image image mode=RGB size=156x159>,\n",
       "  <PIL.Image.Image image mode=RGB size=54x58>,\n",
       "  <PIL.Image.Image image mode=RGB size=53x54>,\n",
       "  <PIL.Image.Image image mode=RGB size=29x43>,\n",
       "  <PIL.Image.Image image mode=RGB size=50x55>,\n",
       "  <PIL.Image.Image image mode=RGB size=37x42>,\n",
       "  <PIL.Image.Image image mode=RGB size=27x32>,\n",
       "  <PIL.Image.Image image mode=RGB size=28x29>,\n",
       "  <PIL.Image.Image image mode=RGB size=19x23>,\n",
       "  <PIL.Image.Image image mode=RGB size=23x23>,\n",
       "  <PIL.Image.Image image mode=RGB size=15x17>,\n",
       "  <PIL.Image.Image image mode=RGB size=15x16>,\n",
       "  <PIL.Image.Image image mode=RGB size=15x16>,\n",
       "  <PIL.Image.Image image mode=RGB size=12x12>,\n",
       "  <PIL.Image.Image image mode=RGB size=14x12>,\n",
       "  <PIL.Image.Image image mode=RGB size=14x10>,\n",
       "  <PIL.Image.Image image mode=RGB size=10x8>,\n",
       "  <PIL.Image.Image image mode=RGB size=37x37>,\n",
       "  <PIL.Image.Image image mode=RGB size=27x26>,\n",
       "  <PIL.Image.Image image mode=RGB size=22x25>,\n",
       "  <PIL.Image.Image image mode=RGB size=23x23>,\n",
       "  <PIL.Image.Image image mode=RGB size=28x29>,\n",
       "  <PIL.Image.Image image mode=RGB size=18x20>,\n",
       "  <PIL.Image.Image image mode=RGB size=34x34>,\n",
       "  <PIL.Image.Image image mode=RGB size=43x29>,\n",
       "  <PIL.Image.Image image mode=RGB size=52x59>,\n",
       "  <PIL.Image.Image image mode=RGB size=56x43>,\n",
       "  <PIL.Image.Image image mode=RGB size=37x33>,\n",
       "  <PIL.Image.Image image mode=RGB size=29x20>,\n",
       "  <PIL.Image.Image image mode=RGB size=26x24>,\n",
       "  <PIL.Image.Image image mode=RGB size=29x26>,\n",
       "  <PIL.Image.Image image mode=RGB size=36x34>,\n",
       "  <PIL.Image.Image image mode=RGB size=25x27>,\n",
       "  <PIL.Image.Image image mode=RGB size=31x31>,\n",
       "  <PIL.Image.Image image mode=RGB size=27x21>,\n",
       "  <PIL.Image.Image image mode=RGB size=25x24>,\n",
       "  <PIL.Image.Image image mode=RGB size=40x41>,\n",
       "  <PIL.Image.Image image mode=RGB size=37x34>,\n",
       "  <PIL.Image.Image image mode=RGB size=40x38>,\n",
       "  <PIL.Image.Image image mode=RGB size=36x37>,\n",
       "  <PIL.Image.Image image mode=RGB size=24x25>,\n",
       "  <PIL.Image.Image image mode=RGB size=20x20>,\n",
       "  <PIL.Image.Image image mode=RGB size=29x26>,\n",
       "  <PIL.Image.Image image mode=RGB size=18x20>,\n",
       "  <PIL.Image.Image image mode=RGB size=8x15>,\n",
       "  <PIL.Image.Image image mode=RGB size=13x15>,\n",
       "  <PIL.Image.Image image mode=RGB size=10x17>,\n",
       "  <PIL.Image.Image image mode=RGB size=9x19>,\n",
       "  <PIL.Image.Image image mode=RGB size=23x23>,\n",
       "  <PIL.Image.Image image mode=RGB size=21x21>,\n",
       "  <PIL.Image.Image image mode=RGB size=23x25>,\n",
       "  <PIL.Image.Image image mode=RGB size=19x22>,\n",
       "  <PIL.Image.Image image mode=RGB size=23x25>,\n",
       "  <PIL.Image.Image image mode=RGB size=14x14>,\n",
       "  <PIL.Image.Image image mode=RGB size=15x20>,\n",
       "  <PIL.Image.Image image mode=RGB size=48x47>,\n",
       "  <PIL.Image.Image image mode=RGB size=15x16>,\n",
       "  <PIL.Image.Image image mode=RGB size=11x14>,\n",
       "  <PIL.Image.Image image mode=RGB size=14x15>,\n",
       "  <PIL.Image.Image image mode=RGB size=13x15>,\n",
       "  <PIL.Image.Image image mode=RGB size=71x78>,\n",
       "  <PIL.Image.Image image mode=RGB size=73x83>,\n",
       "  <PIL.Image.Image image mode=RGB size=23x24>,\n",
       "  <PIL.Image.Image image mode=RGB size=24x21>,\n",
       "  <PIL.Image.Image image mode=RGB size=19x21>,\n",
       "  <PIL.Image.Image image mode=RGB size=22x22>,\n",
       "  <PIL.Image.Image image mode=RGB size=26x27>,\n",
       "  <PIL.Image.Image image mode=RGB size=24x23>,\n",
       "  <PIL.Image.Image image mode=RGB size=23x22>,\n",
       "  <PIL.Image.Image image mode=RGB size=11x21>,\n",
       "  <PIL.Image.Image image mode=RGB size=24x19>,\n",
       "  <PIL.Image.Image image mode=RGB size=34x34>,\n",
       "  <PIL.Image.Image image mode=RGB size=33x39>,\n",
       "  <PIL.Image.Image image mode=RGB size=37x44>,\n",
       "  <PIL.Image.Image image mode=RGB size=32x34>,\n",
       "  <PIL.Image.Image image mode=RGB size=20x35>,\n",
       "  <PIL.Image.Image image mode=RGB size=96x122>,\n",
       "  <PIL.Image.Image image mode=RGB size=38x37>,\n",
       "  <PIL.Image.Image image mode=RGB size=38x37>,\n",
       "  <PIL.Image.Image image mode=RGB size=28x28>,\n",
       "  <PIL.Image.Image image mode=RGB size=21x24>,\n",
       "  <PIL.Image.Image image mode=RGB size=26x31>,\n",
       "  <PIL.Image.Image image mode=RGB size=12x13>,\n",
       "  <PIL.Image.Image image mode=RGB size=12x13>,\n",
       "  <PIL.Image.Image image mode=RGB size=28x26>,\n",
       "  <PIL.Image.Image image mode=RGB size=25x22>,\n",
       "  <PIL.Image.Image image mode=RGB size=18x17>,\n",
       "  <PIL.Image.Image image mode=RGB size=18x18>,\n",
       "  <PIL.Image.Image image mode=RGB size=22x20>,\n",
       "  <PIL.Image.Image image mode=RGB size=10x12>,\n",
       "  <PIL.Image.Image image mode=RGB size=12x13>,\n",
       "  <PIL.Image.Image image mode=RGB size=8x10>,\n",
       "  <PIL.Image.Image image mode=RGB size=18x20>,\n",
       "  <PIL.Image.Image image mode=RGB size=18x17>,\n",
       "  <PIL.Image.Image image mode=RGB size=17x17>,\n",
       "  <PIL.Image.Image image mode=RGB size=17x17>,\n",
       "  <PIL.Image.Image image mode=RGB size=14x23>,\n",
       "  <PIL.Image.Image image mode=RGB size=11x14>,\n",
       "  <PIL.Image.Image image mode=RGB size=7x16>,\n",
       "  <PIL.Image.Image image mode=RGB size=124x151>,\n",
       "  <PIL.Image.Image image mode=RGB size=30x27>,\n",
       "  <PIL.Image.Image image mode=RGB size=30x31>,\n",
       "  <PIL.Image.Image image mode=RGB size=28x27>,\n",
       "  <PIL.Image.Image image mode=RGB size=27x25>,\n",
       "  <PIL.Image.Image image mode=RGB size=28x25>,\n",
       "  <PIL.Image.Image image mode=RGB size=25x23>,\n",
       "  <PIL.Image.Image image mode=RGB size=13x25>,\n",
       "  <PIL.Image.Image image mode=RGB size=144x175>,\n",
       "  <PIL.Image.Image image mode=RGB size=99x118>,\n",
       "  <PIL.Image.Image image mode=RGB size=94x100>,\n",
       "  <PIL.Image.Image image mode=RGB size=52x58>,\n",
       "  <PIL.Image.Image image mode=RGB size=51x56>,\n",
       "  <PIL.Image.Image image mode=RGB size=21x25>,\n",
       "  <PIL.Image.Image image mode=RGB size=19x26>,\n",
       "  <PIL.Image.Image image mode=RGB size=27x37>,\n",
       "  <PIL.Image.Image image mode=RGB size=98x128>,\n",
       "  <PIL.Image.Image image mode=RGB size=52x59>,\n",
       "  <PIL.Image.Image image mode=RGB size=21x26>,\n",
       "  <PIL.Image.Image image mode=RGB size=41x95>,\n",
       "  <PIL.Image.Image image mode=RGB size=32x34>,\n",
       "  <PIL.Image.Image image mode=RGB size=101x112>,\n",
       "  <PIL.Image.Image image mode=RGB size=18x20>,\n",
       "  <PIL.Image.Image image mode=RGB size=19x23>,\n",
       "  <PIL.Image.Image image mode=RGB size=25x29>,\n",
       "  <PIL.Image.Image image mode=RGB size=16x17>,\n",
       "  <PIL.Image.Image image mode=RGB size=16x18>,\n",
       "  <PIL.Image.Image image mode=RGB size=32x38>,\n",
       "  <PIL.Image.Image image mode=RGB size=20x21>,\n",
       "  <PIL.Image.Image image mode=RGB size=21x18>,\n",
       "  <PIL.Image.Image image mode=RGB size=12x19>,\n",
       "  <PIL.Image.Image image mode=RGB size=39x43>,\n",
       "  <PIL.Image.Image image mode=RGB size=46x54>,\n",
       "  <PIL.Image.Image image mode=RGB size=28x46>,\n",
       "  <PIL.Image.Image image mode=RGB size=25x41>,\n",
       "  <PIL.Image.Image image mode=RGB size=45x49>,\n",
       "  <PIL.Image.Image image mode=RGB size=39x45>,\n",
       "  <PIL.Image.Image image mode=RGB size=27x31>,\n",
       "  <PIL.Image.Image image mode=RGB size=37x41>,\n",
       "  <PIL.Image.Image image mode=RGB size=43x42>,\n",
       "  <PIL.Image.Image image mode=RGB size=18x23>,\n",
       "  <PIL.Image.Image image mode=RGB size=20x25>,\n",
       "  <PIL.Image.Image image mode=RGB size=21x20>,\n",
       "  <PIL.Image.Image image mode=RGB size=84x110>,\n",
       "  <PIL.Image.Image image mode=RGB size=121x139>,\n",
       "  <PIL.Image.Image image mode=RGB size=25x31>,\n",
       "  <PIL.Image.Image image mode=RGB size=21x26>,\n",
       "  <PIL.Image.Image image mode=RGB size=18x23>,\n",
       "  <PIL.Image.Image image mode=RGB size=22x26>,\n",
       "  <PIL.Image.Image image mode=RGB size=16x19>,\n",
       "  <PIL.Image.Image image mode=RGB size=16x19>,\n",
       "  <PIL.Image.Image image mode=RGB size=16x16>,\n",
       "  <PIL.Image.Image image mode=RGB size=95x68>,\n",
       "  <PIL.Image.Image image mode=RGB size=119x131>,\n",
       "  <PIL.Image.Image image mode=RGB size=52x53>,\n",
       "  <PIL.Image.Image image mode=RGB size=15x18>,\n",
       "  <PIL.Image.Image image mode=RGB size=19x18>,\n",
       "  <PIL.Image.Image image mode=RGB size=17x21>,\n",
       "  <PIL.Image.Image image mode=RGB size=17x20>,\n",
       "  <PIL.Image.Image image mode=RGB size=24x21>,\n",
       "  <PIL.Image.Image image mode=RGB size=27x23>,\n",
       "  <PIL.Image.Image image mode=RGB size=77x95>,\n",
       "  <PIL.Image.Image image mode=RGB size=70x64>,\n",
       "  <PIL.Image.Image image mode=RGB size=85x94>,\n",
       "  <PIL.Image.Image image mode=RGB size=17x18>,\n",
       "  <PIL.Image.Image image mode=RGB size=22x23>,\n",
       "  <PIL.Image.Image image mode=RGB size=21x21>,\n",
       "  <PIL.Image.Image image mode=RGB size=31x32>,\n",
       "  <PIL.Image.Image image mode=RGB size=24x19>,\n",
       "  <PIL.Image.Image image mode=RGB size=23x26>,\n",
       "  <PIL.Image.Image image mode=RGB size=23x30>,\n",
       "  <PIL.Image.Image image mode=RGB size=29x31>,\n",
       "  <PIL.Image.Image image mode=RGB size=27x30>,\n",
       "  <PIL.Image.Image image mode=RGB size=27x23>,\n",
       "  <PIL.Image.Image image mode=RGB size=25x25>,\n",
       "  <PIL.Image.Image image mode=RGB size=23x22>,\n",
       "  <PIL.Image.Image image mode=RGB size=30x29>,\n",
       "  <PIL.Image.Image image mode=RGB size=24x22>,\n",
       "  <PIL.Image.Image image mode=RGB size=22x25>,\n",
       "  <PIL.Image.Image image mode=RGB size=28x28>,\n",
       "  <PIL.Image.Image image mode=RGB size=21x14>,\n",
       "  <PIL.Image.Image image mode=RGB size=27x23>,\n",
       "  <PIL.Image.Image image mode=RGB size=30x25>,\n",
       "  <PIL.Image.Image image mode=RGB size=87x127>,\n",
       "  <PIL.Image.Image image mode=RGB size=151x173>,\n",
       "  <PIL.Image.Image image mode=RGB size=126x141>,\n",
       "  <PIL.Image.Image image mode=RGB size=46x59>,\n",
       "  <PIL.Image.Image image mode=RGB size=40x46>,\n",
       "  <PIL.Image.Image image mode=RGB size=100x125>,\n",
       "  <PIL.Image.Image image mode=RGB size=92x133>,\n",
       "  <PIL.Image.Image image mode=RGB size=25x28>,\n",
       "  <PIL.Image.Image image mode=RGB size=20x23>,\n",
       "  <PIL.Image.Image image mode=RGB size=18x20>,\n",
       "  <PIL.Image.Image image mode=RGB size=23x22>,\n",
       "  <PIL.Image.Image image mode=RGB size=20x20>,\n",
       "  <PIL.Image.Image image mode=RGB size=23x23>,\n",
       "  <PIL.Image.Image image mode=RGB size=65x70>,\n",
       "  <PIL.Image.Image image mode=RGB size=59x63>,\n",
       "  <PIL.Image.Image image mode=RGB size=17x24>,\n",
       "  <PIL.Image.Image image mode=RGB size=20x21>,\n",
       "  <PIL.Image.Image image mode=RGB size=19x20>,\n",
       "  <PIL.Image.Image image mode=RGB size=22x22>,\n",
       "  <PIL.Image.Image image mode=RGB size=80x116>,\n",
       "  <PIL.Image.Image image mode=RGB size=56x62>,\n",
       "  <PIL.Image.Image image mode=RGB size=24x40>,\n",
       "  <PIL.Image.Image image mode=RGB size=96x116>,\n",
       "  <PIL.Image.Image image mode=RGB size=72x79>,\n",
       "  <PIL.Image.Image image mode=RGB size=40x59>,\n",
       "  <PIL.Image.Image image mode=RGB size=33x32>,\n",
       "  <PIL.Image.Image image mode=RGB size=35x33>,\n",
       "  <PIL.Image.Image image mode=RGB size=28x32>,\n",
       "  <PIL.Image.Image image mode=RGB size=26x32>,\n",
       "  <PIL.Image.Image image mode=RGB size=29x29>,\n",
       "  <PIL.Image.Image image mode=RGB size=24x30>,\n",
       "  <PIL.Image.Image image mode=RGB size=66x69>,\n",
       "  <PIL.Image.Image image mode=RGB size=36x36>,\n",
       "  <PIL.Image.Image image mode=RGB size=104x124>,\n",
       "  <PIL.Image.Image image mode=RGB size=5x7>,\n",
       "  <PIL.Image.Image image mode=RGB size=7x7>,\n",
       "  <PIL.Image.Image image mode=RGB size=4x4>,\n",
       "  <PIL.Image.Image image mode=RGB size=5x6>,\n",
       "  <PIL.Image.Image image mode=RGB size=6x7>,\n",
       "  <PIL.Image.Image image mode=RGB size=5x6>,\n",
       "  <PIL.Image.Image image mode=RGB size=6x5>,\n",
       "  <PIL.Image.Image image mode=RGB size=10x10>,\n",
       "  <PIL.Image.Image image mode=RGB size=10x12>,\n",
       "  <PIL.Image.Image image mode=RGB size=10x13>,\n",
       "  <PIL.Image.Image image mode=RGB size=16x23>,\n",
       "  <PIL.Image.Image image mode=RGB size=23x27>,\n",
       "  <PIL.Image.Image image mode=RGB size=20x26>,\n",
       "  <PIL.Image.Image image mode=RGB size=21x24>,\n",
       "  <PIL.Image.Image image mode=RGB size=23x29>,\n",
       "  <PIL.Image.Image image mode=RGB size=18x22>,\n",
       "  <PIL.Image.Image image mode=RGB size=15x15>,\n",
       "  <PIL.Image.Image image mode=RGB size=23x23>,\n",
       "  <PIL.Image.Image image mode=RGB size=22x23>,\n",
       "  <PIL.Image.Image image mode=RGB size=94x133>,\n",
       "  <PIL.Image.Image image mode=RGB size=64x66>,\n",
       "  <PIL.Image.Image image mode=RGB size=86x87>,\n",
       "  <PIL.Image.Image image mode=RGB size=36x45>,\n",
       "  <PIL.Image.Image image mode=RGB size=11x14>,\n",
       "  <PIL.Image.Image image mode=RGB size=25x26>,\n",
       "  <PIL.Image.Image image mode=RGB size=20x18>,\n",
       "  <PIL.Image.Image image mode=RGB size=19x20>,\n",
       "  <PIL.Image.Image image mode=RGB size=13x14>,\n",
       "  <PIL.Image.Image image mode=RGB size=19x21>,\n",
       "  <PIL.Image.Image image mode=RGB size=22x27>,\n",
       "  <PIL.Image.Image image mode=RGB size=23x25>,\n",
       "  <PIL.Image.Image image mode=RGB size=18x19>,\n",
       "  <PIL.Image.Image image mode=RGB size=22x23>,\n",
       "  <PIL.Image.Image image mode=RGB size=15x16>,\n",
       "  <PIL.Image.Image image mode=RGB size=18x16>,\n",
       "  <PIL.Image.Image image mode=RGB size=17x17>,\n",
       "  <PIL.Image.Image image mode=RGB size=19x18>,\n",
       "  <PIL.Image.Image image mode=RGB size=21x20>,\n",
       "  <PIL.Image.Image image mode=RGB size=27x34>,\n",
       "  <PIL.Image.Image image mode=RGB size=29x41>,\n",
       "  <PIL.Image.Image image mode=RGB size=24x26>,\n",
       "  <PIL.Image.Image image mode=RGB size=34x37>,\n",
       "  <PIL.Image.Image image mode=RGB size=19x24>,\n",
       "  <PIL.Image.Image image mode=RGB size=32x34>,\n",
       "  <PIL.Image.Image image mode=RGB size=27x29>,\n",
       "  <PIL.Image.Image image mode=RGB size=22x22>,\n",
       "  <PIL.Image.Image image mode=RGB size=13x15>,\n",
       "  <PIL.Image.Image image mode=RGB size=14x17>,\n",
       "  <PIL.Image.Image image mode=RGB size=20x24>,\n",
       "  <PIL.Image.Image image mode=RGB size=11x14>,\n",
       "  <PIL.Image.Image image mode=RGB size=15x15>,\n",
       "  <PIL.Image.Image image mode=RGB size=15x14>,\n",
       "  <PIL.Image.Image image mode=RGB size=21x20>,\n",
       "  <PIL.Image.Image image mode=RGB size=18x18>,\n",
       "  <PIL.Image.Image image mode=RGB size=13x15>,\n",
       "  <PIL.Image.Image image mode=RGB size=17x19>,\n",
       "  <PIL.Image.Image image mode=RGB size=19x19>,\n",
       "  <PIL.Image.Image image mode=RGB size=17x22>,\n",
       "  <PIL.Image.Image image mode=RGB size=8x10>,\n",
       "  <PIL.Image.Image image mode=RGB size=53x64>,\n",
       "  <PIL.Image.Image image mode=RGB size=11x13>,\n",
       "  <PIL.Image.Image image mode=RGB size=13x17>,\n",
       "  <PIL.Image.Image image mode=RGB size=12x14>,\n",
       "  <PIL.Image.Image image mode=RGB size=6x7>,\n",
       "  <PIL.Image.Image image mode=RGB size=5x6>,\n",
       "  <PIL.Image.Image image mode=RGB size=7x8>,\n",
       "  <PIL.Image.Image image mode=RGB size=8x5>,\n",
       "  <PIL.Image.Image image mode=RGB size=12x12>,\n",
       "  <PIL.Image.Image image mode=RGB size=69x73>,\n",
       "  <PIL.Image.Image image mode=RGB size=6x8>,\n",
       "  <PIL.Image.Image image mode=RGB size=4x9>,\n",
       "  <PIL.Image.Image image mode=RGB size=98x118>,\n",
       "  <PIL.Image.Image image mode=RGB size=80x71>,\n",
       "  <PIL.Image.Image image mode=RGB size=80x88>,\n",
       "  <PIL.Image.Image image mode=RGB size=67x101>,\n",
       "  <PIL.Image.Image image mode=RGB size=105x127>,\n",
       "  <PIL.Image.Image image mode=RGB size=17x18>,\n",
       "  <PIL.Image.Image image mode=RGB size=23x28>,\n",
       "  <PIL.Image.Image image mode=RGB size=28x26>,\n",
       "  <PIL.Image.Image image mode=RGB size=22x24>,\n",
       "  <PIL.Image.Image image mode=RGB size=19x21>,\n",
       "  <PIL.Image.Image image mode=RGB size=26x26>,\n",
       "  <PIL.Image.Image image mode=RGB size=22x24>,\n",
       "  <PIL.Image.Image image mode=RGB size=15x18>,\n",
       "  <PIL.Image.Image image mode=RGB size=19x19>,\n",
       "  <PIL.Image.Image image mode=RGB size=19x19>,\n",
       "  <PIL.Image.Image image mode=RGB size=25x27>,\n",
       "  <PIL.Image.Image image mode=RGB size=99x108>,\n",
       "  <PIL.Image.Image image mode=RGB size=86x103>,\n",
       "  <PIL.Image.Image image mode=RGB size=52x57>,\n",
       "  <PIL.Image.Image image mode=RGB size=30x40>,\n",
       "  <PIL.Image.Image image mode=RGB size=23x30>,\n",
       "  <PIL.Image.Image image mode=RGB size=22x27>,\n",
       "  <PIL.Image.Image image mode=RGB size=18x23>,\n",
       "  <PIL.Image.Image image mode=RGB size=21x22>,\n",
       "  <PIL.Image.Image image mode=RGB size=51x44>,\n",
       "  <PIL.Image.Image image mode=RGB size=37x42>,\n",
       "  <PIL.Image.Image image mode=RGB size=40x43>,\n",
       "  <PIL.Image.Image image mode=RGB size=10x15>,\n",
       "  <PIL.Image.Image image mode=RGB size=22x16>,\n",
       "  <PIL.Image.Image image mode=RGB size=16x17>,\n",
       "  <PIL.Image.Image image mode=RGB size=12x11>,\n",
       "  <PIL.Image.Image image mode=RGB size=118x122>,\n",
       "  <PIL.Image.Image image mode=RGB size=21x30>,\n",
       "  <PIL.Image.Image image mode=RGB size=68x105>,\n",
       "  <PIL.Image.Image image mode=RGB size=96x118>,\n",
       "  <PIL.Image.Image image mode=RGB size=137x156>,\n",
       "  <PIL.Image.Image image mode=RGB size=154x169>,\n",
       "  <PIL.Image.Image image mode=RGB size=90x108>,\n",
       "  <PIL.Image.Image image mode=RGB size=24x22>,\n",
       "  <PIL.Image.Image image mode=RGB size=25x29>,\n",
       "  <PIL.Image.Image image mode=RGB size=51x54>,\n",
       "  <PIL.Image.Image image mode=RGB size=40x44>,\n",
       "  <PIL.Image.Image image mode=RGB size=54x56>,\n",
       "  <PIL.Image.Image image mode=RGB size=41x48>,\n",
       "  <PIL.Image.Image image mode=RGB size=61x61>,\n",
       "  <PIL.Image.Image image mode=RGB size=33x62>,\n",
       "  <PIL.Image.Image image mode=RGB size=25x42>,\n",
       "  <PIL.Image.Image image mode=RGB size=32x36>,\n",
       "  <PIL.Image.Image image mode=RGB size=26x33>,\n",
       "  <PIL.Image.Image image mode=RGB size=25x33>,\n",
       "  <PIL.Image.Image image mode=RGB size=23x29>,\n",
       "  <PIL.Image.Image image mode=RGB size=38x35>,\n",
       "  <PIL.Image.Image image mode=RGB size=15x26>,\n",
       "  <PIL.Image.Image image mode=RGB size=40x49>,\n",
       "  <PIL.Image.Image image mode=RGB size=28x36>,\n",
       "  <PIL.Image.Image image mode=RGB size=21x27>,\n",
       "  <PIL.Image.Image image mode=RGB size=13x33>,\n",
       "  <PIL.Image.Image image mode=RGB size=48x42>,\n",
       "  <PIL.Image.Image image mode=RGB size=45x47>,\n",
       "  <PIL.Image.Image image mode=RGB size=35x35>,\n",
       "  <PIL.Image.Image image mode=RGB size=21x26>,\n",
       "  <PIL.Image.Image image mode=RGB size=20x22>,\n",
       "  <PIL.Image.Image image mode=RGB size=29x31>,\n",
       "  <PIL.Image.Image image mode=RGB size=17x19>,\n",
       "  <PIL.Image.Image image mode=RGB size=17x18>,\n",
       "  <PIL.Image.Image image mode=RGB size=27x23>,\n",
       "  <PIL.Image.Image image mode=RGB size=58x62>,\n",
       "  <PIL.Image.Image image mode=RGB size=55x58>,\n",
       "  <PIL.Image.Image image mode=RGB size=107x134>,\n",
       "  <PIL.Image.Image image mode=RGB size=23x24>,\n",
       "  <PIL.Image.Image image mode=RGB size=24x25>,\n",
       "  <PIL.Image.Image image mode=RGB size=34x37>,\n",
       "  <PIL.Image.Image image mode=RGB size=50x50>,\n",
       "  <PIL.Image.Image image mode=RGB size=65x60>,\n",
       "  <PIL.Image.Image image mode=RGB size=31x36>,\n",
       "  <PIL.Image.Image image mode=RGB size=43x48>,\n",
       "  <PIL.Image.Image image mode=RGB size=18x20>,\n",
       "  <PIL.Image.Image image mode=RGB size=15x21>,\n",
       "  <PIL.Image.Image image mode=RGB size=26x29>,\n",
       "  <PIL.Image.Image image mode=RGB size=24x28>,\n",
       "  <PIL.Image.Image image mode=RGB size=24x21>,\n",
       "  <PIL.Image.Image image mode=RGB size=27x27>,\n",
       "  <PIL.Image.Image image mode=RGB size=32x29>,\n",
       "  <PIL.Image.Image image mode=RGB size=22x20>,\n",
       "  <PIL.Image.Image image mode=RGB size=16x19>,\n",
       "  <PIL.Image.Image image mode=RGB size=15x17>,\n",
       "  <PIL.Image.Image image mode=RGB size=12x14>,\n",
       "  <PIL.Image.Image image mode=RGB size=26x38>,\n",
       "  <PIL.Image.Image image mode=RGB size=32x48>,\n",
       "  <PIL.Image.Image image mode=RGB size=24x42>,\n",
       "  <PIL.Image.Image image mode=RGB size=30x24>,\n",
       "  <PIL.Image.Image image mode=RGB size=18x17>,\n",
       "  <PIL.Image.Image image mode=RGB size=48x63>,\n",
       "  <PIL.Image.Image image mode=RGB size=90x85>,\n",
       "  <PIL.Image.Image image mode=RGB size=99x113>,\n",
       "  <PIL.Image.Image image mode=RGB size=19x48>,\n",
       "  <PIL.Image.Image image mode=RGB size=34x32>,\n",
       "  <PIL.Image.Image image mode=RGB size=45x51>,\n",
       "  <PIL.Image.Image image mode=RGB size=17x23>,\n",
       "  <PIL.Image.Image image mode=RGB size=26x24>,\n",
       "  <PIL.Image.Image image mode=RGB size=34x34>,\n",
       "  <PIL.Image.Image image mode=RGB size=78x71>,\n",
       "  <PIL.Image.Image image mode=RGB size=66x59>,\n",
       "  <PIL.Image.Image image mode=RGB size=20x18>,\n",
       "  <PIL.Image.Image image mode=RGB size=79x80>,\n",
       "  <PIL.Image.Image image mode=RGB size=76x81>,\n",
       "  <PIL.Image.Image image mode=RGB size=45x47>,\n",
       "  <PIL.Image.Image image mode=RGB size=84x79>,\n",
       "  <PIL.Image.Image image mode=RGB size=125x116>,\n",
       "  <PIL.Image.Image image mode=RGB size=15x18>,\n",
       "  <PIL.Image.Image image mode=RGB size=11x11>,\n",
       "  <PIL.Image.Image image mode=RGB size=184x211>,\n",
       "  <PIL.Image.Image image mode=RGB size=71x112>,\n",
       "  <PIL.Image.Image image mode=RGB size=44x44>,\n",
       "  <PIL.Image.Image image mode=RGB size=177x165>,\n",
       "  <PIL.Image.Image image mode=RGB size=9x13>,\n",
       "  <PIL.Image.Image image mode=RGB size=9x10>,\n",
       "  <PIL.Image.Image image mode=RGB size=10x15>,\n",
       "  <PIL.Image.Image image mode=RGB size=10x13>,\n",
       "  <PIL.Image.Image image mode=RGB size=13x14>,\n",
       "  <PIL.Image.Image image mode=RGB size=37x27>,\n",
       "  <PIL.Image.Image image mode=RGB size=24x27>,\n",
       "  <PIL.Image.Image image mode=RGB size=24x35>,\n",
       "  <PIL.Image.Image image mode=RGB size=33x34>,\n",
       "  <PIL.Image.Image image mode=RGB size=60x64>,\n",
       "  <PIL.Image.Image image mode=RGB size=105x102>,\n",
       "  <PIL.Image.Image image mode=RGB size=65x62>,\n",
       "  <PIL.Image.Image image mode=RGB size=86x101>,\n",
       "  <PIL.Image.Image image mode=RGB size=43x45>,\n",
       "  <PIL.Image.Image image mode=RGB size=29x34>,\n",
       "  <PIL.Image.Image image mode=RGB size=19x21>,\n",
       "  <PIL.Image.Image image mode=RGB size=61x62>,\n",
       "  <PIL.Image.Image image mode=RGB size=20x20>,\n",
       "  <PIL.Image.Image image mode=RGB size=42x36>,\n",
       "  <PIL.Image.Image image mode=RGB size=28x24>,\n",
       "  <PIL.Image.Image image mode=RGB size=32x34>,\n",
       "  <PIL.Image.Image image mode=RGB size=28x29>,\n",
       "  <PIL.Image.Image image mode=RGB size=15x25>,\n",
       "  <PIL.Image.Image image mode=RGB size=20x29>,\n",
       "  <PIL.Image.Image image mode=RGB size=24x27>,\n",
       "  <PIL.Image.Image image mode=RGB size=28x33>,\n",
       "  <PIL.Image.Image image mode=RGB size=33x38>,\n",
       "  <PIL.Image.Image image mode=RGB size=32x34>,\n",
       "  <PIL.Image.Image image mode=RGB size=23x27>,\n",
       "  <PIL.Image.Image image mode=RGB size=26x29>,\n",
       "  <PIL.Image.Image image mode=RGB size=24x25>,\n",
       "  <PIL.Image.Image image mode=RGB size=19x22>,\n",
       "  <PIL.Image.Image image mode=RGB size=25x22>,\n",
       "  <PIL.Image.Image image mode=RGB size=45x55>,\n",
       "  <PIL.Image.Image image mode=RGB size=38x40>,\n",
       "  <PIL.Image.Image image mode=RGB size=28x25>,\n",
       "  <PIL.Image.Image image mode=RGB size=32x32>,\n",
       "  <PIL.Image.Image image mode=RGB size=40x43>,\n",
       "  <PIL.Image.Image image mode=RGB size=35x37>,\n",
       "  <PIL.Image.Image image mode=RGB size=18x26>,\n",
       "  <PIL.Image.Image image mode=RGB size=70x102>,\n",
       "  <PIL.Image.Image image mode=RGB size=40x44>,\n",
       "  <PIL.Image.Image image mode=RGB size=35x41>,\n",
       "  <PIL.Image.Image image mode=RGB size=48x48>,\n",
       "  <PIL.Image.Image image mode=RGB size=9x12>,\n",
       "  <PIL.Image.Image image mode=RGB size=9x10>,\n",
       "  <PIL.Image.Image image mode=RGB size=15x17>,\n",
       "  <PIL.Image.Image image mode=RGB size=10x13>,\n",
       "  <PIL.Image.Image image mode=RGB size=10x11>,\n",
       "  <PIL.Image.Image image mode=RGB size=17x16>,\n",
       "  <PIL.Image.Image image mode=RGB size=44x49>,\n",
       "  <PIL.Image.Image image mode=RGB size=35x30>,\n",
       "  <PIL.Image.Image image mode=RGB size=53x84>,\n",
       "  <PIL.Image.Image image mode=RGB size=110x88>,\n",
       "  <PIL.Image.Image image mode=RGB size=106x116>,\n",
       "  <PIL.Image.Image image mode=RGB size=26x28>,\n",
       "  <PIL.Image.Image image mode=RGB size=25x22>,\n",
       "  <PIL.Image.Image image mode=RGB size=27x29>,\n",
       "  <PIL.Image.Image image mode=RGB size=24x28>,\n",
       "  <PIL.Image.Image image mode=RGB size=30x34>,\n",
       "  <PIL.Image.Image image mode=RGB size=36x41>,\n",
       "  <PIL.Image.Image image mode=RGB size=22x28>,\n",
       "  <PIL.Image.Image image mode=RGB size=33x33>,\n",
       "  <PIL.Image.Image image mode=RGB size=26x28>,\n",
       "  <PIL.Image.Image image mode=RGB size=32x39>,\n",
       "  <PIL.Image.Image image mode=RGB size=22x25>,\n",
       "  <PIL.Image.Image image mode=RGB size=22x22>,\n",
       "  <PIL.Image.Image image mode=RGB size=17x17>,\n",
       "  <PIL.Image.Image image mode=RGB size=22x20>,\n",
       "  <PIL.Image.Image image mode=RGB size=69x81>,\n",
       "  <PIL.Image.Image image mode=RGB size=57x55>,\n",
       "  <PIL.Image.Image image mode=RGB size=57x62>,\n",
       "  <PIL.Image.Image image mode=RGB size=47x50>,\n",
       "  <PIL.Image.Image image mode=RGB size=39x28>,\n",
       "  <PIL.Image.Image image mode=RGB size=113x153>,\n",
       "  <PIL.Image.Image image mode=RGB size=132x120>,\n",
       "  <PIL.Image.Image image mode=RGB size=54x60>,\n",
       "  <PIL.Image.Image image mode=RGB size=111x130>,\n",
       "  <PIL.Image.Image image mode=RGB size=47x49>,\n",
       "  <PIL.Image.Image image mode=RGB size=25x25>,\n",
       "  <PIL.Image.Image image mode=RGB size=33x39>,\n",
       "  <PIL.Image.Image image mode=RGB size=25x26>,\n",
       "  <PIL.Image.Image image mode=RGB size=45x54>,\n",
       "  <PIL.Image.Image image mode=RGB size=11x12>,\n",
       "  <PIL.Image.Image image mode=RGB size=10x9>,\n",
       "  <PIL.Image.Image image mode=RGB size=83x86>,\n",
       "  <PIL.Image.Image image mode=RGB size=70x76>,\n",
       "  <PIL.Image.Image image mode=RGB size=35x29>,\n",
       "  <PIL.Image.Image image mode=RGB size=36x49>,\n",
       "  <PIL.Image.Image image mode=RGB size=17x25>,\n",
       "  <PIL.Image.Image image mode=RGB size=20x18>,\n",
       "  <PIL.Image.Image image mode=RGB size=31x27>,\n",
       "  <PIL.Image.Image image mode=RGB size=103x139>,\n",
       "  <PIL.Image.Image image mode=RGB size=112x148>,\n",
       "  <PIL.Image.Image image mode=RGB size=64x72>,\n",
       "  <PIL.Image.Image image mode=RGB size=57x59>,\n",
       "  <PIL.Image.Image image mode=RGB size=87x84>,\n",
       "  <PIL.Image.Image image mode=RGB size=49x46>,\n",
       "  <PIL.Image.Image image mode=RGB size=32x31>,\n",
       "  <PIL.Image.Image image mode=RGB size=32x32>,\n",
       "  <PIL.Image.Image image mode=RGB size=26x34>,\n",
       "  <PIL.Image.Image image mode=RGB size=45x34>,\n",
       "  <PIL.Image.Image image mode=RGB size=12x11>,\n",
       "  <PIL.Image.Image image mode=RGB size=5x9>,\n",
       "  <PIL.Image.Image image mode=RGB size=5x6>,\n",
       "  <PIL.Image.Image image mode=RGB size=6x7>,\n",
       "  <PIL.Image.Image image mode=RGB size=7x8>,\n",
       "  <PIL.Image.Image image mode=RGB size=5x8>,\n",
       "  <PIL.Image.Image image mode=RGB size=20x21>,\n",
       "  <PIL.Image.Image image mode=RGB size=18x20>,\n",
       "  <PIL.Image.Image image mode=RGB size=23x23>,\n",
       "  <PIL.Image.Image image mode=RGB size=17x20>,\n",
       "  <PIL.Image.Image image mode=RGB size=22x24>,\n",
       "  <PIL.Image.Image image mode=RGB size=12x14>,\n",
       "  <PIL.Image.Image image mode=RGB size=11x19>,\n",
       "  <PIL.Image.Image image mode=RGB size=17x21>,\n",
       "  <PIL.Image.Image image mode=RGB size=15x18>,\n",
       "  <PIL.Image.Image image mode=RGB size=17x21>,\n",
       "  <PIL.Image.Image image mode=RGB size=22x25>,\n",
       "  <PIL.Image.Image image mode=RGB size=14x17>,\n",
       "  <PIL.Image.Image image mode=RGB size=17x13>,\n",
       "  <PIL.Image.Image image mode=RGB size=18x19>,\n",
       "  <PIL.Image.Image image mode=RGB size=20x21>,\n",
       "  <PIL.Image.Image image mode=RGB size=15x15>,\n",
       "  <PIL.Image.Image image mode=RGB size=15x14>,\n",
       "  <PIL.Image.Image image mode=RGB size=23x27>,\n",
       "  <PIL.Image.Image image mode=RGB size=31x16>,\n",
       "  <PIL.Image.Image image mode=RGB size=24x35>,\n",
       "  <PIL.Image.Image image mode=RGB size=16x30>,\n",
       "  <PIL.Image.Image image mode=RGB size=10x11>,\n",
       "  <PIL.Image.Image image mode=RGB size=13x12>,\n",
       "  <PIL.Image.Image image mode=RGB size=8x8>,\n",
       "  <PIL.Image.Image image mode=RGB size=10x13>,\n",
       "  <PIL.Image.Image image mode=RGB size=8x13>,\n",
       "  <PIL.Image.Image image mode=RGB size=15x14>,\n",
       "  <PIL.Image.Image image mode=RGB size=11x9>,\n",
       "  <PIL.Image.Image image mode=RGB size=15x16>,\n",
       "  <PIL.Image.Image image mode=RGB size=11x23>,\n",
       "  <PIL.Image.Image image mode=RGB size=12x12>,\n",
       "  <PIL.Image.Image image mode=RGB size=84x88>,\n",
       "  <PIL.Image.Image image mode=RGB size=106x147>,\n",
       "  <PIL.Image.Image image mode=RGB size=64x65>,\n",
       "  <PIL.Image.Image image mode=RGB size=27x29>,\n",
       "  <PIL.Image.Image image mode=RGB size=22x28>,\n",
       "  <PIL.Image.Image image mode=RGB size=25x32>,\n",
       "  <PIL.Image.Image image mode=RGB size=23x22>,\n",
       "  <PIL.Image.Image image mode=RGB size=21x23>,\n",
       "  <PIL.Image.Image image mode=RGB size=32x61>,\n",
       "  <PIL.Image.Image image mode=RGB size=18x18>,\n",
       "  <PIL.Image.Image image mode=RGB size=21x18>,\n",
       "  <PIL.Image.Image image mode=RGB size=15x15>,\n",
       "  <PIL.Image.Image image mode=RGB size=16x13>,\n",
       "  <PIL.Image.Image image mode=RGB size=8x10>,\n",
       "  <PIL.Image.Image image mode=RGB size=11x12>,\n",
       "  <PIL.Image.Image image mode=RGB size=101x133>,\n",
       "  <PIL.Image.Image image mode=RGB size=31x43>,\n",
       "  <PIL.Image.Image image mode=RGB size=36x31>,\n",
       "  <PIL.Image.Image image mode=RGB size=19x19>,\n",
       "  <PIL.Image.Image image mode=RGB size=17x19>,\n",
       "  <PIL.Image.Image image mode=RGB size=21x22>,\n",
       "  <PIL.Image.Image image mode=RGB size=15x20>,\n",
       "  <PIL.Image.Image image mode=RGB size=14x22>,\n",
       "  <PIL.Image.Image image mode=RGB size=24x26>,\n",
       "  <PIL.Image.Image image mode=RGB size=24x29>,\n",
       "  <PIL.Image.Image image mode=RGB size=27x23>,\n",
       "  <PIL.Image.Image image mode=RGB size=11x16>,\n",
       "  <PIL.Image.Image image mode=RGB size=15x10>,\n",
       "  <PIL.Image.Image image mode=RGB size=28x31>,\n",
       "  <PIL.Image.Image image mode=RGB size=8x14>,\n",
       "  <PIL.Image.Image image mode=RGB size=53x57>,\n",
       "  <PIL.Image.Image image mode=RGB size=76x74>,\n",
       "  <PIL.Image.Image image mode=RGB size=59x55>,\n",
       "  <PIL.Image.Image image mode=RGB size=53x54>,\n",
       "  <PIL.Image.Image image mode=RGB size=81x80>,\n",
       "  <PIL.Image.Image image mode=RGB size=88x89>,\n",
       "  <PIL.Image.Image image mode=RGB size=20x24>,\n",
       "  <PIL.Image.Image image mode=RGB size=24x24>,\n",
       "  <PIL.Image.Image image mode=RGB size=18x23>,\n",
       "  <PIL.Image.Image image mode=RGB size=18x26>,\n",
       "  <PIL.Image.Image image mode=RGB size=20x25>,\n",
       "  <PIL.Image.Image image mode=RGB size=23x26>,\n",
       "  <PIL.Image.Image image mode=RGB size=23x23>,\n",
       "  <PIL.Image.Image image mode=RGB size=23x25>,\n",
       "  <PIL.Image.Image image mode=RGB size=24x26>,\n",
       "  <PIL.Image.Image image mode=RGB size=20x22>,\n",
       "  <PIL.Image.Image image mode=RGB size=17x26>,\n",
       "  <PIL.Image.Image image mode=RGB size=26x28>,\n",
       "  <PIL.Image.Image image mode=RGB size=24x26>,\n",
       "  <PIL.Image.Image image mode=RGB size=21x22>,\n",
       "  <PIL.Image.Image image mode=RGB size=9x20>,\n",
       "  <PIL.Image.Image image mode=RGB size=27x23>,\n",
       "  <PIL.Image.Image image mode=RGB size=15x18>,\n",
       "  <PIL.Image.Image image mode=RGB size=16x14>,\n",
       "  <PIL.Image.Image image mode=RGB size=11x14>,\n",
       "  <PIL.Image.Image image mode=RGB size=9x12>,\n",
       "  <PIL.Image.Image image mode=RGB size=71x81>,\n",
       "  <PIL.Image.Image image mode=RGB size=45x46>,\n",
       "  <PIL.Image.Image image mode=RGB size=11x11>,\n",
       "  <PIL.Image.Image image mode=RGB size=9x17>,\n",
       "  <PIL.Image.Image image mode=RGB size=12x11>,\n",
       "  <PIL.Image.Image image mode=RGB size=11x11>,\n",
       "  <PIL.Image.Image image mode=RGB size=32x36>,\n",
       "  <PIL.Image.Image image mode=RGB size=10x15>,\n",
       "  <PIL.Image.Image image mode=RGB size=17x12>,\n",
       "  <PIL.Image.Image image mode=RGB size=9x11>,\n",
       "  <PIL.Image.Image image mode=RGB size=106x135>,\n",
       "  <PIL.Image.Image image mode=RGB size=14x15>,\n",
       "  <PIL.Image.Image image mode=RGB size=41x46>,\n",
       "  <PIL.Image.Image image mode=RGB size=17x20>,\n",
       "  <PIL.Image.Image image mode=RGB size=16x21>,\n",
       "  <PIL.Image.Image image mode=RGB size=17x20>,\n",
       "  <PIL.Image.Image image mode=RGB size=17x19>,\n",
       "  <PIL.Image.Image image mode=RGB size=16x14>,\n",
       "  <PIL.Image.Image image mode=RGB size=16x20>,\n",
       "  <PIL.Image.Image image mode=RGB size=10x21>,\n",
       "  <PIL.Image.Image image mode=RGB size=15x22>,\n",
       "  <PIL.Image.Image image mode=RGB size=16x17>,\n",
       "  <PIL.Image.Image image mode=RGB size=15x18>,\n",
       "  <PIL.Image.Image image mode=RGB size=98x109>,\n",
       "  <PIL.Image.Image image mode=RGB size=56x40>,\n",
       "  <PIL.Image.Image image mode=RGB size=18x16>,\n",
       "  <PIL.Image.Image image mode=RGB size=16x16>,\n",
       "  <PIL.Image.Image image mode=RGB size=15x16>,\n",
       "  <PIL.Image.Image image mode=RGB size=14x14>,\n",
       "  <PIL.Image.Image image mode=RGB size=17x16>,\n",
       "  <PIL.Image.Image image mode=RGB size=15x15>,\n",
       "  <PIL.Image.Image image mode=RGB size=14x10>,\n",
       "  <PIL.Image.Image image mode=RGB size=13x12>,\n",
       "  <PIL.Image.Image image mode=RGB size=13x13>,\n",
       "  <PIL.Image.Image image mode=RGB size=11x9>,\n",
       "  <PIL.Image.Image image mode=RGB size=14x14>,\n",
       "  <PIL.Image.Image image mode=RGB size=12x12>,\n",
       "  <PIL.Image.Image image mode=RGB size=14x14>,\n",
       "  <PIL.Image.Image image mode=RGB size=13x11>,\n",
       "  <PIL.Image.Image image mode=RGB size=7x10>,\n",
       "  <PIL.Image.Image image mode=RGB size=8x11>,\n",
       "  <PIL.Image.Image image mode=RGB size=9x10>,\n",
       "  <PIL.Image.Image image mode=RGB size=12x11>,\n",
       "  <PIL.Image.Image image mode=RGB size=11x11>,\n",
       "  <PIL.Image.Image image mode=RGB size=11x10>,\n",
       "  <PIL.Image.Image image mode=RGB size=8x11>,\n",
       "  <PIL.Image.Image image mode=RGB size=9x12>,\n",
       "  <PIL.Image.Image image mode=RGB size=12x13>,\n",
       "  <PIL.Image.Image image mode=RGB size=15x14>,\n",
       "  <PIL.Image.Image image mode=RGB size=13x11>,\n",
       "  <PIL.Image.Image image mode=RGB size=14x10>,\n",
       "  <PIL.Image.Image image mode=RGB size=17x17>,\n",
       "  <PIL.Image.Image image mode=RGB size=6x11>,\n",
       "  <PIL.Image.Image image mode=RGB size=13x12>,\n",
       "  <PIL.Image.Image image mode=RGB size=14x15>,\n",
       "  <PIL.Image.Image image mode=RGB size=14x13>,\n",
       "  <PIL.Image.Image image mode=RGB size=10x12>,\n",
       "  <PIL.Image.Image image mode=RGB size=7x9>,\n",
       "  <PIL.Image.Image image mode=RGB size=12x12>,\n",
       "  <PIL.Image.Image image mode=RGB size=10x11>,\n",
       "  <PIL.Image.Image image mode=RGB size=12x12>,\n",
       "  <PIL.Image.Image image mode=RGB size=10x9>,\n",
       "  <PIL.Image.Image image mode=RGB size=13x12>,\n",
       "  <PIL.Image.Image image mode=RGB size=12x10>,\n",
       "  <PIL.Image.Image image mode=RGB size=11x14>,\n",
       "  <PIL.Image.Image image mode=RGB size=14x14>,\n",
       "  <PIL.Image.Image image mode=RGB size=13x14>,\n",
       "  <PIL.Image.Image image mode=RGB size=14x14>,\n",
       "  <PIL.Image.Image image mode=RGB size=12x14>,\n",
       "  <PIL.Image.Image image mode=RGB size=11x10>,\n",
       "  <PIL.Image.Image image mode=RGB size=7x10>,\n",
       "  <PIL.Image.Image image mode=RGB size=9x8>,\n",
       "  <PIL.Image.Image image mode=RGB size=9x9>,\n",
       "  <PIL.Image.Image image mode=RGB size=10x7>,\n",
       "  <PIL.Image.Image image mode=RGB size=12x9>,\n",
       "  <PIL.Image.Image image mode=RGB size=14x10>,\n",
       "  <PIL.Image.Image image mode=RGB size=5x11>,\n",
       "  <PIL.Image.Image image mode=RGB size=13x10>,\n",
       "  <PIL.Image.Image image mode=RGB size=13x13>,\n",
       "  <PIL.Image.Image image mode=RGB size=7x11>,\n",
       "  <PIL.Image.Image image mode=RGB size=13x13>,\n",
       "  <PIL.Image.Image image mode=RGB size=15x11>,\n",
       "  <PIL.Image.Image image mode=RGB size=14x13>,\n",
       "  <PIL.Image.Image image mode=RGB size=9x8>,\n",
       "  <PIL.Image.Image image mode=RGB size=14x13>,\n",
       "  <PIL.Image.Image image mode=RGB size=7x7>,\n",
       "  <PIL.Image.Image image mode=RGB size=74x73>,\n",
       "  <PIL.Image.Image image mode=RGB size=66x75>,\n",
       "  <PIL.Image.Image image mode=RGB size=94x126>,\n",
       "  <PIL.Image.Image image mode=RGB size=43x41>,\n",
       "  <PIL.Image.Image image mode=RGB size=54x60>,\n",
       "  <PIL.Image.Image image mode=RGB size=85x96>,\n",
       "  <PIL.Image.Image image mode=RGB size=25x29>,\n",
       "  <PIL.Image.Image image mode=RGB size=15x17>,\n",
       "  <PIL.Image.Image image mode=RGB size=18x19>,\n",
       "  <PIL.Image.Image image mode=RGB size=29x30>,\n",
       "  <PIL.Image.Image image mode=RGB size=21x24>,\n",
       "  <PIL.Image.Image image mode=RGB size=19x22>,\n",
       "  <PIL.Image.Image image mode=RGB size=15x20>,\n",
       "  <PIL.Image.Image image mode=RGB size=28x32>,\n",
       "  <PIL.Image.Image image mode=RGB size=20x20>,\n",
       "  <PIL.Image.Image image mode=RGB size=48x53>,\n",
       "  <PIL.Image.Image image mode=RGB size=8x9>,\n",
       "  <PIL.Image.Image image mode=RGB size=28x23>,\n",
       "  <PIL.Image.Image image mode=RGB size=26x26>,\n",
       "  <PIL.Image.Image image mode=RGB size=28x27>,\n",
       "  <PIL.Image.Image image mode=RGB size=25x18>,\n",
       "  <PIL.Image.Image image mode=RGB size=25x27>,\n",
       "  <PIL.Image.Image image mode=RGB size=25x38>,\n",
       "  <PIL.Image.Image image mode=RGB size=29x35>,\n",
       "  <PIL.Image.Image image mode=RGB size=31x39>,\n",
       "  <PIL.Image.Image image mode=RGB size=33x30>,\n",
       "  <PIL.Image.Image image mode=RGB size=29x32>,\n",
       "  <PIL.Image.Image image mode=RGB size=27x38>,\n",
       "  <PIL.Image.Image image mode=RGB size=36x30>,\n",
       "  <PIL.Image.Image image mode=RGB size=29x34>,\n",
       "  <PIL.Image.Image image mode=RGB size=59x109>,\n",
       "  <PIL.Image.Image image mode=RGB size=66x74>,\n",
       "  <PIL.Image.Image image mode=RGB size=59x72>,\n",
       "  <PIL.Image.Image image mode=RGB size=43x57>,\n",
       "  <PIL.Image.Image image mode=RGB size=73x84>,\n",
       "  <PIL.Image.Image image mode=RGB size=42x43>,\n",
       "  <PIL.Image.Image image mode=RGB size=33x38>,\n",
       "  <PIL.Image.Image image mode=RGB size=19x28>,\n",
       "  <PIL.Image.Image image mode=RGB size=33x43>,\n",
       "  <PIL.Image.Image image mode=RGB size=44x53>,\n",
       "  <PIL.Image.Image image mode=RGB size=32x37>,\n",
       "  <PIL.Image.Image image mode=RGB size=26x30>,\n",
       "  <PIL.Image.Image image mode=RGB size=23x31>,\n",
       "  <PIL.Image.Image image mode=RGB size=26x35>,\n",
       "  <PIL.Image.Image image mode=RGB size=22x28>,\n",
       "  <PIL.Image.Image image mode=RGB size=24x41>,\n",
       "  <PIL.Image.Image image mode=RGB size=38x25>,\n",
       "  <PIL.Image.Image image mode=RGB size=44x40>,\n",
       "  <PIL.Image.Image image mode=RGB size=28x36>,\n",
       "  <PIL.Image.Image image mode=RGB size=25x30>,\n",
       "  <PIL.Image.Image image mode=RGB size=24x30>,\n",
       "  <PIL.Image.Image image mode=RGB size=33x33>,\n",
       "  <PIL.Image.Image image mode=RGB size=25x37>,\n",
       "  <PIL.Image.Image image mode=RGB size=26x34>,\n",
       "  <PIL.Image.Image image mode=RGB size=22x28>,\n",
       "  <PIL.Image.Image image mode=RGB size=19x20>,\n",
       "  <PIL.Image.Image image mode=RGB size=23x30>,\n",
       "  <PIL.Image.Image image mode=RGB size=36x42>,\n",
       "  <PIL.Image.Image image mode=RGB size=23x32>,\n",
       "  <PIL.Image.Image image mode=RGB size=28x38>,\n",
       "  <PIL.Image.Image image mode=RGB size=25x31>,\n",
       "  <PIL.Image.Image image mode=RGB size=21x19>,\n",
       "  <PIL.Image.Image image mode=RGB size=27x29>,\n",
       "  <PIL.Image.Image image mode=RGB size=19x44>,\n",
       "  <PIL.Image.Image image mode=RGB size=104x96>,\n",
       "  <PIL.Image.Image image mode=RGB size=43x50>,\n",
       "  <PIL.Image.Image image mode=RGB size=17x20>,\n",
       "  <PIL.Image.Image image mode=RGB size=29x31>,\n",
       "  <PIL.Image.Image image mode=RGB size=28x27>,\n",
       "  <PIL.Image.Image image mode=RGB size=39x35>,\n",
       "  <PIL.Image.Image image mode=RGB size=40x35>,\n",
       "  <PIL.Image.Image image mode=RGB size=12x12>,\n",
       "  <PIL.Image.Image image mode=RGB size=17x20>,\n",
       "  <PIL.Image.Image image mode=RGB size=17x32>,\n",
       "  <PIL.Image.Image image mode=RGB size=15x16>,\n",
       "  <PIL.Image.Image image mode=RGB size=38x43>,\n",
       "  <PIL.Image.Image image mode=RGB size=49x49>,\n",
       "  <PIL.Image.Image image mode=RGB size=71x78>,\n",
       "  <PIL.Image.Image image mode=RGB size=58x63>,\n",
       "  <PIL.Image.Image image mode=RGB size=19x25>,\n",
       "  <PIL.Image.Image image mode=RGB size=20x31>,\n",
       "  <PIL.Image.Image image mode=RGB size=22x22>,\n",
       "  <PIL.Image.Image image mode=RGB size=7x6>,\n",
       "  <PIL.Image.Image image mode=RGB size=8x7>,\n",
       "  <PIL.Image.Image image mode=RGB size=15x15>,\n",
       "  <PIL.Image.Image image mode=RGB size=12x15>,\n",
       "  <PIL.Image.Image image mode=RGB size=21x22>,\n",
       "  <PIL.Image.Image image mode=RGB size=9x12>,\n",
       "  <PIL.Image.Image image mode=RGB size=8x9>,\n",
       "  <PIL.Image.Image image mode=RGB size=5x6>,\n",
       "  <PIL.Image.Image image mode=RGB size=7x8>,\n",
       "  <PIL.Image.Image image mode=RGB size=14x16>,\n",
       "  <PIL.Image.Image image mode=RGB size=8x12>,\n",
       "  <PIL.Image.Image image mode=RGB size=23x22>,\n",
       "  <PIL.Image.Image image mode=RGB size=26x30>,\n",
       "  <PIL.Image.Image image mode=RGB size=5x5>,\n",
       "  <PIL.Image.Image image mode=RGB size=10x15>,\n",
       "  <PIL.Image.Image image mode=RGB size=8x10>,\n",
       "  <PIL.Image.Image image mode=RGB size=14x16>,\n",
       "  <PIL.Image.Image image mode=RGB size=64x69>,\n",
       "  <PIL.Image.Image image mode=RGB size=24x29>,\n",
       "  <PIL.Image.Image image mode=RGB size=16x19>,\n",
       "  <PIL.Image.Image image mode=RGB size=20x20>,\n",
       "  <PIL.Image.Image image mode=RGB size=16x15>,\n",
       "  <PIL.Image.Image image mode=RGB size=23x26>,\n",
       "  <PIL.Image.Image image mode=RGB size=13x13>,\n",
       "  <PIL.Image.Image image mode=RGB size=20x20>,\n",
       "  <PIL.Image.Image image mode=RGB size=18x20>,\n",
       "  <PIL.Image.Image image mode=RGB size=20x20>,\n",
       "  <PIL.Image.Image image mode=RGB size=19x21>,\n",
       "  <PIL.Image.Image image mode=RGB size=13x15>,\n",
       "  <PIL.Image.Image image mode=RGB size=17x16>,\n",
       "  <PIL.Image.Image image mode=RGB size=10x11>,\n",
       "  <PIL.Image.Image image mode=RGB size=20x22>,\n",
       "  <PIL.Image.Image image mode=RGB size=38x57>,\n",
       "  <PIL.Image.Image image mode=RGB size=47x49>,\n",
       "  <PIL.Image.Image image mode=RGB size=42x51>,\n",
       "  <PIL.Image.Image image mode=RGB size=42x41>,\n",
       "  <PIL.Image.Image image mode=RGB size=37x33>,\n",
       "  <PIL.Image.Image image mode=RGB size=39x51>,\n",
       "  <PIL.Image.Image image mode=RGB size=37x53>,\n",
       "  <PIL.Image.Image image mode=RGB size=37x37>,\n",
       "  <PIL.Image.Image image mode=RGB size=61x65>,\n",
       "  <PIL.Image.Image image mode=RGB size=76x93>,\n",
       "  <PIL.Image.Image image mode=RGB size=101x119>,\n",
       "  <PIL.Image.Image image mode=RGB size=82x87>,\n",
       "  <PIL.Image.Image image mode=RGB size=25x26>,\n",
       "  <PIL.Image.Image image mode=RGB size=23x26>,\n",
       "  <PIL.Image.Image image mode=RGB size=22x25>,\n",
       "  <PIL.Image.Image image mode=RGB size=27x26>,\n",
       "  <PIL.Image.Image image mode=RGB size=25x22>,\n",
       "  <PIL.Image.Image image mode=RGB size=22x15>,\n",
       "  <PIL.Image.Image image mode=RGB size=23x23>,\n",
       "  <PIL.Image.Image image mode=RGB size=19x18>,\n",
       "  <PIL.Image.Image image mode=RGB size=13x19>,\n",
       "  <PIL.Image.Image image mode=RGB size=15x16>,\n",
       "  <PIL.Image.Image image mode=RGB size=22x21>,\n",
       "  <PIL.Image.Image image mode=RGB size=22x21>,\n",
       "  <PIL.Image.Image image mode=RGB size=12x23>,\n",
       "  <PIL.Image.Image image mode=RGB size=22x24>,\n",
       "  <PIL.Image.Image image mode=RGB size=20x22>,\n",
       "  <PIL.Image.Image image mode=RGB size=10x22>,\n",
       "  <PIL.Image.Image image mode=RGB size=16x13>,\n",
       "  <PIL.Image.Image image mode=RGB size=18x18>,\n",
       "  <PIL.Image.Image image mode=RGB size=16x17>,\n",
       "  <PIL.Image.Image image mode=RGB size=18x18>,\n",
       "  <PIL.Image.Image image mode=RGB size=21x18>,\n",
       "  <PIL.Image.Image image mode=RGB size=20x18>,\n",
       "  <PIL.Image.Image image mode=RGB size=17x18>,\n",
       "  <PIL.Image.Image image mode=RGB size=11x18>,\n",
       "  <PIL.Image.Image image mode=RGB size=16x19>,\n",
       "  <PIL.Image.Image image mode=RGB size=18x14>,\n",
       "  <PIL.Image.Image image mode=RGB size=16x18>,\n",
       "  <PIL.Image.Image image mode=RGB size=14x18>,\n",
       "  <PIL.Image.Image image mode=RGB size=14x18>,\n",
       "  <PIL.Image.Image image mode=RGB size=13x16>,\n",
       "  <PIL.Image.Image image mode=RGB size=13x16>,\n",
       "  <PIL.Image.Image image mode=RGB size=16x19>,\n",
       "  <PIL.Image.Image image mode=RGB size=15x17>,\n",
       "  <PIL.Image.Image image mode=RGB size=12x14>,\n",
       "  <PIL.Image.Image image mode=RGB size=9x14>,\n",
       "  <PIL.Image.Image image mode=RGB size=13x16>,\n",
       "  <PIL.Image.Image image mode=RGB size=12x17>,\n",
       "  <PIL.Image.Image image mode=RGB size=11x17>,\n",
       "  <PIL.Image.Image image mode=RGB size=14x18>,\n",
       "  <PIL.Image.Image image mode=RGB size=14x18>,\n",
       "  <PIL.Image.Image image mode=RGB size=16x19>,\n",
       "  <PIL.Image.Image image mode=RGB size=14x17>,\n",
       "  <PIL.Image.Image image mode=RGB size=10x18>,\n",
       "  <PIL.Image.Image image mode=RGB size=12x14>,\n",
       "  <PIL.Image.Image image mode=RGB size=14x15>,\n",
       "  <PIL.Image.Image image mode=RGB size=13x17>,\n",
       "  <PIL.Image.Image image mode=RGB size=10x12>,\n",
       "  <PIL.Image.Image image mode=RGB size=13x14>,\n",
       "  <PIL.Image.Image image mode=RGB size=13x12>,\n",
       "  <PIL.Image.Image image mode=RGB size=13x14>,\n",
       "  <PIL.Image.Image image mode=RGB size=15x14>,\n",
       "  <PIL.Image.Image image mode=RGB size=10x11>,\n",
       "  <PIL.Image.Image image mode=RGB size=10x14>,\n",
       "  <PIL.Image.Image image mode=RGB size=33x32>,\n",
       "  <PIL.Image.Image image mode=RGB size=32x35>,\n",
       "  <PIL.Image.Image image mode=RGB size=46x43>,\n",
       "  <PIL.Image.Image image mode=RGB size=34x38>,\n",
       "  <PIL.Image.Image image mode=RGB size=35x35>,\n",
       "  <PIL.Image.Image image mode=RGB size=30x21>,\n",
       "  <PIL.Image.Image image mode=RGB size=109x137>,\n",
       "  <PIL.Image.Image image mode=RGB size=37x40>,\n",
       "  <PIL.Image.Image image mode=RGB size=52x61>,\n",
       "  <PIL.Image.Image image mode=RGB size=57x65>,\n",
       "  <PIL.Image.Image image mode=RGB size=69x65>,\n",
       "  <PIL.Image.Image image mode=RGB size=29x29>,\n",
       "  <PIL.Image.Image image mode=RGB size=50x50>,\n",
       "  <PIL.Image.Image image mode=RGB size=123x49>,\n",
       "  <PIL.Image.Image image mode=RGB size=45x48>,\n",
       "  <PIL.Image.Image image mode=RGB size=30x30>,\n",
       "  <PIL.Image.Image image mode=RGB size=36x36>,\n",
       "  <PIL.Image.Image image mode=RGB size=32x37>,\n",
       "  <PIL.Image.Image image mode=RGB size=30x33>,\n",
       "  <PIL.Image.Image image mode=RGB size=30x38>,\n",
       "  <PIL.Image.Image image mode=RGB size=20x24>,\n",
       "  <PIL.Image.Image image mode=RGB size=23x32>,\n",
       "  <PIL.Image.Image image mode=RGB size=29x33>,\n",
       "  <PIL.Image.Image image mode=RGB size=106x125>,\n",
       "  <PIL.Image.Image image mode=RGB size=24x22>,\n",
       "  <PIL.Image.Image image mode=RGB size=22x24>,\n",
       "  <PIL.Image.Image image mode=RGB size=19x25>,\n",
       "  <PIL.Image.Image image mode=RGB size=23x24>,\n",
       "  <PIL.Image.Image image mode=RGB size=75x61>,\n",
       "  <PIL.Image.Image image mode=RGB size=38x57>,\n",
       "  <PIL.Image.Image image mode=RGB size=29x27>,\n",
       "  <PIL.Image.Image image mode=RGB size=23x21>,\n",
       "  <PIL.Image.Image image mode=RGB size=151x156>,\n",
       "  <PIL.Image.Image image mode=RGB size=108x116>,\n",
       "  <PIL.Image.Image image mode=RGB size=88x97>,\n",
       "  <PIL.Image.Image image mode=RGB size=34x33>,\n",
       "  <PIL.Image.Image image mode=RGB size=37x38>,\n",
       "  <PIL.Image.Image image mode=RGB size=37x37>,\n",
       "  <PIL.Image.Image image mode=RGB size=21x22>,\n",
       "  <PIL.Image.Image image mode=RGB size=14x18>,\n",
       "  <PIL.Image.Image image mode=RGB size=10x15>,\n",
       "  <PIL.Image.Image image mode=RGB size=123x156>,\n",
       "  <PIL.Image.Image image mode=RGB size=170x197>,\n",
       "  <PIL.Image.Image image mode=RGB size=106x134>,\n",
       "  <PIL.Image.Image image mode=RGB size=76x81>,\n",
       "  <PIL.Image.Image image mode=RGB size=89x93>,\n",
       "  <PIL.Image.Image image mode=RGB size=100x122>,\n",
       "  <PIL.Image.Image image mode=RGB size=36x41>,\n",
       "  <PIL.Image.Image image mode=RGB size=21x14>,\n",
       "  <PIL.Image.Image image mode=RGB size=18x15>,\n",
       "  <PIL.Image.Image image mode=RGB size=8x9>,\n",
       "  <PIL.Image.Image image mode=RGB size=11x11>,\n",
       "  <PIL.Image.Image image mode=RGB size=15x18>,\n",
       "  <PIL.Image.Image image mode=RGB size=16x19>,\n",
       "  <PIL.Image.Image image mode=RGB size=11x19>,\n",
       "  <PIL.Image.Image image mode=RGB size=15x17>,\n",
       "  <PIL.Image.Image image mode=RGB size=4x5>,\n",
       "  <PIL.Image.Image image mode=RGB size=4x5>,\n",
       "  <PIL.Image.Image image mode=RGB size=6x6>,\n",
       "  <PIL.Image.Image image mode=RGB size=39x40>,\n",
       "  <PIL.Image.Image image mode=RGB size=25x25>,\n",
       "  <PIL.Image.Image image mode=RGB size=23x25>,\n",
       "  <PIL.Image.Image image mode=RGB size=30x30>,\n",
       "  <PIL.Image.Image image mode=RGB size=51x55>,\n",
       "  <PIL.Image.Image image mode=RGB size=31x29>,\n",
       "  <PIL.Image.Image image mode=RGB size=30x18>,\n",
       "  <PIL.Image.Image image mode=RGB size=65x73>,\n",
       "  <PIL.Image.Image image mode=RGB size=18x18>,\n",
       "  <PIL.Image.Image image mode=RGB size=13x13>,\n",
       "  <PIL.Image.Image image mode=RGB size=17x16>,\n",
       "  <PIL.Image.Image image mode=RGB size=13x12>,\n",
       "  <PIL.Image.Image image mode=RGB size=16x17>,\n",
       "  <PIL.Image.Image image mode=RGB size=21x23>,\n",
       "  <PIL.Image.Image image mode=RGB size=15x15>,\n",
       "  <PIL.Image.Image image mode=RGB size=14x14>,\n",
       "  <PIL.Image.Image image mode=RGB size=18x19>,\n",
       "  <PIL.Image.Image image mode=RGB size=14x14>,\n",
       "  <PIL.Image.Image image mode=RGB size=10x8>,\n",
       "  <PIL.Image.Image image mode=RGB size=9x11>,\n",
       "  <PIL.Image.Image image mode=RGB size=10x9>,\n",
       "  <PIL.Image.Image image mode=RGB size=13x11>,\n",
       "  <PIL.Image.Image image mode=RGB size=10x10>,\n",
       "  <PIL.Image.Image image mode=RGB size=10x12>,\n",
       "  <PIL.Image.Image image mode=RGB size=12x13>,\n",
       "  <PIL.Image.Image image mode=RGB size=5x9>,\n",
       "  <PIL.Image.Image image mode=RGB size=8x9>,\n",
       "  <PIL.Image.Image image mode=RGB size=12x10>,\n",
       "  <PIL.Image.Image image mode=RGB size=12x12>,\n",
       "  <PIL.Image.Image image mode=RGB size=97x125>,\n",
       "  <PIL.Image.Image image mode=RGB size=40x38>,\n",
       "  <PIL.Image.Image image mode=RGB size=65x82>,\n",
       "  <PIL.Image.Image image mode=RGB size=51x50>,\n",
       "  ...],\n",
       " 'labels': [1,\n",
       "  0,\n",
       "  1,\n",
       "  0,\n",
       "  0,\n",
       "  0,\n",
       "  0,\n",
       "  0,\n",
       "  0,\n",
       "  0,\n",
       "  0,\n",
       "  1,\n",
       "  0,\n",
       "  0,\n",
       "  0,\n",
       "  0,\n",
       "  0,\n",
       "  0,\n",
       "  0,\n",
       "  0,\n",
       "  0,\n",
       "  0,\n",
       "  1,\n",
       "  1,\n",
       "  1,\n",
       "  0,\n",
       "  0,\n",
       "  1,\n",
       "  1,\n",
       "  1,\n",
       "  0,\n",
       "  0,\n",
       "  0,\n",
       "  0,\n",
       "  0,\n",
       "  0,\n",
       "  0,\n",
       "  0,\n",
       "  0,\n",
       "  0,\n",
       "  0,\n",
       "  0,\n",
       "  0,\n",
       "  0,\n",
       "  0,\n",
       "  1,\n",
       "  0,\n",
       "  2,\n",
       "  0,\n",
       "  0,\n",
       "  0,\n",
       "  0,\n",
       "  0,\n",
       "  0,\n",
       "  0,\n",
       "  0,\n",
       "  0,\n",
       "  0,\n",
       "  0,\n",
       "  0,\n",
       "  0,\n",
       "  0,\n",
       "  0,\n",
       "  1,\n",
       "  1,\n",
       "  0,\n",
       "  0,\n",
       "  1,\n",
       "  1,\n",
       "  1,\n",
       "  1,\n",
       "  0,\n",
       "  1,\n",
       "  1,\n",
       "  1,\n",
       "  1,\n",
       "  0,\n",
       "  0,\n",
       "  1,\n",
       "  1,\n",
       "  1,\n",
       "  1,\n",
       "  0,\n",
       "  1,\n",
       "  0,\n",
       "  0,\n",
       "  1,\n",
       "  1,\n",
       "  0,\n",
       "  0,\n",
       "  0,\n",
       "  0,\n",
       "  1,\n",
       "  1,\n",
       "  0,\n",
       "  0,\n",
       "  0,\n",
       "  0,\n",
       "  0,\n",
       "  0,\n",
       "  1,\n",
       "  2,\n",
       "  0,\n",
       "  0,\n",
       "  0,\n",
       "  1,\n",
       "  1,\n",
       "  0,\n",
       "  0,\n",
       "  0,\n",
       "  0,\n",
       "  0,\n",
       "  0,\n",
       "  0,\n",
       "  0,\n",
       "  0,\n",
       "  0,\n",
       "  0,\n",
       "  0,\n",
       "  0,\n",
       "  0,\n",
       "  0,\n",
       "  0,\n",
       "  0,\n",
       "  0,\n",
       "  0,\n",
       "  0,\n",
       "  0,\n",
       "  0,\n",
       "  0,\n",
       "  1,\n",
       "  1,\n",
       "  0,\n",
       "  0,\n",
       "  0,\n",
       "  0,\n",
       "  0,\n",
       "  0,\n",
       "  0,\n",
       "  0,\n",
       "  0,\n",
       "  0,\n",
       "  1,\n",
       "  0,\n",
       "  0,\n",
       "  0,\n",
       "  1,\n",
       "  1,\n",
       "  1,\n",
       "  1,\n",
       "  1,\n",
       "  1,\n",
       "  1,\n",
       "  0,\n",
       "  0,\n",
       "  0,\n",
       "  0,\n",
       "  0,\n",
       "  0,\n",
       "  1,\n",
       "  1,\n",
       "  1,\n",
       "  0,\n",
       "  0,\n",
       "  1,\n",
       "  0,\n",
       "  1,\n",
       "  1,\n",
       "  1,\n",
       "  0,\n",
       "  0,\n",
       "  0,\n",
       "  2,\n",
       "  0,\n",
       "  0,\n",
       "  0,\n",
       "  2,\n",
       "  2,\n",
       "  1,\n",
       "  1,\n",
       "  0,\n",
       "  0,\n",
       "  1,\n",
       "  0,\n",
       "  1,\n",
       "  0,\n",
       "  1,\n",
       "  1,\n",
       "  2,\n",
       "  0,\n",
       "  0,\n",
       "  1,\n",
       "  0,\n",
       "  0,\n",
       "  0,\n",
       "  1,\n",
       "  0,\n",
       "  0,\n",
       "  0,\n",
       "  0,\n",
       "  1,\n",
       "  1,\n",
       "  0,\n",
       "  0,\n",
       "  1,\n",
       "  1,\n",
       "  0,\n",
       "  0,\n",
       "  0,\n",
       "  0,\n",
       "  0,\n",
       "  1,\n",
       "  0,\n",
       "  0,\n",
       "  0,\n",
       "  2,\n",
       "  0,\n",
       "  0,\n",
       "  0,\n",
       "  0,\n",
       "  0,\n",
       "  0,\n",
       "  0,\n",
       "  0,\n",
       "  0,\n",
       "  0,\n",
       "  0,\n",
       "  0,\n",
       "  1,\n",
       "  0,\n",
       "  0,\n",
       "  0,\n",
       "  0,\n",
       "  0,\n",
       "  0,\n",
       "  0,\n",
       "  0,\n",
       "  0,\n",
       "  2,\n",
       "  2,\n",
       "  1,\n",
       "  0,\n",
       "  0,\n",
       "  1,\n",
       "  0,\n",
       "  0,\n",
       "  0,\n",
       "  0,\n",
       "  1,\n",
       "  1,\n",
       "  0,\n",
       "  1,\n",
       "  0,\n",
       "  0,\n",
       "  0,\n",
       "  0,\n",
       "  0,\n",
       "  0,\n",
       "  0,\n",
       "  0,\n",
       "  0,\n",
       "  0,\n",
       "  1,\n",
       "  0,\n",
       "  0,\n",
       "  0,\n",
       "  0,\n",
       "  0,\n",
       "  0,\n",
       "  2,\n",
       "  0,\n",
       "  0,\n",
       "  0,\n",
       "  0,\n",
       "  0,\n",
       "  0,\n",
       "  0,\n",
       "  0,\n",
       "  0,\n",
       "  0,\n",
       "  1,\n",
       "  1,\n",
       "  0,\n",
       "  0,\n",
       "  0,\n",
       "  0,\n",
       "  0,\n",
       "  0,\n",
       "  0,\n",
       "  0,\n",
       "  2,\n",
       "  2,\n",
       "  2,\n",
       "  1,\n",
       "  1,\n",
       "  1,\n",
       "  1,\n",
       "  1,\n",
       "  1,\n",
       "  0,\n",
       "  1,\n",
       "  0,\n",
       "  0,\n",
       "  0,\n",
       "  0,\n",
       "  0,\n",
       "  0,\n",
       "  0,\n",
       "  0,\n",
       "  0,\n",
       "  0,\n",
       "  0,\n",
       "  0,\n",
       "  0,\n",
       "  0,\n",
       "  0,\n",
       "  0,\n",
       "  0,\n",
       "  0,\n",
       "  0,\n",
       "  0,\n",
       "  0,\n",
       "  0,\n",
       "  0,\n",
       "  0,\n",
       "  0,\n",
       "  0,\n",
       "  0,\n",
       "  0,\n",
       "  0,\n",
       "  0,\n",
       "  1,\n",
       "  0,\n",
       "  0,\n",
       "  0,\n",
       "  0,\n",
       "  1,\n",
       "  0,\n",
       "  0,\n",
       "  0,\n",
       "  0,\n",
       "  0,\n",
       "  0,\n",
       "  1,\n",
       "  1,\n",
       "  0,\n",
       "  0,\n",
       "  0,\n",
       "  0,\n",
       "  0,\n",
       "  0,\n",
       "  0,\n",
       "  0,\n",
       "  0,\n",
       "  0,\n",
       "  0,\n",
       "  0,\n",
       "  0,\n",
       "  0,\n",
       "  0,\n",
       "  0,\n",
       "  1,\n",
       "  0,\n",
       "  0,\n",
       "  0,\n",
       "  1,\n",
       "  0,\n",
       "  0,\n",
       "  0,\n",
       "  0,\n",
       "  1,\n",
       "  0,\n",
       "  2,\n",
       "  0,\n",
       "  0,\n",
       "  0,\n",
       "  0,\n",
       "  0,\n",
       "  0,\n",
       "  0,\n",
       "  0,\n",
       "  0,\n",
       "  0,\n",
       "  0,\n",
       "  0,\n",
       "  0,\n",
       "  2,\n",
       "  1,\n",
       "  1,\n",
       "  1,\n",
       "  0,\n",
       "  0,\n",
       "  0,\n",
       "  1,\n",
       "  1,\n",
       "  0,\n",
       "  0,\n",
       "  1,\n",
       "  1,\n",
       "  0,\n",
       "  0,\n",
       "  0,\n",
       "  0,\n",
       "  0,\n",
       "  1,\n",
       "  1,\n",
       "  0,\n",
       "  0,\n",
       "  0,\n",
       "  1,\n",
       "  1,\n",
       "  0,\n",
       "  0,\n",
       "  0,\n",
       "  0,\n",
       "  0,\n",
       "  0,\n",
       "  0,\n",
       "  0,\n",
       "  0,\n",
       "  0,\n",
       "  0,\n",
       "  0,\n",
       "  0,\n",
       "  0,\n",
       "  0,\n",
       "  0,\n",
       "  0,\n",
       "  1,\n",
       "  1,\n",
       "  0,\n",
       "  1,\n",
       "  0,\n",
       "  1,\n",
       "  0,\n",
       "  0,\n",
       "  1,\n",
       "  0,\n",
       "  0,\n",
       "  0,\n",
       "  0,\n",
       "  0,\n",
       "  0,\n",
       "  1,\n",
       "  0,\n",
       "  0,\n",
       "  0,\n",
       "  0,\n",
       "  0,\n",
       "  2,\n",
       "  0,\n",
       "  0,\n",
       "  0,\n",
       "  0,\n",
       "  0,\n",
       "  0,\n",
       "  2,\n",
       "  0,\n",
       "  0,\n",
       "  0,\n",
       "  0,\n",
       "  0,\n",
       "  0,\n",
       "  0,\n",
       "  0,\n",
       "  0,\n",
       "  0,\n",
       "  0,\n",
       "  0,\n",
       "  0,\n",
       "  0,\n",
       "  0,\n",
       "  0,\n",
       "  0,\n",
       "  0,\n",
       "  0,\n",
       "  0,\n",
       "  0,\n",
       "  0,\n",
       "  0,\n",
       "  0,\n",
       "  0,\n",
       "  0,\n",
       "  0,\n",
       "  0,\n",
       "  0,\n",
       "  0,\n",
       "  0,\n",
       "  0,\n",
       "  0,\n",
       "  0,\n",
       "  0,\n",
       "  0,\n",
       "  0,\n",
       "  2,\n",
       "  1,\n",
       "  1,\n",
       "  0,\n",
       "  0,\n",
       "  0,\n",
       "  0,\n",
       "  0,\n",
       "  0,\n",
       "  1,\n",
       "  1,\n",
       "  1,\n",
       "  1,\n",
       "  1,\n",
       "  0,\n",
       "  1,\n",
       "  1,\n",
       "  1,\n",
       "  0,\n",
       "  1,\n",
       "  1,\n",
       "  1,\n",
       "  1,\n",
       "  0,\n",
       "  0,\n",
       "  0,\n",
       "  0,\n",
       "  1,\n",
       "  0,\n",
       "  0,\n",
       "  0,\n",
       "  0,\n",
       "  0,\n",
       "  0,\n",
       "  0,\n",
       "  0,\n",
       "  0,\n",
       "  0,\n",
       "  0,\n",
       "  0,\n",
       "  0,\n",
       "  0,\n",
       "  0,\n",
       "  0,\n",
       "  0,\n",
       "  1,\n",
       "  1,\n",
       "  1,\n",
       "  0,\n",
       "  0,\n",
       "  0,\n",
       "  0,\n",
       "  0,\n",
       "  0,\n",
       "  0,\n",
       "  0,\n",
       "  0,\n",
       "  0,\n",
       "  0,\n",
       "  0,\n",
       "  1,\n",
       "  0,\n",
       "  0,\n",
       "  0,\n",
       "  0,\n",
       "  0,\n",
       "  0,\n",
       "  0,\n",
       "  0,\n",
       "  0,\n",
       "  0,\n",
       "  0,\n",
       "  0,\n",
       "  0,\n",
       "  1,\n",
       "  0,\n",
       "  0,\n",
       "  0,\n",
       "  0,\n",
       "  0,\n",
       "  0,\n",
       "  0,\n",
       "  0,\n",
       "  0,\n",
       "  2,\n",
       "  1,\n",
       "  1,\n",
       "  1,\n",
       "  1,\n",
       "  0,\n",
       "  1,\n",
       "  1,\n",
       "  1,\n",
       "  0,\n",
       "  0,\n",
       "  0,\n",
       "  0,\n",
       "  0,\n",
       "  0,\n",
       "  0,\n",
       "  0,\n",
       "  0,\n",
       "  0,\n",
       "  0,\n",
       "  0,\n",
       "  0,\n",
       "  0,\n",
       "  0,\n",
       "  0,\n",
       "  0,\n",
       "  0,\n",
       "  0,\n",
       "  0,\n",
       "  0,\n",
       "  0,\n",
       "  0,\n",
       "  0,\n",
       "  0,\n",
       "  0,\n",
       "  0,\n",
       "  0,\n",
       "  0,\n",
       "  0,\n",
       "  0,\n",
       "  0,\n",
       "  0,\n",
       "  0,\n",
       "  0,\n",
       "  0,\n",
       "  0,\n",
       "  0,\n",
       "  0,\n",
       "  0,\n",
       "  0,\n",
       "  0,\n",
       "  0,\n",
       "  0,\n",
       "  0,\n",
       "  0,\n",
       "  0,\n",
       "  0,\n",
       "  0,\n",
       "  0,\n",
       "  0,\n",
       "  0,\n",
       "  0,\n",
       "  0,\n",
       "  0,\n",
       "  0,\n",
       "  0,\n",
       "  0,\n",
       "  0,\n",
       "  0,\n",
       "  0,\n",
       "  0,\n",
       "  0,\n",
       "  0,\n",
       "  0,\n",
       "  0,\n",
       "  1,\n",
       "  0,\n",
       "  0,\n",
       "  0,\n",
       "  0,\n",
       "  0,\n",
       "  0,\n",
       "  0,\n",
       "  0,\n",
       "  0,\n",
       "  0,\n",
       "  0,\n",
       "  0,\n",
       "  1,\n",
       "  2,\n",
       "  1,\n",
       "  1,\n",
       "  1,\n",
       "  1,\n",
       "  1,\n",
       "  1,\n",
       "  1,\n",
       "  1,\n",
       "  1,\n",
       "  1,\n",
       "  1,\n",
       "  1,\n",
       "  1,\n",
       "  1,\n",
       "  1,\n",
       "  0,\n",
       "  0,\n",
       "  1,\n",
       "  1,\n",
       "  0,\n",
       "  1,\n",
       "  1,\n",
       "  1,\n",
       "  1,\n",
       "  1,\n",
       "  1,\n",
       "  1,\n",
       "  1,\n",
       "  0,\n",
       "  1,\n",
       "  1,\n",
       "  1,\n",
       "  1,\n",
       "  1,\n",
       "  1,\n",
       "  1,\n",
       "  1,\n",
       "  1,\n",
       "  1,\n",
       "  1,\n",
       "  1,\n",
       "  1,\n",
       "  1,\n",
       "  1,\n",
       "  1,\n",
       "  1,\n",
       "  1,\n",
       "  1,\n",
       "  1,\n",
       "  1,\n",
       "  1,\n",
       "  1,\n",
       "  1,\n",
       "  1,\n",
       "  1,\n",
       "  1,\n",
       "  1,\n",
       "  1,\n",
       "  1,\n",
       "  1,\n",
       "  1,\n",
       "  0,\n",
       "  0,\n",
       "  0,\n",
       "  1,\n",
       "  0,\n",
       "  1,\n",
       "  0,\n",
       "  0,\n",
       "  0,\n",
       "  0,\n",
       "  0,\n",
       "  0,\n",
       "  0,\n",
       "  0,\n",
       "  0,\n",
       "  0,\n",
       "  0,\n",
       "  0,\n",
       "  0,\n",
       "  0,\n",
       "  0,\n",
       "  0,\n",
       "  0,\n",
       "  0,\n",
       "  0,\n",
       "  0,\n",
       "  0,\n",
       "  0,\n",
       "  0,\n",
       "  0,\n",
       "  1,\n",
       "  0,\n",
       "  1,\n",
       "  1,\n",
       "  0,\n",
       "  0,\n",
       "  1,\n",
       "  1,\n",
       "  2,\n",
       "  2,\n",
       "  0,\n",
       "  0,\n",
       "  0,\n",
       "  0,\n",
       "  0,\n",
       "  0,\n",
       "  0,\n",
       "  0,\n",
       "  0,\n",
       "  0,\n",
       "  0,\n",
       "  0,\n",
       "  0,\n",
       "  0,\n",
       "  0,\n",
       "  1,\n",
       "  0,\n",
       "  0,\n",
       "  0,\n",
       "  0,\n",
       "  0,\n",
       "  0,\n",
       "  0,\n",
       "  0,\n",
       "  0,\n",
       "  0,\n",
       "  0,\n",
       "  0,\n",
       "  0,\n",
       "  0,\n",
       "  2,\n",
       "  1,\n",
       "  1,\n",
       "  1,\n",
       "  1,\n",
       "  1,\n",
       "  0,\n",
       "  0,\n",
       "  0,\n",
       "  0,\n",
       "  1,\n",
       "  0,\n",
       "  0,\n",
       "  0,\n",
       "  0,\n",
       "  0,\n",
       "  0,\n",
       "  0,\n",
       "  0,\n",
       "  0,\n",
       "  0,\n",
       "  0,\n",
       "  0,\n",
       "  0,\n",
       "  0,\n",
       "  2,\n",
       "  0,\n",
       "  0,\n",
       "  0,\n",
       "  0,\n",
       "  0,\n",
       "  0,\n",
       "  0,\n",
       "  0,\n",
       "  0,\n",
       "  0,\n",
       "  0,\n",
       "  0,\n",
       "  0,\n",
       "  0,\n",
       "  0,\n",
       "  0,\n",
       "  0,\n",
       "  0,\n",
       "  0,\n",
       "  0,\n",
       "  0,\n",
       "  0,\n",
       "  1,\n",
       "  0,\n",
       "  0,\n",
       "  0,\n",
       "  2,\n",
       "  0,\n",
       "  0,\n",
       "  0,\n",
       "  0,\n",
       "  0,\n",
       "  0,\n",
       "  0,\n",
       "  0,\n",
       "  0,\n",
       "  0,\n",
       "  0,\n",
       "  0,\n",
       "  0,\n",
       "  0,\n",
       "  0,\n",
       "  0,\n",
       "  0,\n",
       "  0,\n",
       "  0,\n",
       "  0,\n",
       "  0,\n",
       "  0,\n",
       "  0,\n",
       "  0,\n",
       "  0,\n",
       "  0,\n",
       "  0,\n",
       "  0,\n",
       "  0,\n",
       "  0,\n",
       "  0,\n",
       "  0,\n",
       "  0,\n",
       "  0,\n",
       "  0,\n",
       "  0,\n",
       "  0,\n",
       "  0,\n",
       "  0,\n",
       "  0,\n",
       "  0,\n",
       "  0,\n",
       "  0,\n",
       "  0,\n",
       "  0,\n",
       "  0,\n",
       "  0,\n",
       "  0,\n",
       "  0,\n",
       "  0,\n",
       "  0,\n",
       "  0,\n",
       "  0,\n",
       "  0,\n",
       "  0,\n",
       "  0,\n",
       "  0,\n",
       "  0,\n",
       "  0,\n",
       "  1,\n",
       "  1,\n",
       "  1,\n",
       "  0,\n",
       "  1,\n",
       "  0,\n",
       "  0,\n",
       "  0,\n",
       "  0,\n",
       "  0,\n",
       "  0,\n",
       "  0,\n",
       "  0,\n",
       "  0,\n",
       "  0,\n",
       "  0,\n",
       "  0,\n",
       "  0,\n",
       "  0,\n",
       "  0,\n",
       "  0,\n",
       "  0,\n",
       "  0,\n",
       "  0,\n",
       "  0,\n",
       "  0,\n",
       "  1,\n",
       "  1,\n",
       "  0,\n",
       "  0,\n",
       "  0,\n",
       "  0,\n",
       "  0,\n",
       "  0,\n",
       "  0,\n",
       "  1,\n",
       "  1,\n",
       "  1,\n",
       "  0,\n",
       "  2,\n",
       "  0,\n",
       "  0,\n",
       "  0,\n",
       "  2,\n",
       "  1,\n",
       "  0,\n",
       "  0,\n",
       "  0,\n",
       "  0,\n",
       "  0,\n",
       "  0,\n",
       "  0,\n",
       "  0,\n",
       "  0,\n",
       "  0,\n",
       "  0,\n",
       "  0,\n",
       "  0,\n",
       "  0,\n",
       "  0,\n",
       "  0,\n",
       "  1,\n",
       "  1,\n",
       "  0,\n",
       "  0,\n",
       "  0,\n",
       "  0,\n",
       "  0,\n",
       "  0,\n",
       "  0,\n",
       "  0,\n",
       "  0,\n",
       "  0,\n",
       "  0,\n",
       "  1,\n",
       "  1,\n",
       "  0,\n",
       "  0,\n",
       "  1,\n",
       "  2,\n",
       "  0,\n",
       "  0,\n",
       "  1,\n",
       "  1,\n",
       "  0,\n",
       "  0,\n",
       "  0,\n",
       "  0,\n",
       "  0,\n",
       "  ...]}"
      ]
     },
     "metadata": {},
     "output_type": "display_data"
    }
   ],
   "source": [
    "dataset.to_dict()"
   ]
  },
  {
   "cell_type": "markdown",
   "metadata": {},
   "source": [
    "### Preprocessing Data for Training Model"
   ]
  },
  {
   "cell_type": "code",
   "execution_count": null,
   "metadata": {},
   "outputs": [],
   "source": [
    "id2label = dataset.labels_dict\n",
    "label2id = {v: k for k, v in id2label.items()}"
   ]
  },
  {
   "cell_type": "code",
   "execution_count": null,
   "metadata": {},
   "outputs": [
    {
     "name": "stderr",
     "output_type": "stream",
     "text": [
      "Casting the dataset: 100%|██████████| 4072/4072 [00:00<00:00, 268532.53 examples/s]\n"
     ]
    }
   ],
   "source": [
    "ds = Dataset.from_dict(dataset.to_dict())\n",
    "ds = ds.cast_column(\"labels\", ClassLabel(names=list(id2label.keys())))"
   ]
  },
  {
   "cell_type": "markdown",
   "metadata": {},
   "source": [
    "#### Splitting Dataset"
   ]
  },
  {
   "cell_type": "code",
   "execution_count": null,
   "metadata": {},
   "outputs": [],
   "source": [
    "# Splitting dataset into train and val\n",
    "ds = ds.train_test_split(test_size=0.1, shuffle=True, seed=42)\n",
    "ds = DatasetDict({\"train\": ds[\"train\"], \"val\": ds[\"test\"]})"
   ]
  },
  {
   "cell_type": "markdown",
   "metadata": {},
   "source": [
    "#### Transformation Dataset"
   ]
  },
  {
   "cell_type": "code",
   "execution_count": null,
   "metadata": {},
   "outputs": [],
   "source": [
    "def preprocess_image(example_batch, transforms):\n",
    "    example_batch[\"pixel_values\"] = [\n",
    "        transforms(image.convert(\"RGB\")) for image in example_batch[\"image\"]\n",
    "    ]\n",
    "    return example_batch"
   ]
  },
  {
   "cell_type": "code",
   "execution_count": null,
   "metadata": {},
   "outputs": [],
   "source": [
    "processor = ViTImageProcessor.from_pretrained(MODEL_CHECKPOINT)"
   ]
  },
  {
   "cell_type": "code",
   "execution_count": null,
   "metadata": {},
   "outputs": [],
   "source": [
    "image_transforms = Compose(\n",
    "    [\n",
    "        Resize((processor.size[\"height\"], processor.size[\"width\"])),\n",
    "        RandomHorizontalFlip(),\n",
    "        ToTensor(),\n",
    "        Normalize(\n",
    "            mean=processor.image_mean,\n",
    "            std=processor.image_std,\n",
    "        ),\n",
    "    ]\n",
    ")"
   ]
  },
  {
   "cell_type": "code",
   "execution_count": null,
   "metadata": {},
   "outputs": [],
   "source": [
    "# Applied transform\n",
    "ds[\"train\"].set_transform(lambda x: preprocess_image(x, image_transforms))\n",
    "ds[\"val\"].set_transform(lambda x: preprocess_image(x, image_transforms))"
   ]
  },
  {
   "cell_type": "markdown",
   "metadata": {},
   "source": [
    "### Training Model"
   ]
  },
  {
   "cell_type": "code",
   "execution_count": null,
   "metadata": {},
   "outputs": [],
   "source": [
    "def compute_metrics(p):\n",
    "    accuracy_metric = load_metric(\"accuracy\")\n",
    "    accuracy = accuracy_metric.compute(\n",
    "        predictions=np.argmax(p.predictions, axis=1), references=p.label_ids\n",
    "    )[\"accuracy\"]\n",
    "    f1_score_metric = load_metric(\"f1\")\n",
    "    weighted_f1_score = f1_score_metric.compute(\n",
    "        predictions=np.argmax(p.predictions, axis=1),\n",
    "        references=p.label_ids,\n",
    "        average=\"weighted\",\n",
    "    )[\"f1\"]\n",
    "    recall_metric = load_metric(\"recall\")\n",
    "    weighted_recall = recall_metric.compute(\n",
    "        predictions=np.argmax(p.predictions, axis=1),\n",
    "        references=p.label_ids,\n",
    "        average=\"weighted\",\n",
    "    )[\"recall\"]\n",
    "    precision_metric = load_metric(\"precision\")\n",
    "    weighted_precision = precision_metric.compute(\n",
    "        predictions=np.argmax(p.predictions, axis=1),\n",
    "        references=p.label_ids,\n",
    "        average=\"weighted\",\n",
    "    )[\"precision\"]\n",
    "    return {\n",
    "        \"accuracy\": accuracy,\n",
    "        \"Weighted F1\": weighted_f1_score,\n",
    "        \"Weighted Recall\": weighted_recall,\n",
    "        \"Weighted Precision\": weighted_precision,\n",
    "    }"
   ]
  },
  {
   "cell_type": "code",
   "execution_count": null,
   "metadata": {},
   "outputs": [],
   "source": [
    "def collate_fn(example_batch):\n",
    "    pixel_values = torch.stack([example[\"pixel_values\"] for example in example_batch])\n",
    "    labels = torch.tensor([example[\"labels\"] for example in example_batch])\n",
    "    return {\"pixel_values\": pixel_values, \"labels\": labels}"
   ]
  },
  {
   "cell_type": "code",
   "execution_count": null,
   "metadata": {},
   "outputs": [
    {
     "name": "stderr",
     "output_type": "stream",
     "text": [
      "Some weights of ViTForImageClassification were not initialized from the model checkpoint at google/vit-base-patch16-224-in21k and are newly initialized: ['classifier.bias', 'classifier.weight']\n",
      "You should probably TRAIN this model on a down-stream task to be able to use it for predictions and inference.\n"
     ]
    },
    {
     "data": {
      "text/plain": [
       "ViTForImageClassification(\n",
       "  (vit): ViTModel(\n",
       "    (embeddings): ViTEmbeddings(\n",
       "      (patch_embeddings): ViTPatchEmbeddings(\n",
       "        (projection): Conv2d(3, 768, kernel_size=(16, 16), stride=(16, 16))\n",
       "      )\n",
       "      (dropout): Dropout(p=0.0, inplace=False)\n",
       "    )\n",
       "    (encoder): ViTEncoder(\n",
       "      (layer): ModuleList(\n",
       "        (0-11): 12 x ViTLayer(\n",
       "          (attention): ViTAttention(\n",
       "            (attention): ViTSelfAttention(\n",
       "              (query): Linear(in_features=768, out_features=768, bias=True)\n",
       "              (key): Linear(in_features=768, out_features=768, bias=True)\n",
       "              (value): Linear(in_features=768, out_features=768, bias=True)\n",
       "              (dropout): Dropout(p=0.0, inplace=False)\n",
       "            )\n",
       "            (output): ViTSelfOutput(\n",
       "              (dense): Linear(in_features=768, out_features=768, bias=True)\n",
       "              (dropout): Dropout(p=0.0, inplace=False)\n",
       "            )\n",
       "          )\n",
       "          (intermediate): ViTIntermediate(\n",
       "            (dense): Linear(in_features=768, out_features=3072, bias=True)\n",
       "            (intermediate_act_fn): GELUActivation()\n",
       "          )\n",
       "          (output): ViTOutput(\n",
       "            (dense): Linear(in_features=3072, out_features=768, bias=True)\n",
       "            (dropout): Dropout(p=0.0, inplace=False)\n",
       "          )\n",
       "          (layernorm_before): LayerNorm((768,), eps=1e-12, elementwise_affine=True)\n",
       "          (layernorm_after): LayerNorm((768,), eps=1e-12, elementwise_affine=True)\n",
       "        )\n",
       "      )\n",
       "    )\n",
       "    (layernorm): LayerNorm((768,), eps=1e-12, elementwise_affine=True)\n",
       "  )\n",
       "  (classifier): Linear(in_features=768, out_features=3, bias=True)\n",
       ")"
      ]
     },
     "metadata": {},
     "output_type": "display_data"
    }
   ],
   "source": [
    "model = ViTForImageClassification.from_pretrained(\n",
    "    MODEL_CHECKPOINT,\n",
    "    num_labels=len(id2label),\n",
    "    id2label=id2label,\n",
    "    label2id=label2id,\n",
    ")\n",
    "model.to(DEVICE)"
   ]
  },
  {
   "cell_type": "code",
   "execution_count": null,
   "metadata": {},
   "outputs": [],
   "source": [
    "args = TrainingArguments(\n",
    "    MODEL_OUTPUT,\n",
    "    remove_unused_columns=False,\n",
    "    evaluation_strategy=STRATEGY,\n",
    "    save_strategy=STRATEGY,\n",
    "    logging_strategy=\"steps\",\n",
    "    logging_steps=10,\n",
    "    logging_first_step=True,\n",
    "    learning_rate=LR,\n",
    "    per_device_train_batch_size=BATCH_SIZE,\n",
    "    per_device_eval_batch_size=BATCH_SIZE,\n",
    "    gradient_accumulation_steps=4,\n",
    "    num_train_epochs=NUM_OF_EPOCHS,\n",
    "    warmup_ratio=0.10,\n",
    "    save_total_limit=1,\n",
    ")"
   ]
  },
  {
   "cell_type": "code",
   "execution_count": null,
   "metadata": {},
   "outputs": [],
   "source": [
    "trainer = Trainer(\n",
    "    model=model,\n",
    "    args=args,\n",
    "    train_dataset=ds[\"train\"],\n",
    "    eval_dataset=ds[\"val\"],\n",
    "    tokenizer=processor,\n",
    "    data_collator=collate_fn,\n",
    "    compute_metrics=compute_metrics,\n",
    ")"
   ]
  },
  {
   "cell_type": "code",
   "execution_count": null,
   "metadata": {},
   "outputs": [],
   "source": [
    "train_results = trainer.train()"
   ]
  },
  {
   "cell_type": "code",
   "execution_count": null,
   "metadata": {},
   "outputs": [],
   "source": [
    "trainer.save_model()"
   ]
  },
  {
   "cell_type": "code",
   "execution_count": null,
   "metadata": {},
   "outputs": [],
   "source": [
    "trainer.log_metrics(\"train\", train_results.metrics)\n",
    "trainer.save_metrics(\"train\", train_results.metrics)\n",
    "trainer.save_state()\n",
    "\n",
    "eval_results = trainer.evaluate(ds[\"val\"])\n",
    "trainer.log_metrics(\"eval\", eval_results.metrics)\n",
    "trainer.save_metrics(\"eval\", eval_results.metrics)\n",
    "trainer.save_state()"
   ]
  },
  {
   "cell_type": "markdown",
   "metadata": {},
   "source": [
    "### Model Evaluation"
   ]
  },
  {
   "cell_type": "markdown",
   "metadata": {},
   "source": [
    "#### Import libraries needed"
   ]
  },
  {
   "cell_type": "code",
   "execution_count": null,
   "metadata": {},
   "outputs": [],
   "source": [
    "from sklearn.metrics import accuracy_score, classification_report, confusion_matrix\n",
    "from sklearn.metrics import roc_curve, auc\n",
    "import matplotlib.pyplot as plt\n",
    "import seaborn as sns"
   ]
  },
  {
   "cell_type": "markdown",
   "metadata": {},
   "source": [
    "### Load Trained Model"
   ]
  },
  {
   "cell_type": "code",
   "execution_count": null,
   "metadata": {},
   "outputs": [],
   "source": [
    "model = ViTForImageClassification.from_pretrained(MODEL_OUTPUT)\n",
    "processor = ViTImageProcessor.from_pretrained(MODEL_OUTPUT)"
   ]
  },
  {
   "cell_type": "markdown",
   "metadata": {},
   "source": [
    "### Generate Data for Evaluation"
   ]
  },
  {
   "cell_type": "code",
   "execution_count": null,
   "metadata": {},
   "outputs": [],
   "source": [
    "dataset = DatasetGenerator(DATASET_DIR)"
   ]
  },
  {
   "cell_type": "code",
   "execution_count": null,
   "metadata": {},
   "outputs": [],
   "source": [
    "results = []\n",
    "\n",
    "data = {\n",
    "    \"ground_truth\": [],\n",
    "    \"label\": [],\n",
    "    \"label_name\": [],\n",
    "    \"probs\": [],\n",
    "}\n",
    "\n",
    "for image, label in dataset:\n",
    "    ground_truth = label\n",
    "    inputs = processor(images=image, return_tensors=\"pt\")\n",
    "\n",
    "    with torch.no_grad():\n",
    "        outputs = model(**inputs)\n",
    "        logits = outputs.logits\n",
    "        probabilities = torch.nn.functional.softmax(logits, dim=-1)\n",
    "\n",
    "    predicted_class_idx = probabilities.argmax(-1).item()\n",
    "    predicted_class = model.config.id2label[predicted_class_idx]\n",
    "\n",
    "    results.append(predicted_class_idx)\n",
    "\n",
    "    data[\"ground_truth\"].append(ground_truth)\n",
    "    data[\"label\"].append(predicted_class_idx)\n",
    "    data[\"label_name\"].append(predicted_class)\n",
    "    data[\"probs\"].append(probabilities.max().detach().cpu().numpy())"
   ]
  },
  {
   "cell_type": "code",
   "execution_count": null,
   "metadata": {},
   "outputs": [
    {
     "data": {
      "text/html": [
       "<div>\n",
       "<style scoped>\n",
       "    .dataframe tbody tr th:only-of-type {\n",
       "        vertical-align: middle;\n",
       "    }\n",
       "\n",
       "    .dataframe tbody tr th {\n",
       "        vertical-align: top;\n",
       "    }\n",
       "\n",
       "    .dataframe thead th {\n",
       "        text-align: right;\n",
       "    }\n",
       "</style>\n",
       "<table border=\"1\" class=\"dataframe\">\n",
       "  <thead>\n",
       "    <tr style=\"text-align: right;\">\n",
       "      <th></th>\n",
       "      <th>ground_truth</th>\n",
       "      <th>label</th>\n",
       "      <th>label_name</th>\n",
       "      <th>probs</th>\n",
       "    </tr>\n",
       "  </thead>\n",
       "  <tbody>\n",
       "    <tr>\n",
       "      <th>0</th>\n",
       "      <td>1</td>\n",
       "      <td>1</td>\n",
       "      <td>without_mask</td>\n",
       "      <td>0.94091743</td>\n",
       "    </tr>\n",
       "    <tr>\n",
       "      <th>1</th>\n",
       "      <td>0</td>\n",
       "      <td>0</td>\n",
       "      <td>with_mask</td>\n",
       "      <td>0.96266997</td>\n",
       "    </tr>\n",
       "    <tr>\n",
       "      <th>2</th>\n",
       "      <td>1</td>\n",
       "      <td>1</td>\n",
       "      <td>without_mask</td>\n",
       "      <td>0.9440221</td>\n",
       "    </tr>\n",
       "    <tr>\n",
       "      <th>3</th>\n",
       "      <td>0</td>\n",
       "      <td>0</td>\n",
       "      <td>with_mask</td>\n",
       "      <td>0.9663677</td>\n",
       "    </tr>\n",
       "    <tr>\n",
       "      <th>4</th>\n",
       "      <td>0</td>\n",
       "      <td>0</td>\n",
       "      <td>with_mask</td>\n",
       "      <td>0.9665936</td>\n",
       "    </tr>\n",
       "  </tbody>\n",
       "</table>\n",
       "</div>"
      ],
      "text/plain": [
       "   ground_truth  label    label_name       probs\n",
       "0             1      1  without_mask  0.94091743\n",
       "1             0      0     with_mask  0.96266997\n",
       "2             1      1  without_mask   0.9440221\n",
       "3             0      0     with_mask   0.9663677\n",
       "4             0      0     with_mask   0.9665936"
      ]
     },
     "metadata": {},
     "output_type": "display_data"
    }
   ],
   "source": [
    "df = pd.DataFrame(data)\n",
    "df.head()"
   ]
  },
  {
   "cell_type": "code",
   "execution_count": null,
   "metadata": {},
   "outputs": [],
   "source": [
    "df.to_csv('results.csv', index=True)"
   ]
  },
  {
   "cell_type": "code",
   "execution_count": null,
   "metadata": {},
   "outputs": [],
   "source": [
    "y_true = df[\"ground_truth\"].values\n",
    "y_pred = df[\"label\"].values"
   ]
  },
  {
   "cell_type": "code",
   "execution_count": null,
   "metadata": {},
   "outputs": [
    {
     "name": "stdout",
     "output_type": "stream",
     "text": [
      "Accuracy: 0.9912\n"
     ]
    }
   ],
   "source": [
    "accuracy = accuracy_score(y_true, y_pred)\n",
    "print(f\"Accuracy: {accuracy:.4f}\")\n",
    "# print(classification_report(y_true, y_pred))\n",
    "# print(confusion_matrix(y_true, y_pred))"
   ]
  },
  {
   "cell_type": "markdown",
   "metadata": {},
   "source": [
    "#### Visualize"
   ]
  },
  {
   "cell_type": "code",
   "execution_count": null,
   "metadata": {},
   "outputs": [],
   "source": [
    "def plot_confusion_matrix(y_true, y_pred):\n",
    "    cm = confusion_matrix(y_true, y_pred)\n",
    "    plt.figure(figsize=(8, 6))\n",
    "    sns.heatmap(cm, annot=True, fmt=\"d\", cmap=\"Blues\", cbar=False)\n",
    "    plt.xlabel(\"Predicted\")\n",
    "    plt.ylabel(\"True\")\n",
    "    plt.title(\"Confusion Matrix\")\n",
    "    plt.show()"
   ]
  },
  {
   "cell_type": "code",
   "execution_count": null,
   "metadata": {},
   "outputs": [
    {
     "data": {
      "text/plain": [
       "<Figure size 800x600 with 1 Axes>"
      ]
     },
     "metadata": {},
     "output_type": "display_data"
    }
   ],
   "source": [
    "plot_confusion_matrix(y_true, y_pred)"
   ]
  }
 ],
 "metadata": {
  "kernelspec": {
   "display_name": "face_mask_det.python3.10",
   "language": "python",
   "name": "python3"
  },
  "language_info": {
   "codemirror_mode": {
    "name": "ipython",
    "version": 3
   },
   "file_extension": ".py",
   "mimetype": "text/x-python",
   "name": "python",
   "nbconvert_exporter": "python",
   "pygments_lexer": "ipython3",
   "version": "3.10.4"
  }
 },
 "nbformat": 4,
 "nbformat_minor": 2
}
